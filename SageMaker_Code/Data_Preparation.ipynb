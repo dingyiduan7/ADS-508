{
 "cells": [
  {
   "cell_type": "markdown",
   "metadata": {},
   "source": [
    "# Create Athena Database Schema"
   ]
  },
  {
   "cell_type": "code",
   "execution_count": 52,
   "metadata": {},
   "outputs": [],
   "source": [
    "import boto3\n",
    "import sagemaker\n",
    "\n",
    "sess = sagemaker.Session()\n",
    "bucket = sess.default_bucket()\n",
    "role = sagemaker.get_execution_role()\n",
    "region = boto3.Session().region_name"
   ]
  },
  {
   "cell_type": "markdown",
   "metadata": {},
   "source": [
    "# Import PyAthena"
   ]
  },
  {
   "cell_type": "code",
   "execution_count": 53,
   "metadata": {},
   "outputs": [],
   "source": [
    "from pyathena import connect"
   ]
  },
  {
   "cell_type": "markdown",
   "metadata": {},
   "source": [
    "# Set Private bucket"
   ]
  },
  {
   "cell_type": "code",
   "execution_count": 54,
   "metadata": {},
   "outputs": [],
   "source": [
    "s3_private_path = \"s3://ads508-team4-raw\""
   ]
  },
  {
   "cell_type": "markdown",
   "metadata": {},
   "source": [
    "# List files in the Private bucket"
   ]
  },
  {
   "cell_type": "code",
   "execution_count": 55,
   "metadata": {},
   "outputs": [
    {
     "name": "stdout",
     "output_type": "stream",
     "text": [
      "2022-03-19 18:39:22     691755 assets.csv\n",
      "2022-03-19 18:39:29    4819081 demographics.csv\n",
      "2022-03-19 18:39:36   14187619 plays.csv\n",
      "2022-03-19 18:39:21   32759612 psychographics.csv\n",
      "2022-03-19 18:39:42    1759323 users.csv\n"
     ]
    }
   ],
   "source": [
    "!aws s3 ls $s3_private_path"
   ]
  },
  {
   "cell_type": "markdown",
   "metadata": {},
   "source": [
    "# Create Athena Database"
   ]
  },
  {
   "cell_type": "code",
   "execution_count": 56,
   "metadata": {},
   "outputs": [],
   "source": [
    "database_name = \"ads508team4-finalproject\""
   ]
  },
  {
   "cell_type": "code",
   "execution_count": 57,
   "metadata": {},
   "outputs": [],
   "source": [
    "# Set S3 staging directory -- this is a temporary directory used for Athena queries\n",
    "s3_staging_dir = \"s3://{0}/athena/staging\".format(bucket)"
   ]
  },
  {
   "cell_type": "code",
   "execution_count": 58,
   "metadata": {},
   "outputs": [],
   "source": [
    "conn = connect(region_name=region, s3_staging_dir=s3_staging_dir)"
   ]
  },
  {
   "cell_type": "code",
   "execution_count": 59,
   "metadata": {},
   "outputs": [
    {
     "name": "stdout",
     "output_type": "stream",
     "text": [
      "CREATE DATABASE IF NOT EXISTS ads508team4-finalproject\n"
     ]
    }
   ],
   "source": [
    "statement = \"CREATE DATABASE IF NOT EXISTS {}\".format(database_name)\n",
    "print(statement)"
   ]
  },
  {
   "cell_type": "markdown",
   "metadata": {},
   "source": [
    "# Load and check for each files"
   ]
  },
  {
   "cell_type": "code",
   "execution_count": 60,
   "metadata": {},
   "outputs": [],
   "source": [
    "import pandas as pd\n",
    "\n",
    "s3_client = boto3.client(\"s3\")\n",
    "\n",
    "BUCKET='ads508-team4-raw'\n",
    "KEY_assets='assets.csv'\n",
    "KEY_demographics='demographics.csv'\n",
    "KEY_plays='plays.csv'\n",
    "KEY_psychographics='psychographics.csv'\n",
    "KEY_users='users.csv'\n",
    "\n",
    "response_assets = s3_client.get_object(Bucket=BUCKET, Key=KEY_assets)\n",
    "df_assets = pd.read_csv(response_assets.get(\"Body\"))\n",
    "\n",
    "response_demographics = s3_client.get_object(Bucket=BUCKET, Key=KEY_demographics)\n",
    "df_demographics = pd.read_csv(response_demographics.get(\"Body\"))\n",
    "\n",
    "response_plays = s3_client.get_object(Bucket=BUCKET, Key=KEY_plays)\n",
    "df_plays = pd.read_csv(response_plays.get(\"Body\"))\n",
    "\n",
    "response_psychographics = s3_client.get_object(Bucket=BUCKET, Key=KEY_psychographics)\n",
    "df_psychographics = pd.read_csv(response_psychographics.get(\"Body\"))\n",
    "\n",
    "response_users = s3_client.get_object(Bucket=BUCKET, Key=KEY_users)\n",
    "df_users = pd.read_csv(response_users.get(\"Body\"))"
   ]
  },
  {
   "cell_type": "code",
   "execution_count": 61,
   "metadata": {},
   "outputs": [
    {
     "data": {
      "text/html": [
       "<div>\n",
       "<style scoped>\n",
       "    .dataframe tbody tr th:only-of-type {\n",
       "        vertical-align: middle;\n",
       "    }\n",
       "\n",
       "    .dataframe tbody tr th {\n",
       "        vertical-align: top;\n",
       "    }\n",
       "\n",
       "    .dataframe thead th {\n",
       "        text-align: right;\n",
       "    }\n",
       "</style>\n",
       "<table border=\"1\" class=\"dataframe\">\n",
       "  <thead>\n",
       "    <tr style=\"text-align: right;\">\n",
       "      <th></th>\n",
       "      <th>show_type</th>\n",
       "      <th>genre</th>\n",
       "      <th>running_minutes</th>\n",
       "      <th>source_language</th>\n",
       "      <th>asset_id</th>\n",
       "      <th>season_id</th>\n",
       "      <th>series_id</th>\n",
       "      <th>studio_id</th>\n",
       "    </tr>\n",
       "  </thead>\n",
       "  <tbody>\n",
       "    <tr>\n",
       "      <th>0</th>\n",
       "      <td>Movies</td>\n",
       "      <td>Sci-Fi</td>\n",
       "      <td>146</td>\n",
       "      <td>English</td>\n",
       "      <td>1</td>\n",
       "      <td>NaN</td>\n",
       "      <td>NaN</td>\n",
       "      <td>325.0</td>\n",
       "    </tr>\n",
       "    <tr>\n",
       "      <th>1</th>\n",
       "      <td>TV</td>\n",
       "      <td>Documentary and Biography</td>\n",
       "      <td>43</td>\n",
       "      <td>English</td>\n",
       "      <td>2</td>\n",
       "      <td>4.0</td>\n",
       "      <td>5.0</td>\n",
       "      <td>7.0</td>\n",
       "    </tr>\n",
       "    <tr>\n",
       "      <th>2</th>\n",
       "      <td>TV</td>\n",
       "      <td>Reality</td>\n",
       "      <td>22</td>\n",
       "      <td>English</td>\n",
       "      <td>3</td>\n",
       "      <td>15.0</td>\n",
       "      <td>22.0</td>\n",
       "      <td>442.0</td>\n",
       "    </tr>\n",
       "    <tr>\n",
       "      <th>3</th>\n",
       "      <td>TV</td>\n",
       "      <td>Reality</td>\n",
       "      <td>22</td>\n",
       "      <td>English</td>\n",
       "      <td>4</td>\n",
       "      <td>15.0</td>\n",
       "      <td>22.0</td>\n",
       "      <td>442.0</td>\n",
       "    </tr>\n",
       "    <tr>\n",
       "      <th>4</th>\n",
       "      <td>TV</td>\n",
       "      <td>Reality</td>\n",
       "      <td>22</td>\n",
       "      <td>English</td>\n",
       "      <td>5</td>\n",
       "      <td>15.0</td>\n",
       "      <td>22.0</td>\n",
       "      <td>442.0</td>\n",
       "    </tr>\n",
       "  </tbody>\n",
       "</table>\n",
       "</div>"
      ],
      "text/plain": [
       "  show_type                      genre  running_minutes source_language  \\\n",
       "0    Movies                     Sci-Fi              146         English   \n",
       "1        TV  Documentary and Biography               43         English   \n",
       "2        TV                    Reality               22         English   \n",
       "3        TV                    Reality               22         English   \n",
       "4        TV                    Reality               22         English   \n",
       "\n",
       "   asset_id  season_id  series_id  studio_id  \n",
       "0         1        NaN        NaN      325.0  \n",
       "1         2        4.0        5.0        7.0  \n",
       "2         3       15.0       22.0      442.0  \n",
       "3         4       15.0       22.0      442.0  \n",
       "4         5       15.0       22.0      442.0  "
      ]
     },
     "execution_count": 61,
     "metadata": {},
     "output_type": "execute_result"
    }
   ],
   "source": [
    "df_assets.head()"
   ]
  },
  {
   "cell_type": "code",
   "execution_count": 62,
   "metadata": {},
   "outputs": [
    {
     "data": {
      "text/html": [
       "<div>\n",
       "<style scoped>\n",
       "    .dataframe tbody tr th:only-of-type {\n",
       "        vertical-align: middle;\n",
       "    }\n",
       "\n",
       "    .dataframe tbody tr th {\n",
       "        vertical-align: top;\n",
       "    }\n",
       "\n",
       "    .dataframe thead th {\n",
       "        text-align: right;\n",
       "    }\n",
       "</style>\n",
       "<table border=\"1\" class=\"dataframe\">\n",
       "  <thead>\n",
       "    <tr style=\"text-align: right;\">\n",
       "      <th></th>\n",
       "      <th>user_id</th>\n",
       "      <th>platform</th>\n",
       "      <th>level_1</th>\n",
       "      <th>level_2</th>\n",
       "      <th>level_3</th>\n",
       "      <th>confidence_score</th>\n",
       "    </tr>\n",
       "  </thead>\n",
       "  <tbody>\n",
       "    <tr>\n",
       "      <th>0</th>\n",
       "      <td>1.720000e+11</td>\n",
       "      <td>android</td>\n",
       "      <td>Demographics</td>\n",
       "      <td>Income</td>\n",
       "      <td>Medium</td>\n",
       "      <td>1.0</td>\n",
       "    </tr>\n",
       "    <tr>\n",
       "      <th>1</th>\n",
       "      <td>3.260000e+11</td>\n",
       "      <td>android</td>\n",
       "      <td>Demographics</td>\n",
       "      <td>Income</td>\n",
       "      <td>Medium</td>\n",
       "      <td>1.0</td>\n",
       "    </tr>\n",
       "    <tr>\n",
       "      <th>2</th>\n",
       "      <td>1.717987e+10</td>\n",
       "      <td>android</td>\n",
       "      <td>Demographics</td>\n",
       "      <td>Income</td>\n",
       "      <td>Medium</td>\n",
       "      <td>1.0</td>\n",
       "    </tr>\n",
       "    <tr>\n",
       "      <th>3</th>\n",
       "      <td>9.960000e+11</td>\n",
       "      <td>android</td>\n",
       "      <td>Demographics</td>\n",
       "      <td>Income</td>\n",
       "      <td>Low</td>\n",
       "      <td>1.0</td>\n",
       "    </tr>\n",
       "    <tr>\n",
       "      <th>4</th>\n",
       "      <td>1.610000e+12</td>\n",
       "      <td>android</td>\n",
       "      <td>Demographics</td>\n",
       "      <td>Income</td>\n",
       "      <td>Low</td>\n",
       "      <td>1.0</td>\n",
       "    </tr>\n",
       "  </tbody>\n",
       "</table>\n",
       "</div>"
      ],
      "text/plain": [
       "        user_id platform       level_1 level_2 level_3  confidence_score\n",
       "0  1.720000e+11  android  Demographics  Income  Medium               1.0\n",
       "1  3.260000e+11  android  Demographics  Income  Medium               1.0\n",
       "2  1.717987e+10  android  Demographics  Income  Medium               1.0\n",
       "3  9.960000e+11  android  Demographics  Income     Low               1.0\n",
       "4  1.610000e+12  android  Demographics  Income     Low               1.0"
      ]
     },
     "execution_count": 62,
     "metadata": {},
     "output_type": "execute_result"
    }
   ],
   "source": [
    "df_demographics.head()"
   ]
  },
  {
   "cell_type": "code",
   "execution_count": 63,
   "metadata": {},
   "outputs": [
    {
     "data": {
      "text/html": [
       "<div>\n",
       "<style scoped>\n",
       "    .dataframe tbody tr th:only-of-type {\n",
       "        vertical-align: middle;\n",
       "    }\n",
       "\n",
       "    .dataframe tbody tr th {\n",
       "        vertical-align: top;\n",
       "    }\n",
       "\n",
       "    .dataframe thead th {\n",
       "        text-align: right;\n",
       "    }\n",
       "</style>\n",
       "<table border=\"1\" class=\"dataframe\">\n",
       "  <thead>\n",
       "    <tr style=\"text-align: right;\">\n",
       "      <th></th>\n",
       "      <th>user_id</th>\n",
       "      <th>platform</th>\n",
       "      <th>asset_id</th>\n",
       "      <th>minutes_viewed</th>\n",
       "    </tr>\n",
       "  </thead>\n",
       "  <tbody>\n",
       "    <tr>\n",
       "      <th>0</th>\n",
       "      <td>7.650000e+11</td>\n",
       "      <td>android</td>\n",
       "      <td>13758</td>\n",
       "      <td>28</td>\n",
       "    </tr>\n",
       "    <tr>\n",
       "      <th>1</th>\n",
       "      <td>4.120000e+11</td>\n",
       "      <td>android</td>\n",
       "      <td>13825</td>\n",
       "      <td>28</td>\n",
       "    </tr>\n",
       "    <tr>\n",
       "      <th>2</th>\n",
       "      <td>1.500000e+12</td>\n",
       "      <td>iOS</td>\n",
       "      <td>93</td>\n",
       "      <td>105</td>\n",
       "    </tr>\n",
       "    <tr>\n",
       "      <th>3</th>\n",
       "      <td>4.900000e+11</td>\n",
       "      <td>android</td>\n",
       "      <td>6226</td>\n",
       "      <td>7</td>\n",
       "    </tr>\n",
       "    <tr>\n",
       "      <th>4</th>\n",
       "      <td>6.871948e+10</td>\n",
       "      <td>android</td>\n",
       "      <td>3762</td>\n",
       "      <td>1</td>\n",
       "    </tr>\n",
       "  </tbody>\n",
       "</table>\n",
       "</div>"
      ],
      "text/plain": [
       "        user_id platform  asset_id  minutes_viewed\n",
       "0  7.650000e+11  android     13758              28\n",
       "1  4.120000e+11  android     13825              28\n",
       "2  1.500000e+12      iOS        93             105\n",
       "3  4.900000e+11  android      6226               7\n",
       "4  6.871948e+10  android      3762               1"
      ]
     },
     "execution_count": 63,
     "metadata": {},
     "output_type": "execute_result"
    }
   ],
   "source": [
    "df_plays.head()"
   ]
  },
  {
   "cell_type": "code",
   "execution_count": 64,
   "metadata": {},
   "outputs": [
    {
     "data": {
      "text/html": [
       "<div>\n",
       "<style scoped>\n",
       "    .dataframe tbody tr th:only-of-type {\n",
       "        vertical-align: middle;\n",
       "    }\n",
       "\n",
       "    .dataframe tbody tr th {\n",
       "        vertical-align: top;\n",
       "    }\n",
       "\n",
       "    .dataframe thead th {\n",
       "        text-align: right;\n",
       "    }\n",
       "</style>\n",
       "<table border=\"1\" class=\"dataframe\">\n",
       "  <thead>\n",
       "    <tr style=\"text-align: right;\">\n",
       "      <th></th>\n",
       "      <th>user_id</th>\n",
       "      <th>platform</th>\n",
       "      <th>level_1</th>\n",
       "      <th>level_2</th>\n",
       "      <th>level_3</th>\n",
       "      <th>confidence_score</th>\n",
       "    </tr>\n",
       "  </thead>\n",
       "  <tbody>\n",
       "    <tr>\n",
       "      <th>0</th>\n",
       "      <td>3.520000e+11</td>\n",
       "      <td>android</td>\n",
       "      <td>Psychographics</td>\n",
       "      <td>Social Media Fans</td>\n",
       "      <td>\\\"\\\"</td>\n",
       "      <td>1.00</td>\n",
       "    </tr>\n",
       "    <tr>\n",
       "      <th>1</th>\n",
       "      <td>5.153961e+10</td>\n",
       "      <td>android</td>\n",
       "      <td>Psychographics</td>\n",
       "      <td>Social Media Fans</td>\n",
       "      <td>\\\"\\\"</td>\n",
       "      <td>1.00</td>\n",
       "    </tr>\n",
       "    <tr>\n",
       "      <th>2</th>\n",
       "      <td>1.320000e+12</td>\n",
       "      <td>android</td>\n",
       "      <td>Psychographics</td>\n",
       "      <td>Social Media Fans</td>\n",
       "      <td>\\\"\\\"</td>\n",
       "      <td>1.00</td>\n",
       "    </tr>\n",
       "    <tr>\n",
       "      <th>3</th>\n",
       "      <td>1.370000e+11</td>\n",
       "      <td>android</td>\n",
       "      <td>Psychographics</td>\n",
       "      <td>Movies Lovers</td>\n",
       "      <td>Romance Movies Fans</td>\n",
       "      <td>0.56</td>\n",
       "    </tr>\n",
       "    <tr>\n",
       "      <th>4</th>\n",
       "      <td>9.280000e+11</td>\n",
       "      <td>android</td>\n",
       "      <td>Psychographics</td>\n",
       "      <td>Movies Lovers</td>\n",
       "      <td>Comedy Movies Fans</td>\n",
       "      <td>0.80</td>\n",
       "    </tr>\n",
       "  </tbody>\n",
       "</table>\n",
       "</div>"
      ],
      "text/plain": [
       "        user_id platform         level_1            level_2  \\\n",
       "0  3.520000e+11  android  Psychographics  Social Media Fans   \n",
       "1  5.153961e+10  android  Psychographics  Social Media Fans   \n",
       "2  1.320000e+12  android  Psychographics  Social Media Fans   \n",
       "3  1.370000e+11  android  Psychographics      Movies Lovers   \n",
       "4  9.280000e+11  android  Psychographics      Movies Lovers   \n",
       "\n",
       "               level_3  confidence_score  \n",
       "0                 \\\"\\\"              1.00  \n",
       "1                 \\\"\\\"              1.00  \n",
       "2                 \\\"\\\"              1.00  \n",
       "3  Romance Movies Fans              0.56  \n",
       "4   Comedy Movies Fans              0.80  "
      ]
     },
     "execution_count": 64,
     "metadata": {},
     "output_type": "execute_result"
    }
   ],
   "source": [
    "df_psychographics.head()"
   ]
  },
  {
   "cell_type": "code",
   "execution_count": 65,
   "metadata": {},
   "outputs": [
    {
     "data": {
      "text/html": [
       "<div>\n",
       "<style scoped>\n",
       "    .dataframe tbody tr th:only-of-type {\n",
       "        vertical-align: middle;\n",
       "    }\n",
       "\n",
       "    .dataframe tbody tr th {\n",
       "        vertical-align: top;\n",
       "    }\n",
       "\n",
       "    .dataframe thead th {\n",
       "        text-align: right;\n",
       "    }\n",
       "</style>\n",
       "<table border=\"1\" class=\"dataframe\">\n",
       "  <thead>\n",
       "    <tr style=\"text-align: right;\">\n",
       "      <th></th>\n",
       "      <th>user_id</th>\n",
       "      <th>country_code</th>\n",
       "    </tr>\n",
       "  </thead>\n",
       "  <tbody>\n",
       "    <tr>\n",
       "      <th>0</th>\n",
       "      <td>7.816840e+11</td>\n",
       "      <td>ID</td>\n",
       "    </tr>\n",
       "    <tr>\n",
       "      <th>1</th>\n",
       "      <td>7.816840e+11</td>\n",
       "      <td>MY</td>\n",
       "    </tr>\n",
       "    <tr>\n",
       "      <th>2</th>\n",
       "      <td>7.816840e+11</td>\n",
       "      <td>ID</td>\n",
       "    </tr>\n",
       "    <tr>\n",
       "      <th>3</th>\n",
       "      <td>7.816840e+11</td>\n",
       "      <td>ID</td>\n",
       "    </tr>\n",
       "    <tr>\n",
       "      <th>4</th>\n",
       "      <td>7.816840e+11</td>\n",
       "      <td>ID</td>\n",
       "    </tr>\n",
       "  </tbody>\n",
       "</table>\n",
       "</div>"
      ],
      "text/plain": [
       "        user_id country_code\n",
       "0  7.816840e+11           ID\n",
       "1  7.816840e+11           MY\n",
       "2  7.816840e+11           ID\n",
       "3  7.816840e+11           ID\n",
       "4  7.816840e+11           ID"
      ]
     },
     "execution_count": 65,
     "metadata": {},
     "output_type": "execute_result"
    }
   ],
   "source": [
    "df_users.head()"
   ]
  },
  {
   "cell_type": "code",
   "execution_count": null,
   "metadata": {},
   "outputs": [],
   "source": []
  }
 ],
 "metadata": {
  "instance_type": "ml.t3.medium",
  "kernelspec": {
   "display_name": "Python 3 (Data Science)",
   "language": "python",
   "name": "python3__SAGEMAKER_INTERNAL__arn:aws:sagemaker:us-east-1:081325390199:image/datascience-1.0"
  },
  "language_info": {
   "codemirror_mode": {
    "name": "ipython",
    "version": 3
   },
   "file_extension": ".py",
   "mimetype": "text/x-python",
   "name": "python",
   "nbconvert_exporter": "python",
   "pygments_lexer": "ipython3",
   "version": "3.7.10"
  }
 },
 "nbformat": 4,
 "nbformat_minor": 4
}
