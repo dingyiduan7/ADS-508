{
 "cells": [
  {
   "cell_type": "markdown",
   "metadata": {},
   "source": [
    "# Load required libraries"
   ]
  },
  {
   "cell_type": "code",
   "execution_count": 1,
   "metadata": {},
   "outputs": [],
   "source": [
    "import pandas as pd\n",
    "import numpy as np\n",
    "import boto3\n",
    "import sagemaker\n",
    "\n",
    "sess = sagemaker.Session()\n",
    "bucket = sess.default_bucket()\n",
    "role = sagemaker.get_execution_role()\n",
    "region = boto3.Session().region_name"
   ]
  },
  {
   "cell_type": "markdown",
   "metadata": {},
   "source": [
    "# Download the datasets from private S3 bucket"
   ]
  },
  {
   "cell_type": "code",
   "execution_count": 2,
   "metadata": {},
   "outputs": [
    {
     "name": "stdout",
     "output_type": "stream",
     "text": [
      "download: s3://ads508-team4-master/df_psych.csv to data/df_psych.csv\n"
     ]
    }
   ],
   "source": [
    "!aws s3 cp 's3://ads508-team4-master/df_psych.csv' ./data/"
   ]
  },
  {
   "cell_type": "code",
   "execution_count": 3,
   "metadata": {},
   "outputs": [
    {
     "data": {
      "text/html": [
       "<div>\n",
       "<style scoped>\n",
       "    .dataframe tbody tr th:only-of-type {\n",
       "        vertical-align: middle;\n",
       "    }\n",
       "\n",
       "    .dataframe tbody tr th {\n",
       "        vertical-align: top;\n",
       "    }\n",
       "\n",
       "    .dataframe thead th {\n",
       "        text-align: right;\n",
       "    }\n",
       "</style>\n",
       "<table border=\"1\" class=\"dataframe\">\n",
       "  <thead>\n",
       "    <tr style=\"text-align: right;\">\n",
       "      <th></th>\n",
       "      <th>user_id</th>\n",
       "      <th>platform_x</th>\n",
       "      <th>level_1</th>\n",
       "      <th>level_2</th>\n",
       "      <th>level_3</th>\n",
       "      <th>confidence_score</th>\n",
       "      <th>country_code</th>\n",
       "      <th>asset_id</th>\n",
       "      <th>minutes_viewed</th>\n",
       "      <th>showtype</th>\n",
       "      <th>genre</th>\n",
       "      <th>running_minutes</th>\n",
       "      <th>source_language</th>\n",
       "      <th>season_id</th>\n",
       "      <th>series_id</th>\n",
       "      <th>studio_id</th>\n",
       "      <th>minutes_under_2</th>\n",
       "    </tr>\n",
       "  </thead>\n",
       "  <tbody>\n",
       "    <tr>\n",
       "      <th>0</th>\n",
       "      <td>8.589935e+10</td>\n",
       "      <td>web-embed</td>\n",
       "      <td>Psychographics</td>\n",
       "      <td>Movies Lovers</td>\n",
       "      <td>Horror Movies Fans</td>\n",
       "      <td>0.07</td>\n",
       "      <td>ID</td>\n",
       "      <td>10377</td>\n",
       "      <td>1</td>\n",
       "      <td>Movies</td>\n",
       "      <td>Horror</td>\n",
       "      <td>87</td>\n",
       "      <td>Indonesian</td>\n",
       "      <td>NaN</td>\n",
       "      <td>NaN</td>\n",
       "      <td>350.0</td>\n",
       "      <td>True</td>\n",
       "    </tr>\n",
       "    <tr>\n",
       "      <th>1</th>\n",
       "      <td>8.589935e+10</td>\n",
       "      <td>web-embed</td>\n",
       "      <td>Psychographics</td>\n",
       "      <td>Movies Lovers</td>\n",
       "      <td>Indonesian Movies Fans</td>\n",
       "      <td>0.03</td>\n",
       "      <td>ID</td>\n",
       "      <td>10377</td>\n",
       "      <td>1</td>\n",
       "      <td>Movies</td>\n",
       "      <td>Horror</td>\n",
       "      <td>87</td>\n",
       "      <td>Indonesian</td>\n",
       "      <td>NaN</td>\n",
       "      <td>NaN</td>\n",
       "      <td>350.0</td>\n",
       "      <td>True</td>\n",
       "    </tr>\n",
       "    <tr>\n",
       "      <th>2</th>\n",
       "      <td>2.576980e+10</td>\n",
       "      <td>android</td>\n",
       "      <td>Psychographics</td>\n",
       "      <td>Movies Lovers</td>\n",
       "      <td>Romance Movies Fans</td>\n",
       "      <td>0.52</td>\n",
       "      <td>ID</td>\n",
       "      <td>10377</td>\n",
       "      <td>3</td>\n",
       "      <td>Movies</td>\n",
       "      <td>Horror</td>\n",
       "      <td>87</td>\n",
       "      <td>Indonesian</td>\n",
       "      <td>NaN</td>\n",
       "      <td>NaN</td>\n",
       "      <td>350.0</td>\n",
       "      <td>False</td>\n",
       "    </tr>\n",
       "    <tr>\n",
       "      <th>3</th>\n",
       "      <td>2.576980e+10</td>\n",
       "      <td>android</td>\n",
       "      <td>Psychographics</td>\n",
       "      <td>TV Lovers</td>\n",
       "      <td>Kids TV Fans</td>\n",
       "      <td>0.61</td>\n",
       "      <td>ID</td>\n",
       "      <td>10377</td>\n",
       "      <td>3</td>\n",
       "      <td>Movies</td>\n",
       "      <td>Horror</td>\n",
       "      <td>87</td>\n",
       "      <td>Indonesian</td>\n",
       "      <td>NaN</td>\n",
       "      <td>NaN</td>\n",
       "      <td>350.0</td>\n",
       "      <td>False</td>\n",
       "    </tr>\n",
       "    <tr>\n",
       "      <th>4</th>\n",
       "      <td>2.576980e+10</td>\n",
       "      <td>android</td>\n",
       "      <td>Psychographics</td>\n",
       "      <td>TV Lovers</td>\n",
       "      <td>Drama TV Fans</td>\n",
       "      <td>0.60</td>\n",
       "      <td>ID</td>\n",
       "      <td>10377</td>\n",
       "      <td>3</td>\n",
       "      <td>Movies</td>\n",
       "      <td>Horror</td>\n",
       "      <td>87</td>\n",
       "      <td>Indonesian</td>\n",
       "      <td>NaN</td>\n",
       "      <td>NaN</td>\n",
       "      <td>350.0</td>\n",
       "      <td>False</td>\n",
       "    </tr>\n",
       "    <tr>\n",
       "      <th>...</th>\n",
       "      <td>...</td>\n",
       "      <td>...</td>\n",
       "      <td>...</td>\n",
       "      <td>...</td>\n",
       "      <td>...</td>\n",
       "      <td>...</td>\n",
       "      <td>...</td>\n",
       "      <td>...</td>\n",
       "      <td>...</td>\n",
       "      <td>...</td>\n",
       "      <td>...</td>\n",
       "      <td>...</td>\n",
       "      <td>...</td>\n",
       "      <td>...</td>\n",
       "      <td>...</td>\n",
       "      <td>...</td>\n",
       "      <td>...</td>\n",
       "    </tr>\n",
       "    <tr>\n",
       "      <th>95</th>\n",
       "      <td>7.700000e+01</td>\n",
       "      <td>android</td>\n",
       "      <td>Psychographics</td>\n",
       "      <td>Movies Lovers</td>\n",
       "      <td>Korean Movies Fans</td>\n",
       "      <td>0.54</td>\n",
       "      <td>ID</td>\n",
       "      <td>10377</td>\n",
       "      <td>12</td>\n",
       "      <td>Movies</td>\n",
       "      <td>Horror</td>\n",
       "      <td>87</td>\n",
       "      <td>Indonesian</td>\n",
       "      <td>NaN</td>\n",
       "      <td>NaN</td>\n",
       "      <td>350.0</td>\n",
       "      <td>False</td>\n",
       "    </tr>\n",
       "    <tr>\n",
       "      <th>96</th>\n",
       "      <td>7.700000e+01</td>\n",
       "      <td>android</td>\n",
       "      <td>Psychographics</td>\n",
       "      <td>Movies Lovers</td>\n",
       "      <td>English Movies Fans</td>\n",
       "      <td>0.46</td>\n",
       "      <td>ID</td>\n",
       "      <td>10377</td>\n",
       "      <td>12</td>\n",
       "      <td>Movies</td>\n",
       "      <td>Horror</td>\n",
       "      <td>87</td>\n",
       "      <td>Indonesian</td>\n",
       "      <td>NaN</td>\n",
       "      <td>NaN</td>\n",
       "      <td>350.0</td>\n",
       "      <td>False</td>\n",
       "    </tr>\n",
       "    <tr>\n",
       "      <th>97</th>\n",
       "      <td>7.700000e+01</td>\n",
       "      <td>android</td>\n",
       "      <td>Psychographics</td>\n",
       "      <td>TV Lovers</td>\n",
       "      <td>English TV Fans</td>\n",
       "      <td>0.40</td>\n",
       "      <td>ID</td>\n",
       "      <td>10377</td>\n",
       "      <td>12</td>\n",
       "      <td>Movies</td>\n",
       "      <td>Horror</td>\n",
       "      <td>87</td>\n",
       "      <td>Indonesian</td>\n",
       "      <td>NaN</td>\n",
       "      <td>NaN</td>\n",
       "      <td>350.0</td>\n",
       "      <td>False</td>\n",
       "    </tr>\n",
       "    <tr>\n",
       "      <th>98</th>\n",
       "      <td>6.871948e+10</td>\n",
       "      <td>android</td>\n",
       "      <td>Psychographics</td>\n",
       "      <td>TV Lovers</td>\n",
       "      <td>English TV Fans</td>\n",
       "      <td>0.29</td>\n",
       "      <td>ID</td>\n",
       "      <td>10377</td>\n",
       "      <td>3</td>\n",
       "      <td>Movies</td>\n",
       "      <td>Horror</td>\n",
       "      <td>87</td>\n",
       "      <td>Indonesian</td>\n",
       "      <td>NaN</td>\n",
       "      <td>NaN</td>\n",
       "      <td>350.0</td>\n",
       "      <td>False</td>\n",
       "    </tr>\n",
       "    <tr>\n",
       "      <th>99</th>\n",
       "      <td>6.871948e+10</td>\n",
       "      <td>android</td>\n",
       "      <td>Psychographics</td>\n",
       "      <td>Travellers</td>\n",
       "      <td>Local Commuters</td>\n",
       "      <td>0.17</td>\n",
       "      <td>ID</td>\n",
       "      <td>10377</td>\n",
       "      <td>3</td>\n",
       "      <td>Movies</td>\n",
       "      <td>Horror</td>\n",
       "      <td>87</td>\n",
       "      <td>Indonesian</td>\n",
       "      <td>NaN</td>\n",
       "      <td>NaN</td>\n",
       "      <td>350.0</td>\n",
       "      <td>False</td>\n",
       "    </tr>\n",
       "  </tbody>\n",
       "</table>\n",
       "<p>100 rows × 17 columns</p>\n",
       "</div>"
      ],
      "text/plain": [
       "         user_id platform_x         level_1        level_2  \\\n",
       "0   8.589935e+10  web-embed  Psychographics  Movies Lovers   \n",
       "1   8.589935e+10  web-embed  Psychographics  Movies Lovers   \n",
       "2   2.576980e+10    android  Psychographics  Movies Lovers   \n",
       "3   2.576980e+10    android  Psychographics      TV Lovers   \n",
       "4   2.576980e+10    android  Psychographics      TV Lovers   \n",
       "..           ...        ...             ...            ...   \n",
       "95  7.700000e+01    android  Psychographics  Movies Lovers   \n",
       "96  7.700000e+01    android  Psychographics  Movies Lovers   \n",
       "97  7.700000e+01    android  Psychographics      TV Lovers   \n",
       "98  6.871948e+10    android  Psychographics      TV Lovers   \n",
       "99  6.871948e+10    android  Psychographics     Travellers   \n",
       "\n",
       "                   level_3  confidence_score country_code  asset_id  \\\n",
       "0       Horror Movies Fans              0.07           ID     10377   \n",
       "1   Indonesian Movies Fans              0.03           ID     10377   \n",
       "2      Romance Movies Fans              0.52           ID     10377   \n",
       "3             Kids TV Fans              0.61           ID     10377   \n",
       "4            Drama TV Fans              0.60           ID     10377   \n",
       "..                     ...               ...          ...       ...   \n",
       "95      Korean Movies Fans              0.54           ID     10377   \n",
       "96     English Movies Fans              0.46           ID     10377   \n",
       "97         English TV Fans              0.40           ID     10377   \n",
       "98         English TV Fans              0.29           ID     10377   \n",
       "99         Local Commuters              0.17           ID     10377   \n",
       "\n",
       "    minutes_viewed showtype   genre  running_minutes source_language  \\\n",
       "0                1   Movies  Horror               87      Indonesian   \n",
       "1                1   Movies  Horror               87      Indonesian   \n",
       "2                3   Movies  Horror               87      Indonesian   \n",
       "3                3   Movies  Horror               87      Indonesian   \n",
       "4                3   Movies  Horror               87      Indonesian   \n",
       "..             ...      ...     ...              ...             ...   \n",
       "95              12   Movies  Horror               87      Indonesian   \n",
       "96              12   Movies  Horror               87      Indonesian   \n",
       "97              12   Movies  Horror               87      Indonesian   \n",
       "98               3   Movies  Horror               87      Indonesian   \n",
       "99               3   Movies  Horror               87      Indonesian   \n",
       "\n",
       "    season_id  series_id  studio_id  minutes_under_2  \n",
       "0         NaN        NaN      350.0             True  \n",
       "1         NaN        NaN      350.0             True  \n",
       "2         NaN        NaN      350.0            False  \n",
       "3         NaN        NaN      350.0            False  \n",
       "4         NaN        NaN      350.0            False  \n",
       "..        ...        ...        ...              ...  \n",
       "95        NaN        NaN      350.0            False  \n",
       "96        NaN        NaN      350.0            False  \n",
       "97        NaN        NaN      350.0            False  \n",
       "98        NaN        NaN      350.0            False  \n",
       "99        NaN        NaN      350.0            False  \n",
       "\n",
       "[100 rows x 17 columns]"
      ]
     },
     "execution_count": 3,
     "metadata": {},
     "output_type": "execute_result"
    }
   ],
   "source": [
    "import csv\n",
    "\n",
    "df_psych = pd.read_csv(\n",
    "    \"./data/df_psych.csv\",\n",
    "    delimiter=\",\",\n",
    "    quoting=csv.QUOTE_NONE,\n",
    ")\n",
    "df_psych = df_psych.iloc[:,1:]\n",
    "df_psych.head(100)"
   ]
  },
  {
   "cell_type": "markdown",
   "metadata": {},
   "source": [
    "# Clean up missing values and outliers\n",
    "\n",
    "## Missing values first\n",
    "\n",
    "Recall that we have some missing values in the dataset"
   ]
  },
  {
   "cell_type": "code",
   "execution_count": 4,
   "metadata": {},
   "outputs": [
    {
     "data": {
      "text/plain": [
       "user_id                  0\n",
       "platform_x               0\n",
       "level_1                  0\n",
       "level_2                  0\n",
       "level_3               4850\n",
       "confidence_score         0\n",
       "country_code             0\n",
       "asset_id                 0\n",
       "minutes_viewed           0\n",
       "showtype                 0\n",
       "genre                    5\n",
       "running_minutes          0\n",
       "source_language        701\n",
       "season_id           146311\n",
       "series_id           146311\n",
       "studio_id              300\n",
       "minutes_under_2          0\n",
       "dtype: int64"
      ]
     },
     "execution_count": 4,
     "metadata": {},
     "output_type": "execute_result"
    }
   ],
   "source": [
    "df_psych.isnull().sum()"
   ]
  },
  {
   "cell_type": "markdown",
   "metadata": {},
   "source": [
    "It occurs to us that some records don't have genres so we remove those specific records."
   ]
  },
  {
   "cell_type": "code",
   "execution_count": 5,
   "metadata": {},
   "outputs": [
    {
     "name": "stdout",
     "output_type": "stream",
     "text": [
      "\n",
      "\n"
     ]
    }
   ],
   "source": [
    "df_psych = df_psych.dropna(subset=['genre'])\n",
    "df_psych.isnull().sum()\n",
    "print('\\n')"
   ]
  },
  {
   "cell_type": "markdown",
   "metadata": {},
   "source": [
    "We are going to see which studios are missing the source language."
   ]
  },
  {
   "cell_type": "code",
   "execution_count": 6,
   "metadata": {},
   "outputs": [
    {
     "name": "stdout",
     "output_type": "stream",
     "text": [
      "[229. 321.  10. 301.  79. 442. 373.  73. 127. 390.  69. 226. 170. 111.\n",
      " 241. 447.]\n"
     ]
    }
   ],
   "source": [
    "df1 = df_psych[['studio_id','source_language']]\n",
    "df2 = df1.loc[df1['source_language'].isna()]\n",
    "print(df2['studio_id'].unique())"
   ]
  },
  {
   "cell_type": "code",
   "execution_count": 7,
   "metadata": {},
   "outputs": [
    {
     "data": {
      "text/plain": [
       "studio_id\n",
       "10.0     2\n",
       "69.0     1\n",
       "73.0     0\n",
       "79.0     0\n",
       "111.0    0\n",
       "127.0    1\n",
       "170.0    1\n",
       "226.0    2\n",
       "229.0    1\n",
       "241.0    0\n",
       "301.0    0\n",
       "321.0    0\n",
       "373.0    0\n",
       "390.0    1\n",
       "442.0    0\n",
       "447.0    1\n",
       "Name: source_language, dtype: int64"
      ]
     },
     "execution_count": 7,
     "metadata": {},
     "output_type": "execute_result"
    }
   ],
   "source": [
    "df1[df1['studio_id'].isin([229., 321.,  10., 301.,  79., 442., 373.,  73., 127., 390.,  69.,\n",
    "       226., 170., 111., 241., 447.])].groupby('studio_id')['source_language'].nunique()"
   ]
  },
  {
   "cell_type": "markdown",
   "metadata": {},
   "source": [
    "For the studios that are missing source language, there can be no language, one language or two languages. To avoid confusion, we will remove records with missing studio_id and source_language."
   ]
  },
  {
   "cell_type": "code",
   "execution_count": 8,
   "metadata": {},
   "outputs": [
    {
     "data": {
      "text/plain": [
       "user_id                  0\n",
       "platform_x               0\n",
       "level_1                  0\n",
       "level_2                  0\n",
       "level_3               4839\n",
       "confidence_score         0\n",
       "country_code             0\n",
       "asset_id                 0\n",
       "minutes_viewed           0\n",
       "showtype                 0\n",
       "genre                    0\n",
       "running_minutes          0\n",
       "source_language          0\n",
       "season_id           145653\n",
       "series_id           145653\n",
       "studio_id                0\n",
       "minutes_under_2          0\n",
       "dtype: int64"
      ]
     },
     "execution_count": 8,
     "metadata": {},
     "output_type": "execute_result"
    }
   ],
   "source": [
    "df_psych = df_psych.dropna(subset=['studio_id','source_language'])\n",
    "df_psych.isnull().sum()"
   ]
  },
  {
   "cell_type": "markdown",
   "metadata": {},
   "source": [
    "We can see that season_id and series_id have euqal amount of records and recall the showtype in the dataset has only 2 types."
   ]
  },
  {
   "cell_type": "code",
   "execution_count": 9,
   "metadata": {},
   "outputs": [
    {
     "data": {
      "image/png": "[encoded data removed]",
      "text/plain": [
       "<Figure size 432x288 with 1 Axes>"
      ]
     },
     "metadata": {
      "needs_background": "light"
     },
     "output_type": "display_data"
    }
   ],
   "source": [
    "import matplotlib.pyplot as plt\n",
    "\n",
    "plt.hist(df_psych['showtype'])\n",
    "plt.xlabel(\"Show Types\")\n",
    "plt.ylabel(\"Records\")\n",
    "plt.title(\"Distribution of showtype\")\n",
    "plt.show()"
   ]
  },
  {
   "cell_type": "code",
   "execution_count": 10,
   "metadata": {},
   "outputs": [],
   "source": [
    "df1 = df_psych[['showtype','season_id',\"series_id\"]]\n",
    "df2 = df1.loc[(df1['season_id'].isna()) & (df1['series_id'].isna())]"
   ]
  },
  {
   "cell_type": "code",
   "execution_count": 11,
   "metadata": {},
   "outputs": [
    {
     "data": {
      "text/plain": [
       "showtype\n",
       "Movies    1\n",
       "Name: season_id, dtype: int64"
      ]
     },
     "execution_count": 11,
     "metadata": {},
     "output_type": "execute_result"
    }
   ],
   "source": [
    "df2.groupby('showtype')['season_id'].nunique()"
   ]
  },
  {
   "cell_type": "code",
   "execution_count": 12,
   "metadata": {},
   "outputs": [
    {
     "data": {
      "text/plain": [
       "showtype\n",
       "Movies    1\n",
       "Name: series_id, dtype: int64"
      ]
     },
     "execution_count": 12,
     "metadata": {},
     "output_type": "execute_result"
    }
   ],
   "source": [
    "df2.groupby('showtype')['series_id'].nunique()"
   ]
  },
  {
   "cell_type": "markdown",
   "metadata": {},
   "source": [
    "This means that as long as we have valid season_id and series_id, the showtype must be TV shows while those values would be nulls for Movies.\n",
    "Therefore, there is no need to keep season_id and series_id since they are directly correlated to showtype. So we remove the two columns."
   ]
  },
  {
   "cell_type": "code",
   "execution_count": 13,
   "metadata": {},
   "outputs": [
    {
     "data": {
      "text/plain": [
       "user_id                0\n",
       "platform_x             0\n",
       "level_1                0\n",
       "level_2                0\n",
       "level_3             4839\n",
       "confidence_score       0\n",
       "country_code           0\n",
       "asset_id               0\n",
       "minutes_viewed         0\n",
       "showtype               0\n",
       "genre                  0\n",
       "running_minutes        0\n",
       "source_language        0\n",
       "studio_id              0\n",
       "minutes_under_2        0\n",
       "dtype: int64"
      ]
     },
     "execution_count": 13,
     "metadata": {},
     "output_type": "execute_result"
    }
   ],
   "source": [
    "df_psych = df_psych.drop(['season_id', 'series_id'], axis=1)\n",
    "df_psych.isnull().sum()"
   ]
  },
  {
   "cell_type": "code",
   "execution_count": 14,
   "metadata": {},
   "outputs": [
    {
     "data": {
      "text/plain": [
       "array(['Horror Movies Fans', 'Indonesian Movies Fans',\n",
       "       'Romance Movies Fans', 'Kids TV Fans', 'Drama TV Fans',\n",
       "       'English TV Fans', 'Sports TV Fans', 'Malay TV Fans',\n",
       "       'English Movies Fans', 'High Data Users',\n",
       "       'Extreme Sports Movies Fans', 'Reality TV Fans', 'Comedy TV Fans',\n",
       "       'Action and Adventure TV Fans', 'Comedy Movies Fans', nan,\n",
       "       'Action and Adventure Movies Fans', 'Kids Movies Fans',\n",
       "       'Local Commuters', 'Indonesian TV Fans', 'Thriller Movies Fans',\n",
       "       'Korean TV Fans', 'Korean Movies Fans', 'Sci-Fi Movies Fans',\n",
       "       'Drama Movies Fans', 'player', 'Malay Movies Fans',\n",
       "       'Anime TV Fans', 'Fantasy Movies Fans', 'Family Movies Fans',\n",
       "       '\"\"\"\"\"\"\"\\\\\"\"\"\"\"\"\"\"\\\\\"\"\"\"\"\"\"\"\"\"\"\"\"\"\"', 'Japanese TV Fans', 'casual',\n",
       "       'Romance TV Fans', 'Japanese Movies Fans', 'Anime Movies Fans',\n",
       "       'Chinese Movies Fans', 'Thai Movies Fans', 'Horror TV Fans',\n",
       "       'Crime and Mystery Movies Fans', 'Hindi Movies Fans',\n",
       "       'Turkish Movies Fans', 'Tagalog Movies Fans', 'Tagalog TV Fans',\n",
       "       'Vietnamese Movies Fans', 'French Movies Fans', 'addict',\n",
       "       'Downloaders', 'Lifestyle and Fashion Movies Fans',\n",
       "       'Reality Movies Fans', 'International Travellers',\n",
       "       'Chinese TV Fans', 'Religion and Faith TV Fans',\n",
       "       'Central Khmer Movies Fans', 'Thai TV Fans', 'Fantasy TV Fans',\n",
       "       'Spanish; Castilian Movies Fans', 'Music TV Fans',\n",
       "       'Lifestyle and Fashion TV Fans', 'Game Show TV Fans',\n",
       "       'Documentary and Biography Movies Fans',\n",
       "       'Documentary and Biography TV Fans', 'Crime and Mystery TV Fans',\n",
       "       'Education TV Fans', 'Portuguese Movies Fans',\n",
       "       'Danish Movies Fans', 'Adult Romance Movies Fans',\n",
       "       'Thriller TV Fans', 'Animation Movies Fans', 'Bengali Movies Fans',\n",
       "       'Others TV Fans', 'Health and Fitness Movies Fans',\n",
       "       'Music Movies Fans', 'Others Movies Fans', 'French TV Fans',\n",
       "       'Burmese Movies Fans', 'Sports Movies Fans', 'Tamil Movies Fans',\n",
       "       'Urdu Movies Fans', 'Religion and Faith Movies Fans',\n",
       "       'Animation TV Fans', 'Nepali Movies Fans', 'Nepali TV Fans',\n",
       "       'Education Movies Fans', 'Italian TV Fans', 'Burmese TV Fans',\n",
       "       'Kanuri TV Fans', 'Italian Movies Fans',\n",
       "       'Best of Web or Viral TV Fans', 'eSports TV Fans', 'Urdu TV Fans',\n",
       "       'Hindi TV Fans', 'Tajik Movies Fans', 'Hungarian Movies Fans',\n",
       "       'Spanish; Castilian TV Fans', 'Bengali TV Fans',\n",
       "       'eSports Movies Fans', 'Arabic Movies Fans', 'Swahili TV Fans',\n",
       "       'Family TV Fans', 'Afrikaans TV Fans', 'Norwegian TV Fans',\n",
       "       'Swedish Movies Fans', 'Arabic TV Fans',\n",
       "       'Live Events and Specials Movies Fans'], dtype=object)"
      ]
     },
     "execution_count": 14,
     "metadata": {},
     "output_type": "execute_result"
    }
   ],
   "source": [
    "pd.unique(df_psych['level_3'])"
   ]
  },
  {
   "cell_type": "markdown",
   "metadata": {},
   "source": [
    "Some level_3 traits are not valid, we will find out which level_2 traits those invalid level_3 traits belong to,\n",
    "and replace the invalid level_3 traits to the same as level_2"
   ]
  },
  {
   "cell_type": "code",
   "execution_count": 15,
   "metadata": {},
   "outputs": [
    {
     "data": {
      "text/plain": [
       "array(['News Junkies & Avid Readers', 'Sports Fans', 'Music Lovers'],\n",
       "      dtype=object)"
      ]
     },
     "execution_count": 15,
     "metadata": {},
     "output_type": "execute_result"
    }
   ],
   "source": [
    "lev3_null = df_psych.loc[df_psych['level_3'].isnull(), ('level_2')]\n",
    "pd.unique(lev3_null)"
   ]
  },
  {
   "cell_type": "code",
   "execution_count": 16,
   "metadata": {},
   "outputs": [
    {
     "name": "stderr",
     "output_type": "stream",
     "text": [
      "/opt/conda/lib/python3.7/site-packages/ipykernel_launcher.py:4: SettingWithCopyWarning: \n",
      "A value is trying to be set on a copy of a slice from a DataFrame\n",
      "\n",
      "See the caveats in the documentation: https://pandas.pydata.org/pandas-docs/stable/user_guide/indexing.html#returning-a-view-versus-a-copy\n",
      "  after removing the cwd from sys.path.\n",
      "/opt/conda/lib/python3.7/site-packages/ipykernel_launcher.py:5: SettingWithCopyWarning: \n",
      "A value is trying to be set on a copy of a slice from a DataFrame\n",
      "\n",
      "See the caveats in the documentation: https://pandas.pydata.org/pandas-docs/stable/user_guide/indexing.html#returning-a-view-versus-a-copy\n",
      "  \"\"\"\n",
      "/opt/conda/lib/python3.7/site-packages/ipykernel_launcher.py:6: SettingWithCopyWarning: \n",
      "A value is trying to be set on a copy of a slice from a DataFrame\n",
      "\n",
      "See the caveats in the documentation: https://pandas.pydata.org/pandas-docs/stable/user_guide/indexing.html#returning-a-view-versus-a-copy\n",
      "  \n",
      "/opt/conda/lib/python3.7/site-packages/ipykernel_launcher.py:9: SettingWithCopyWarning: \n",
      "A value is trying to be set on a copy of a slice from a DataFrame\n",
      "\n",
      "See the caveats in the documentation: https://pandas.pydata.org/pandas-docs/stable/user_guide/indexing.html#returning-a-view-versus-a-copy\n",
      "  if __name__ == '__main__':\n"
     ]
    }
   ],
   "source": [
    "# Replace level_3 traits for records having \n",
    "# level_2 traits as 'News Junkies & Avid Readers', 'Sports Fans', 'Music Lovers' with their own level_2 traits\n",
    "\n",
    "df_psych['level_3'][df_psych.level_2 == 'News Junkies & Avid Readers'] = 'News Junkies & Avid Readers'\n",
    "df_psych['level_3'][df_psych.level_2 == 'Sports Fans'] = 'Sports Fans'\n",
    "df_psych['level_3'][df_psych.level_2 == 'Music Lovers'] = 'Music Lovers'\n",
    "\n",
    "# hot-code level_3 trait for social media fans to social media fans\n",
    "df_psych['level_3'][df_psych.level_2 == 'Social Media Fans'] = 'Social Media Fans'\n"
   ]
  },
  {
   "cell_type": "code",
   "execution_count": 20,
   "metadata": {},
   "outputs": [
    {
     "data": {
      "text/plain": [
       "array(['Horror Movies Fans', 'Indonesian Movies Fans',\n",
       "       'Romance Movies Fans', 'Kids TV Fans', 'Drama TV Fans',\n",
       "       'English TV Fans', 'Sports TV Fans', 'Malay TV Fans',\n",
       "       'English Movies Fans', 'High Data Users',\n",
       "       'Extreme Sports Movies Fans', 'Reality TV Fans', 'Comedy TV Fans',\n",
       "       'Action and Adventure TV Fans', 'Comedy Movies Fans',\n",
       "       'News Junkies & Avid Readers', 'Action and Adventure Movies Fans',\n",
       "       'Kids Movies Fans', 'Local Commuters', 'Indonesian TV Fans',\n",
       "       'Thriller Movies Fans', 'Korean TV Fans', 'Korean Movies Fans',\n",
       "       'Sports Fans', 'Sci-Fi Movies Fans', 'Drama Movies Fans', 'player',\n",
       "       'Malay Movies Fans', 'Anime TV Fans', 'Fantasy Movies Fans',\n",
       "       'Family Movies Fans', 'Social Media Fans', 'Music Lovers',\n",
       "       'Japanese TV Fans', 'casual', 'Romance TV Fans',\n",
       "       'Japanese Movies Fans', 'Anime Movies Fans', 'Chinese Movies Fans',\n",
       "       'Thai Movies Fans', 'Horror TV Fans',\n",
       "       'Crime and Mystery Movies Fans', 'Hindi Movies Fans',\n",
       "       'Turkish Movies Fans', 'Tagalog Movies Fans', 'Tagalog TV Fans',\n",
       "       'Vietnamese Movies Fans', 'French Movies Fans', 'addict',\n",
       "       'Downloaders', 'Lifestyle and Fashion Movies Fans',\n",
       "       'Reality Movies Fans', 'International Travellers',\n",
       "       'Chinese TV Fans', 'Religion and Faith TV Fans',\n",
       "       'Central Khmer Movies Fans', 'Thai TV Fans', 'Fantasy TV Fans',\n",
       "       'Spanish; Castilian Movies Fans', 'Music TV Fans',\n",
       "       'Lifestyle and Fashion TV Fans', 'Game Show TV Fans',\n",
       "       'Documentary and Biography Movies Fans',\n",
       "       'Documentary and Biography TV Fans', 'Crime and Mystery TV Fans',\n",
       "       'Education TV Fans', 'Portuguese Movies Fans',\n",
       "       'Danish Movies Fans', 'Adult Romance Movies Fans',\n",
       "       'Thriller TV Fans', 'Animation Movies Fans', 'Bengali Movies Fans',\n",
       "       'Others TV Fans', 'Health and Fitness Movies Fans',\n",
       "       'Music Movies Fans', 'Others Movies Fans', 'French TV Fans',\n",
       "       'Burmese Movies Fans', 'Sports Movies Fans', 'Tamil Movies Fans',\n",
       "       'Urdu Movies Fans', 'Religion and Faith Movies Fans',\n",
       "       'Animation TV Fans', 'Nepali Movies Fans', 'Nepali TV Fans',\n",
       "       'Education Movies Fans', 'Italian TV Fans', 'Burmese TV Fans',\n",
       "       'Kanuri TV Fans', 'Italian Movies Fans',\n",
       "       'Best of Web or Viral TV Fans', 'eSports TV Fans', 'Urdu TV Fans',\n",
       "       'Hindi TV Fans', 'Tajik Movies Fans', 'Hungarian Movies Fans',\n",
       "       'Spanish; Castilian TV Fans', 'Bengali TV Fans',\n",
       "       'eSports Movies Fans', 'Arabic Movies Fans', 'Swahili TV Fans',\n",
       "       'Family TV Fans', 'Afrikaans TV Fans', 'Norwegian TV Fans',\n",
       "       'Swedish Movies Fans', 'Arabic TV Fans',\n",
       "       'Live Events and Specials Movies Fans'], dtype=object)"
      ]
     },
     "execution_count": 20,
     "metadata": {},
     "output_type": "execute_result"
    }
   ],
   "source": [
    "pd.unique(df_psych['level_3'])"
   ]
  },
  {
   "cell_type": "markdown",
   "metadata": {},
   "source": [
    "## Now consider outliers.."
   ]
  },
  {
   "cell_type": "markdown",
   "metadata": {},
   "source": [
    "Recall that we have plenty outilers in running_minutes and minutes_viewed"
   ]
  },
  {
   "cell_type": "code",
   "execution_count": 21,
   "metadata": {},
   "outputs": [],
   "source": [
    "# Use a z-score of 3 as the cutoff\n",
    "\n",
    "from scipy import stats\n",
    "\n",
    "\n",
    "df_psych = df_psych[(np.abs(stats.zscore(df_psych['minutes_viewed']))< 3)]\n",
    "df_psych = df_psych[(np.abs(stats.zscore(df_psych['running_minutes']))< 3)]"
   ]
  },
  {
   "cell_type": "code",
   "execution_count": 22,
   "metadata": {},
   "outputs": [
    {
     "data": {
      "text/plain": [
       "Text(0, 0.5, 'minutes_viewed')"
      ]
     },
     "execution_count": 22,
     "metadata": {},
     "output_type": "execute_result"
    },
    {
     "data": {
      "image/png": "[encoded data removed]",
      "text/plain": [
       "<Figure size 720x504 with 1 Axes>"
      ]
     },
     "metadata": {
      "needs_background": "light"
     },
     "output_type": "display_data"
    }
   ],
   "source": [
    "# Use boxplot to check for outliers in minutes_viewed\n",
    "\n",
    "fig = plt.figure(figsize =(10, 7))\n",
    "boxplot = df_psych.boxplot(column=['minutes_viewed'])\n",
    "plt.title(\"Boxplot of minutes_viewed for psychographics\", fontsize = 16)\n",
    "plt.ylabel(\"minutes_viewed\", fontsize= 14 )"
   ]
  },
  {
   "cell_type": "code",
   "execution_count": 23,
   "metadata": {},
   "outputs": [
    {
     "data": {
      "text/plain": [
       "Text(0, 0.5, 'running_minutes')"
      ]
     },
     "execution_count": 23,
     "metadata": {},
     "output_type": "execute_result"
    },
    {
     "data": {
      "image/png": "[encoded data removed]",
      "text/plain": [
       "<Figure size 720x504 with 1 Axes>"
      ]
     },
     "metadata": {
      "needs_background": "light"
     },
     "output_type": "display_data"
    }
   ],
   "source": [
    "# Use boxplot to check for outliers in running_minutes\n",
    "\n",
    "fig = plt.figure(figsize =(10, 7))\n",
    "boxplot = df_psych.boxplot(column=['running_minutes'])\n",
    "plt.title(\"Boxplot of running_minutes for psychographics\", fontsize = 16)\n",
    "plt.ylabel(\"running_minutes\", fontsize= 14 )"
   ]
  },
  {
   "cell_type": "markdown",
   "metadata": {},
   "source": [
    "# Feature Engineering"
   ]
  },
  {
   "cell_type": "markdown",
   "metadata": {},
   "source": [
    "## Remove 'iflix Viewing Behaviour' from level_2 traits"
   ]
  },
  {
   "cell_type": "code",
   "execution_count": 24,
   "metadata": {},
   "outputs": [
    {
     "data": {
      "text/html": [
       "<div>\n",
       "<style scoped>\n",
       "    .dataframe tbody tr th:only-of-type {\n",
       "        vertical-align: middle;\n",
       "    }\n",
       "\n",
       "    .dataframe tbody tr th {\n",
       "        vertical-align: top;\n",
       "    }\n",
       "\n",
       "    .dataframe thead th {\n",
       "        text-align: right;\n",
       "    }\n",
       "</style>\n",
       "<table border=\"1\" class=\"dataframe\">\n",
       "  <thead>\n",
       "    <tr style=\"text-align: right;\">\n",
       "      <th></th>\n",
       "      <th>level_2</th>\n",
       "    </tr>\n",
       "    <tr>\n",
       "      <th>level_2</th>\n",
       "      <th></th>\n",
       "    </tr>\n",
       "  </thead>\n",
       "  <tbody>\n",
       "    <tr>\n",
       "      <th>Mobile Enthusiasts</th>\n",
       "      <td>1</td>\n",
       "    </tr>\n",
       "    <tr>\n",
       "      <th>Movies Lovers</th>\n",
       "      <td>1</td>\n",
       "    </tr>\n",
       "    <tr>\n",
       "      <th>Music Lovers</th>\n",
       "      <td>1</td>\n",
       "    </tr>\n",
       "    <tr>\n",
       "      <th>News Junkies &amp; Avid Readers</th>\n",
       "      <td>1</td>\n",
       "    </tr>\n",
       "    <tr>\n",
       "      <th>Social Media Fans</th>\n",
       "      <td>1</td>\n",
       "    </tr>\n",
       "    <tr>\n",
       "      <th>Sports Fans</th>\n",
       "      <td>1</td>\n",
       "    </tr>\n",
       "    <tr>\n",
       "      <th>TV Lovers</th>\n",
       "      <td>1</td>\n",
       "    </tr>\n",
       "    <tr>\n",
       "      <th>Travellers</th>\n",
       "      <td>1</td>\n",
       "    </tr>\n",
       "    <tr>\n",
       "      <th>iflix Viewing Behaviour</th>\n",
       "      <td>1</td>\n",
       "    </tr>\n",
       "  </tbody>\n",
       "</table>\n",
       "</div>"
      ],
      "text/plain": [
       "                             level_2\n",
       "level_2                             \n",
       "Mobile Enthusiasts                 1\n",
       "Movies Lovers                      1\n",
       "Music Lovers                       1\n",
       "News Junkies & Avid Readers        1\n",
       "Social Media Fans                  1\n",
       "Sports Fans                        1\n",
       "TV Lovers                          1\n",
       "Travellers                         1\n",
       "iflix Viewing Behaviour            1"
      ]
     },
     "execution_count": 24,
     "metadata": {},
     "output_type": "execute_result"
    }
   ],
   "source": [
    "df_psych[['level_2']].groupby('level_2').nunique()"
   ]
  },
  {
   "cell_type": "markdown",
   "metadata": {},
   "source": [
    "Since \"iflix Viewing Behaviour\" doesn't fit into the rest of the traits, we will remove the records with it."
   ]
  },
  {
   "cell_type": "code",
   "execution_count": 25,
   "metadata": {},
   "outputs": [
    {
     "data": {
      "text/html": [
       "<div>\n",
       "<style scoped>\n",
       "    .dataframe tbody tr th:only-of-type {\n",
       "        vertical-align: middle;\n",
       "    }\n",
       "\n",
       "    .dataframe tbody tr th {\n",
       "        vertical-align: top;\n",
       "    }\n",
       "\n",
       "    .dataframe thead th {\n",
       "        text-align: right;\n",
       "    }\n",
       "</style>\n",
       "<table border=\"1\" class=\"dataframe\">\n",
       "  <thead>\n",
       "    <tr style=\"text-align: right;\">\n",
       "      <th></th>\n",
       "      <th>level_2</th>\n",
       "    </tr>\n",
       "    <tr>\n",
       "      <th>level_2</th>\n",
       "      <th></th>\n",
       "    </tr>\n",
       "  </thead>\n",
       "  <tbody>\n",
       "    <tr>\n",
       "      <th>Mobile Enthusiasts</th>\n",
       "      <td>1</td>\n",
       "    </tr>\n",
       "    <tr>\n",
       "      <th>Movies Lovers</th>\n",
       "      <td>1</td>\n",
       "    </tr>\n",
       "    <tr>\n",
       "      <th>Music Lovers</th>\n",
       "      <td>1</td>\n",
       "    </tr>\n",
       "    <tr>\n",
       "      <th>News Junkies &amp; Avid Readers</th>\n",
       "      <td>1</td>\n",
       "    </tr>\n",
       "    <tr>\n",
       "      <th>Social Media Fans</th>\n",
       "      <td>1</td>\n",
       "    </tr>\n",
       "    <tr>\n",
       "      <th>Sports Fans</th>\n",
       "      <td>1</td>\n",
       "    </tr>\n",
       "    <tr>\n",
       "      <th>TV Lovers</th>\n",
       "      <td>1</td>\n",
       "    </tr>\n",
       "    <tr>\n",
       "      <th>Travellers</th>\n",
       "      <td>1</td>\n",
       "    </tr>\n",
       "  </tbody>\n",
       "</table>\n",
       "</div>"
      ],
      "text/plain": [
       "                             level_2\n",
       "level_2                             \n",
       "Mobile Enthusiasts                 1\n",
       "Movies Lovers                      1\n",
       "Music Lovers                       1\n",
       "News Junkies & Avid Readers        1\n",
       "Social Media Fans                  1\n",
       "Sports Fans                        1\n",
       "TV Lovers                          1\n",
       "Travellers                         1"
      ]
     },
     "execution_count": 25,
     "metadata": {},
     "output_type": "execute_result"
    }
   ],
   "source": [
    "df_psych = df_psych[df_psych.level_2 != 'iflix Viewing Behaviour']\n",
    "df_psych[['level_2']].groupby('level_2').nunique()"
   ]
  },
  {
   "cell_type": "markdown",
   "metadata": {},
   "source": [
    "## Simplify Certain Features"
   ]
  },
  {
   "cell_type": "code",
   "execution_count": 26,
   "metadata": {},
   "outputs": [
    {
     "data": {
      "text/plain": [
       "array(['Indonesian', 'English', 'Chinese', 'Malay', 'Nepali', 'Korean',\n",
       "       'Tagalog', 'Japanese', 'Burmese', 'Kanuri', 'Thai', 'Hindi',\n",
       "       'Tamil', 'Bengali', 'Vietnamese', 'Swahili', 'Central Khmer',\n",
       "       'Portuguese', 'Urdu', 'Hungarian', 'Spanish; Castilian', 'French',\n",
       "       'Italian', 'Turkish', 'Tajik', 'Swedish', 'Norwegian', 'Arabic',\n",
       "       'Danish', 'Sinhala; Sinhalese', 'Afrikaans', 'Avaric'],\n",
       "      dtype=object)"
      ]
     },
     "execution_count": 26,
     "metadata": {},
     "output_type": "execute_result"
    }
   ],
   "source": [
    "pd.unique(df_psych['source_language'])"
   ]
  },
  {
   "cell_type": "code",
   "execution_count": 27,
   "metadata": {},
   "outputs": [
    {
     "data": {
      "text/plain": [
       "array(['Horror', 'Comedy', 'Drama', 'Thriller', 'Romance',\n",
       "       'Action and Adventure', 'Others', 'Kids',\n",
       "       'Documentary and Biography', 'Anime', 'Fantasy', 'Music',\n",
       "       'Crime and Mystery', 'Sci-Fi', 'Reality', 'Sports',\n",
       "       'Extreme Sports', 'Lifestyle and Fashion', 'Family', 'Game Show',\n",
       "       'Best of Web or Viral', 'Animation', 'Education', 'eSports',\n",
       "       'Adult Romance', 'News', 'Religion and Faith',\n",
       "       'Health and Fitness', 'Live Events and Specials'], dtype=object)"
      ]
     },
     "execution_count": 27,
     "metadata": {},
     "output_type": "execute_result"
    }
   ],
   "source": [
    "pd.unique(df_psych['genre'])"
   ]
  },
  {
   "cell_type": "code",
   "execution_count": 28,
   "metadata": {},
   "outputs": [
    {
     "data": {
      "text/plain": [
       "array(['web-embed', 'android', 'iOS', 'android-tv', 'webOS', 'web',\n",
       "       'Panasonic', 'web-pwa', 'Roku', 'Samsung Tizen', 'googlecast',\n",
       "       'Vewd', 'Samsung Orsay'], dtype=object)"
      ]
     },
     "execution_count": 28,
     "metadata": {},
     "output_type": "execute_result"
    }
   ],
   "source": [
    "pd.unique(df_psych['platform_x'])"
   ]
  },
  {
   "cell_type": "markdown",
   "metadata": {},
   "source": [
    "Simply the platform column"
   ]
  },
  {
   "cell_type": "code",
   "execution_count": 29,
   "metadata": {},
   "outputs": [],
   "source": [
    "# Combine platforms into a more generalized group\n",
    "\n",
    "def platform_type (row):\n",
    "    if row['platform_x'] in ('android','iOS'):\n",
    "        return 'mobile_phone'\n",
    "    if row['platform_x'] in ('web-embed', 'webOS', 'web', 'web-pwa'):\n",
    "        return 'web_based'\n",
    "    if row['platform_x'] in ('android-tv', 'Panasonic', 'Roku', 'Samsung Tizen', 'googlecast', 'Vewd', 'Samsung Orsay'):\n",
    "        return 'home_tv'\n",
    "    return row['platform_x']"
   ]
  },
  {
   "cell_type": "code",
   "execution_count": 30,
   "metadata": {},
   "outputs": [],
   "source": [
    "df_psych['platform_type'] = df_psych.apply(lambda row: platform_type(row), axis=1)"
   ]
  },
  {
   "cell_type": "markdown",
   "metadata": {},
   "source": [
    "## Remove features that don't contribute to training models"
   ]
  },
  {
   "cell_type": "code",
   "execution_count": 31,
   "metadata": {},
   "outputs": [
    {
     "data": {
      "text/html": [
       "<div>\n",
       "<style scoped>\n",
       "    .dataframe tbody tr th:only-of-type {\n",
       "        vertical-align: middle;\n",
       "    }\n",
       "\n",
       "    .dataframe tbody tr th {\n",
       "        vertical-align: top;\n",
       "    }\n",
       "\n",
       "    .dataframe thead th {\n",
       "        text-align: right;\n",
       "    }\n",
       "</style>\n",
       "<table border=\"1\" class=\"dataframe\">\n",
       "  <thead>\n",
       "    <tr style=\"text-align: right;\">\n",
       "      <th></th>\n",
       "      <th>level_3</th>\n",
       "      <th>confidence_score</th>\n",
       "      <th>country_code</th>\n",
       "      <th>minutes_viewed</th>\n",
       "      <th>showtype</th>\n",
       "      <th>genre</th>\n",
       "      <th>running_minutes</th>\n",
       "      <th>source_language</th>\n",
       "      <th>platform_type</th>\n",
       "    </tr>\n",
       "  </thead>\n",
       "  <tbody>\n",
       "    <tr>\n",
       "      <th>0</th>\n",
       "      <td>Horror Movies Fans</td>\n",
       "      <td>0.07</td>\n",
       "      <td>ID</td>\n",
       "      <td>1</td>\n",
       "      <td>Movies</td>\n",
       "      <td>Horror</td>\n",
       "      <td>87</td>\n",
       "      <td>Indonesian</td>\n",
       "      <td>web_based</td>\n",
       "    </tr>\n",
       "    <tr>\n",
       "      <th>1</th>\n",
       "      <td>Indonesian Movies Fans</td>\n",
       "      <td>0.03</td>\n",
       "      <td>ID</td>\n",
       "      <td>1</td>\n",
       "      <td>Movies</td>\n",
       "      <td>Horror</td>\n",
       "      <td>87</td>\n",
       "      <td>Indonesian</td>\n",
       "      <td>web_based</td>\n",
       "    </tr>\n",
       "    <tr>\n",
       "      <th>2</th>\n",
       "      <td>Romance Movies Fans</td>\n",
       "      <td>0.52</td>\n",
       "      <td>ID</td>\n",
       "      <td>3</td>\n",
       "      <td>Movies</td>\n",
       "      <td>Horror</td>\n",
       "      <td>87</td>\n",
       "      <td>Indonesian</td>\n",
       "      <td>mobile_phone</td>\n",
       "    </tr>\n",
       "    <tr>\n",
       "      <th>3</th>\n",
       "      <td>Kids TV Fans</td>\n",
       "      <td>0.61</td>\n",
       "      <td>ID</td>\n",
       "      <td>3</td>\n",
       "      <td>Movies</td>\n",
       "      <td>Horror</td>\n",
       "      <td>87</td>\n",
       "      <td>Indonesian</td>\n",
       "      <td>mobile_phone</td>\n",
       "    </tr>\n",
       "    <tr>\n",
       "      <th>4</th>\n",
       "      <td>Drama TV Fans</td>\n",
       "      <td>0.60</td>\n",
       "      <td>ID</td>\n",
       "      <td>3</td>\n",
       "      <td>Movies</td>\n",
       "      <td>Horror</td>\n",
       "      <td>87</td>\n",
       "      <td>Indonesian</td>\n",
       "      <td>mobile_phone</td>\n",
       "    </tr>\n",
       "  </tbody>\n",
       "</table>\n",
       "</div>"
      ],
      "text/plain": [
       "                  level_3  confidence_score country_code  minutes_viewed  \\\n",
       "0      Horror Movies Fans              0.07           ID               1   \n",
       "1  Indonesian Movies Fans              0.03           ID               1   \n",
       "2     Romance Movies Fans              0.52           ID               3   \n",
       "3            Kids TV Fans              0.61           ID               3   \n",
       "4           Drama TV Fans              0.60           ID               3   \n",
       "\n",
       "  showtype   genre  running_minutes source_language platform_type  \n",
       "0   Movies  Horror               87      Indonesian     web_based  \n",
       "1   Movies  Horror               87      Indonesian     web_based  \n",
       "2   Movies  Horror               87      Indonesian  mobile_phone  \n",
       "3   Movies  Horror               87      Indonesian  mobile_phone  \n",
       "4   Movies  Horror               87      Indonesian  mobile_phone  "
      ]
     },
     "execution_count": 31,
     "metadata": {},
     "output_type": "execute_result"
    }
   ],
   "source": [
    "df_psych = df_psych.drop(['user_id','level_1','level_2','asset_id','studio_id','minutes_under_2','platform_x'],axis = 1)\n",
    "df_psych.head()"
   ]
  },
  {
   "cell_type": "markdown",
   "metadata": {},
   "source": [
    "## Check Correlations between all independent variables"
   ]
  },
  {
   "cell_type": "code",
   "execution_count": 32,
   "metadata": {},
   "outputs": [],
   "source": [
    "df = df_psych.drop(['level_3','confidence_score'],axis = 1)"
   ]
  },
  {
   "cell_type": "code",
   "execution_count": 33,
   "metadata": {},
   "outputs": [
    {
     "data": {
      "image/png": "[encoded data removed]",
      "text/plain": [
       "<Figure size 1008x864 with 2 Axes>"
      ]
     },
     "metadata": {
      "needs_background": "light"
     },
     "output_type": "display_data"
    }
   ],
   "source": [
    "from sklearn.preprocessing import LabelEncoder\n",
    "import seaborn as sns\n",
    "\n",
    "labelencoder=LabelEncoder()\n",
    "for column in df.columns:\n",
    "    df[column] = labelencoder.fit_transform(df[column])\n",
    "    \n",
    "    \n",
    "plt.figure(figsize=(14,12))\n",
    "sns.heatmap(df.corr(),linewidths=.1,cmap=\"YlGnBu\", annot=True)\n",
    "plt.yticks(rotation=0);"
   ]
  },
  {
   "cell_type": "markdown",
   "metadata": {},
   "source": [
    "Removing running_minutes from the dataframe due to high correlation with showtype, which we can recall from this:"
   ]
  },
  {
   "cell_type": "code",
   "execution_count": 34,
   "metadata": {},
   "outputs": [
    {
     "data": {
      "text/plain": [
       "<matplotlib.axes._subplots.AxesSubplot at 0x7f450b1b0490>"
      ]
     },
     "execution_count": 34,
     "metadata": {},
     "output_type": "execute_result"
    },
    {
     "data": {
      "image/png": "[encoded data removed]",
      "text/plain": [
       "<Figure size 432x288 with 1 Axes>"
      ]
     },
     "metadata": {
      "needs_background": "light"
     },
     "output_type": "display_data"
    }
   ],
   "source": [
    "sns.histplot(data=df_psych,x='running_minutes', hue = 'showtype', bins = 30)"
   ]
  },
  {
   "cell_type": "markdown",
   "metadata": {},
   "source": [
    "running_minutes is almost directly related to the showtype."
   ]
  },
  {
   "cell_type": "code",
   "execution_count": 35,
   "metadata": {},
   "outputs": [
    {
     "data": {
      "text/html": [
       "<div>\n",
       "<style scoped>\n",
       "    .dataframe tbody tr th:only-of-type {\n",
       "        vertical-align: middle;\n",
       "    }\n",
       "\n",
       "    .dataframe tbody tr th {\n",
       "        vertical-align: top;\n",
       "    }\n",
       "\n",
       "    .dataframe thead th {\n",
       "        text-align: right;\n",
       "    }\n",
       "</style>\n",
       "<table border=\"1\" class=\"dataframe\">\n",
       "  <thead>\n",
       "    <tr style=\"text-align: right;\">\n",
       "      <th></th>\n",
       "      <th>level_3</th>\n",
       "      <th>confidence_score</th>\n",
       "      <th>country_code</th>\n",
       "      <th>minutes_viewed</th>\n",
       "      <th>showtype</th>\n",
       "      <th>genre</th>\n",
       "      <th>source_language</th>\n",
       "      <th>platform_type</th>\n",
       "    </tr>\n",
       "  </thead>\n",
       "  <tbody>\n",
       "    <tr>\n",
       "      <th>0</th>\n",
       "      <td>Horror Movies Fans</td>\n",
       "      <td>0.07</td>\n",
       "      <td>ID</td>\n",
       "      <td>1</td>\n",
       "      <td>Movies</td>\n",
       "      <td>Horror</td>\n",
       "      <td>Indonesian</td>\n",
       "      <td>web_based</td>\n",
       "    </tr>\n",
       "    <tr>\n",
       "      <th>1</th>\n",
       "      <td>Indonesian Movies Fans</td>\n",
       "      <td>0.03</td>\n",
       "      <td>ID</td>\n",
       "      <td>1</td>\n",
       "      <td>Movies</td>\n",
       "      <td>Horror</td>\n",
       "      <td>Indonesian</td>\n",
       "      <td>web_based</td>\n",
       "    </tr>\n",
       "    <tr>\n",
       "      <th>2</th>\n",
       "      <td>Romance Movies Fans</td>\n",
       "      <td>0.52</td>\n",
       "      <td>ID</td>\n",
       "      <td>3</td>\n",
       "      <td>Movies</td>\n",
       "      <td>Horror</td>\n",
       "      <td>Indonesian</td>\n",
       "      <td>mobile_phone</td>\n",
       "    </tr>\n",
       "    <tr>\n",
       "      <th>3</th>\n",
       "      <td>Kids TV Fans</td>\n",
       "      <td>0.61</td>\n",
       "      <td>ID</td>\n",
       "      <td>3</td>\n",
       "      <td>Movies</td>\n",
       "      <td>Horror</td>\n",
       "      <td>Indonesian</td>\n",
       "      <td>mobile_phone</td>\n",
       "    </tr>\n",
       "    <tr>\n",
       "      <th>4</th>\n",
       "      <td>Drama TV Fans</td>\n",
       "      <td>0.60</td>\n",
       "      <td>ID</td>\n",
       "      <td>3</td>\n",
       "      <td>Movies</td>\n",
       "      <td>Horror</td>\n",
       "      <td>Indonesian</td>\n",
       "      <td>mobile_phone</td>\n",
       "    </tr>\n",
       "  </tbody>\n",
       "</table>\n",
       "</div>"
      ],
      "text/plain": [
       "                  level_3  confidence_score country_code  minutes_viewed  \\\n",
       "0      Horror Movies Fans              0.07           ID               1   \n",
       "1  Indonesian Movies Fans              0.03           ID               1   \n",
       "2     Romance Movies Fans              0.52           ID               3   \n",
       "3            Kids TV Fans              0.61           ID               3   \n",
       "4           Drama TV Fans              0.60           ID               3   \n",
       "\n",
       "  showtype   genre source_language platform_type  \n",
       "0   Movies  Horror      Indonesian     web_based  \n",
       "1   Movies  Horror      Indonesian     web_based  \n",
       "2   Movies  Horror      Indonesian  mobile_phone  \n",
       "3   Movies  Horror      Indonesian  mobile_phone  \n",
       "4   Movies  Horror      Indonesian  mobile_phone  "
      ]
     },
     "execution_count": 35,
     "metadata": {},
     "output_type": "execute_result"
    }
   ],
   "source": [
    "df_psych = df_psych.drop(['running_minutes'],axis = 1)\n",
    "df_psych.head()"
   ]
  },
  {
   "cell_type": "markdown",
   "metadata": {},
   "source": [
    "Before balancing the data, we need to look at the confidence score from the original dataset:"
   ]
  },
  {
   "cell_type": "code",
   "execution_count": 36,
   "metadata": {},
   "outputs": [
    {
     "data": {
      "text/plain": [
       "count    279458.000000\n",
       "mean          0.597657\n",
       "std           0.311564\n",
       "min           0.000000\n",
       "25%           0.300000\n",
       "50%           0.650000\n",
       "75%           0.890000\n",
       "max           1.000000\n",
       "Name: confidence_score, dtype: float64"
      ]
     },
     "execution_count": 36,
     "metadata": {},
     "output_type": "execute_result"
    }
   ],
   "source": [
    "df_psych['confidence_score'].describe()"
   ]
  },
  {
   "cell_type": "code",
   "execution_count": 37,
   "metadata": {},
   "outputs": [
    {
     "name": "stdout",
     "output_type": "stream",
     "text": [
      "50th percentile:  0.65\n",
      "60th percentile:  0.76\n",
      "70th percentile:  0.86\n",
      "80th percentile:  0.92\n",
      "90th percentile:  0.98\n",
      "95th percentile:  1.0\n"
     ]
    }
   ],
   "source": [
    "print('50th percentile: ', df_psych['confidence_score'].quantile(.5))\n",
    "print('60th percentile: ', df_psych['confidence_score'].quantile(.6))\n",
    "print('70th percentile: ', df_psych['confidence_score'].quantile(.7))\n",
    "print('80th percentile: ', df_psych['confidence_score'].quantile(.8))\n",
    "print('90th percentile: ', df_psych['confidence_score'].quantile(.9))\n",
    "print('95th percentile: ', df_psych['confidence_score'].quantile(.95))"
   ]
  },
  {
   "cell_type": "markdown",
   "metadata": {},
   "source": [
    "We want to ensure data quality and pick our record within 70th percentile"
   ]
  },
  {
   "cell_type": "code",
   "execution_count": 38,
   "metadata": {},
   "outputs": [
    {
     "data": {
      "text/plain": [
       "count    80385.000000\n",
       "mean         0.949884\n",
       "std          0.043058\n",
       "min          0.870000\n",
       "25%          0.910000\n",
       "50%          0.960000\n",
       "75%          0.990000\n",
       "max          1.000000\n",
       "Name: confidence_score, dtype: float64"
      ]
     },
     "execution_count": 38,
     "metadata": {},
     "output_type": "execute_result"
    }
   ],
   "source": [
    "df_psych = df_psych.loc[df_psych['confidence_score'] > .86]\n",
    "df_psych['confidence_score'].describe()"
   ]
  },
  {
   "cell_type": "markdown",
   "metadata": {},
   "source": [
    "Remove confidence_score from the dataset"
   ]
  },
  {
   "cell_type": "code",
   "execution_count": 39,
   "metadata": {},
   "outputs": [],
   "source": [
    "df_psych = df_psych.drop(['confidence_score'], axis = 1)"
   ]
  },
  {
   "cell_type": "markdown",
   "metadata": {},
   "source": [
    "# Balance The Data"
   ]
  },
  {
   "cell_type": "code",
   "execution_count": 40,
   "metadata": {},
   "outputs": [
    {
     "data": {
      "text/plain": [
       "(array([26358., 21615., 13792.,  8728.,  3692.,  3422.,  1301.,  1007.,\n",
       "          342.,   128.]),\n",
       " array([ 0. ,  7.4, 14.8, 22.2, 29.6, 37. , 44.4, 51.8, 59.2, 66.6, 74. ]),\n",
       " <a list of 10 Patch objects>)"
      ]
     },
     "execution_count": 40,
     "metadata": {},
     "output_type": "execute_result"
    },
    {
     "data": {
      "image/png": "[encoded data removed]",
      "text/plain": [
       "<Figure size 432x288 with 1 Axes>"
      ]
     },
     "metadata": {
      "needs_background": "light"
     },
     "output_type": "display_data"
    }
   ],
   "source": [
    "plt.hist(df_psych['level_3'])"
   ]
  },
  {
   "cell_type": "markdown",
   "metadata": {},
   "source": [
    "We can see that the target variable (level_3 trait_ has a strong right skewness and we want to balance the dataset"
   ]
  },
  {
   "cell_type": "code",
   "execution_count": 41,
   "metadata": {},
   "outputs": [
    {
     "data": {
      "text/plain": [
       "High Data Users                          11378\n",
       "Drama TV Fans                             6984\n",
       "Korean TV Fans                            5535\n",
       "English Movies Fans                       4302\n",
       "Indonesian Movies Fans                    4094\n",
       "Drama Movies Fans                         4074\n",
       "Comedy Movies Fans                        3927\n",
       "Romance Movies Fans                       3045\n",
       "Social Media Fans                         3000\n",
       "Action and Adventure Movies Fans          2481\n",
       "Downloaders                               2334\n",
       "Tagalog Movies Fans                       2266\n",
       "Horror Movies Fans                        2155\n",
       "Indonesian TV Fans                        2057\n",
       "English TV Fans                           1882\n",
       "Comedy TV Fans                            1757\n",
       "Kids TV Fans                              1620\n",
       "Korean Movies Fans                        1572\n",
       "Romance TV Fans                           1359\n",
       "Malay TV Fans                             1155\n",
       "Fantasy TV Fans                           1076\n",
       "International Travellers                   992\n",
       "Kids Movies Fans                           952\n",
       "Thriller Movies Fans                       820\n",
       "Music Lovers                               714\n",
       "Tagalog TV Fans                            692\n",
       "Malay Movies Fans                          681\n",
       "Fantasy Movies Fans                        570\n",
       "Chinese TV Fans                            549\n",
       "Japanese TV Fans                           513\n",
       "Reality TV Fans                            450\n",
       "Sci-Fi Movies Fans                         427\n",
       "Crime and Mystery Movies Fans              418\n",
       "Nepali Movies Fans                         414\n",
       "Anime TV Fans                              414\n",
       "Documentary and Biography Movies Fans      398\n",
       "Documentary and Biography TV Fans          351\n",
       "Others Movies Fans                         305\n",
       "Hindi Movies Fans                          301\n",
       "Family Movies Fans                         278\n",
       "Music TV Fans                              167\n",
       "Sports Fans                                163\n",
       "News Junkies & Avid Readers                153\n",
       "Bengali Movies Fans                        142\n",
       "Action and Adventure TV Fans               123\n",
       "Chinese Movies Fans                        122\n",
       "Lifestyle and Fashion TV Fans              114\n",
       "Thai Movies Fans                           112\n",
       "Reality Movies Fans                        102\n",
       "Thai TV Fans                                90\n",
       "Crime and Mystery TV Fans                   84\n",
       "French TV Fans                              75\n",
       "Horror TV Fans                              75\n",
       "Music Movies Fans                           71\n",
       "Sports TV Fans                              65\n",
       "Central Khmer Movies Fans                   44\n",
       "Arabic Movies Fans                          42\n",
       "Animation Movies Fans                       40\n",
       "Thriller TV Fans                            39\n",
       "Urdu Movies Fans                            34\n",
       "Nepali TV Fans                              29\n",
       "Adult Romance Movies Fans                   28\n",
       "Swahili TV Fans                             27\n",
       "Portuguese Movies Fans                      22\n",
       "Bengali TV Fans                             19\n",
       "Burmese Movies Fans                         19\n",
       "Vietnamese Movies Fans                      18\n",
       "Anime Movies Fans                           16\n",
       "Japanese Movies Fans                        16\n",
       "Sports Movies Fans                          12\n",
       "Tamil Movies Fans                           11\n",
       "Turkish Movies Fans                         10\n",
       "Hindi TV Fans                                5\n",
       "Live Events and Specials Movies Fans         3\n",
       "French Movies Fans                           1\n",
       "Name: level_3, dtype: int64"
      ]
     },
     "execution_count": 41,
     "metadata": {},
     "output_type": "execute_result"
    }
   ],
   "source": [
    "pd.set_option(\"display.max_rows\", None)\n",
    "df_psych['level_3'].value_counts()"
   ]
  },
  {
   "cell_type": "code",
   "execution_count": 42,
   "metadata": {},
   "outputs": [],
   "source": [
    "df_grouped_by = df_psych.groupby([\"level_3\"])\n",
    "df_balanced = df_grouped_by.apply(\n",
    "lambda x: x.sample(df_grouped_by.size().max(),replace=True)\\\n",
    ".reset_index(drop=True)\n",
    ")"
   ]
  },
  {
   "cell_type": "code",
   "execution_count": 43,
   "metadata": {},
   "outputs": [
    {
     "data": {
      "text/plain": [
       "(array([91024., 79646., 91024., 79646., 79646., 91024., 79646., 91024.,\n",
       "        79646., 91024.]),\n",
       " array([ 0. ,  7.4, 14.8, 22.2, 29.6, 37. , 44.4, 51.8, 59.2, 66.6, 74. ]),\n",
       " <a list of 10 Patch objects>)"
      ]
     },
     "execution_count": 43,
     "metadata": {},
     "output_type": "execute_result"
    },
    {
     "data": {
      "image/png": "[encoded data removed]",
      "text/plain": [
       "<Figure size 432x288 with 1 Axes>"
      ]
     },
     "metadata": {
      "needs_background": "light"
     },
     "output_type": "display_data"
    }
   ],
   "source": [
    "plt.hist(df_balanced['level_3'])"
   ]
  },
  {
   "cell_type": "code",
   "execution_count": 44,
   "metadata": {},
   "outputs": [
    {
     "data": {
      "text/plain": [
       "Hindi TV Fans                            11378\n",
       "Crime and Mystery Movies Fans            11378\n",
       "Malay TV Fans                            11378\n",
       "Korean Movies Fans                       11378\n",
       "Family Movies Fans                       11378\n",
       "Tamil Movies Fans                        11378\n",
       "Fantasy Movies Fans                      11378\n",
       "English TV Fans                          11378\n",
       "Romance Movies Fans                      11378\n",
       "Indonesian Movies Fans                   11378\n",
       "Korean TV Fans                           11378\n",
       "Music Movies Fans                        11378\n",
       "Anime Movies Fans                        11378\n",
       "Turkish Movies Fans                      11378\n",
       "Sports TV Fans                           11378\n",
       "Swahili TV Fans                          11378\n",
       "Thai Movies Fans                         11378\n",
       "Vietnamese Movies Fans                   11378\n",
       "Malay Movies Fans                        11378\n",
       "French Movies Fans                       11378\n",
       "News Junkies & Avid Readers              11378\n",
       "Sci-Fi Movies Fans                       11378\n",
       "Drama TV Fans                            11378\n",
       "International Travellers                 11378\n",
       "Bengali Movies Fans                      11378\n",
       "French TV Fans                           11378\n",
       "Sports Fans                              11378\n",
       "Tagalog Movies Fans                      11378\n",
       "Reality TV Fans                          11378\n",
       "Thai TV Fans                             11378\n",
       "Urdu Movies Fans                         11378\n",
       "Thriller TV Fans                         11378\n",
       "Crime and Mystery TV Fans                11378\n",
       "Chinese TV Fans                          11378\n",
       "Music TV Fans                            11378\n",
       "Burmese Movies Fans                      11378\n",
       "Documentary and Biography Movies Fans    11378\n",
       "Animation Movies Fans                    11378\n",
       "Downloaders                              11378\n",
       "Central Khmer Movies Fans                11378\n",
       "Thriller Movies Fans                     11378\n",
       "Anime TV Fans                            11378\n",
       "English Movies Fans                      11378\n",
       "Drama Movies Fans                        11378\n",
       "Tagalog TV Fans                          11378\n",
       "Fantasy TV Fans                          11378\n",
       "Comedy TV Fans                           11378\n",
       "Nepali TV Fans                           11378\n",
       "Sports Movies Fans                       11378\n",
       "Action and Adventure Movies Fans         11378\n",
       "Nepali Movies Fans                       11378\n",
       "Lifestyle and Fashion TV Fans            11378\n",
       "Action and Adventure TV Fans             11378\n",
       "Hindi Movies Fans                        11378\n",
       "Adult Romance Movies Fans                11378\n",
       "Horror TV Fans                           11378\n",
       "Kids Movies Fans                         11378\n",
       "Bengali TV Fans                          11378\n",
       "Live Events and Specials Movies Fans     11378\n",
       "Others Movies Fans                       11378\n",
       "Kids TV Fans                             11378\n",
       "Japanese Movies Fans                     11378\n",
       "Chinese Movies Fans                      11378\n",
       "Comedy Movies Fans                       11378\n",
       "Arabic Movies Fans                       11378\n",
       "Reality Movies Fans                      11378\n",
       "Indonesian TV Fans                       11378\n",
       "Music Lovers                             11378\n",
       "Japanese TV Fans                         11378\n",
       "Documentary and Biography TV Fans        11378\n",
       "Romance TV Fans                          11378\n",
       "Portuguese Movies Fans                   11378\n",
       "Horror Movies Fans                       11378\n",
       "High Data Users                          11378\n",
       "Social Media Fans                        11378\n",
       "Name: level_3, dtype: int64"
      ]
     },
     "execution_count": 44,
     "metadata": {},
     "output_type": "execute_result"
    }
   ],
   "source": [
    "df_balanced['level_3'].value_counts()"
   ]
  },
  {
   "cell_type": "markdown",
   "metadata": {},
   "source": [
    "# Split the data into train, validate and test"
   ]
  },
  {
   "cell_type": "code",
   "execution_count": 45,
   "metadata": {},
   "outputs": [],
   "source": [
    "# Split the data as: train - 90%, validate - 5%, test - 5%\n",
    "\n",
    "from sklearn.model_selection import train_test_split\n",
    "\n",
    "# Split all data into 70% train and 30% holdout\n",
    "df_train, df_holdout = train_test_split(df_balanced, test_size=0.10, stratify=df_balanced['level_3'])\n",
    "\n",
    "# Split holdout data into 50% validation and 50% test\n",
    "df_validation, df_test = train_test_split(df_holdout, test_size=0.50, stratify=df_holdout['level_3'])"
   ]
  },
  {
   "cell_type": "code",
   "execution_count": 46,
   "metadata": {},
   "outputs": [
    {
     "data": {
      "text/plain": [
       "(768015, 7)"
      ]
     },
     "execution_count": 46,
     "metadata": {},
     "output_type": "execute_result"
    }
   ],
   "source": [
    "df_train.shape"
   ]
  },
  {
   "cell_type": "code",
   "execution_count": 47,
   "metadata": {},
   "outputs": [
    {
     "data": {
      "text/plain": [
       "(42667, 7)"
      ]
     },
     "execution_count": 47,
     "metadata": {},
     "output_type": "execute_result"
    }
   ],
   "source": [
    "df_validation.shape"
   ]
  },
  {
   "cell_type": "code",
   "execution_count": 48,
   "metadata": {},
   "outputs": [
    {
     "data": {
      "text/plain": [
       "(42668, 7)"
      ]
     },
     "execution_count": 48,
     "metadata": {},
     "output_type": "execute_result"
    }
   ],
   "source": [
    "df_test.shape"
   ]
  },
  {
   "cell_type": "markdown",
   "metadata": {},
   "source": [
    "# Save these files to S3 bucket"
   ]
  },
  {
   "cell_type": "code",
   "execution_count": 49,
   "metadata": {},
   "outputs": [
    {
     "name": "stdout",
     "output_type": "stream",
     "text": [
      "make_bucket: ads508-team4-split\n"
     ]
    }
   ],
   "source": [
    "# Create a new s3 bucket\n",
    "!aws s3 mb s3://ads508-team4-split"
   ]
  },
  {
   "cell_type": "code",
   "execution_count": 50,
   "metadata": {},
   "outputs": [
    {
     "data": {
      "text/plain": [
       "{'ResponseMetadata': {'RequestId': 'CACRK00QB91MCRMW',\n",
       "  'HostId': 'r/ryOl8cp2rb2tJZWI9ah0OcM77UVL5iij4ADYfs/1NL4fEfBy5Ixb7hdvaYKBJ98Dmzu/NJrmM=',\n",
       "  'HTTPStatusCode': 200,\n",
       "  'HTTPHeaders': {'x-amz-id-2': 'r/ryOl8cp2rb2tJZWI9ah0OcM77UVL5iij4ADYfs/1NL4fEfBy5Ixb7hdvaYKBJ98Dmzu/NJrmM=',\n",
       "   'x-amz-request-id': 'CACRK00QB91MCRMW',\n",
       "   'date': 'Sun, 27 Mar 2022 01:32:50 GMT',\n",
       "   'etag': '\"1042d813326d1327341b42196c8cc751\"',\n",
       "   'server': 'AmazonS3',\n",
       "   'content-length': '0'},\n",
       "  'RetryAttempts': 0},\n",
       " 'ETag': '\"1042d813326d1327341b42196c8cc751\"'}"
      ]
     },
     "execution_count": 50,
     "metadata": {},
     "output_type": "execute_result"
    }
   ],
   "source": [
    "# Store these 3 files\n",
    "\n",
    "from io import StringIO\n",
    "\n",
    "bucket = 'ads508-team4-split'\n",
    "csv_buffer1 = StringIO()\n",
    "csv_buffer2 = StringIO()\n",
    "csv_buffer3 = StringIO()\n",
    "\n",
    "df_train.to_csv(csv_buffer1)\n",
    "df_validation.to_csv(csv_buffer2)\n",
    "df_test.to_csv(csv_buffer3)\n",
    "\n",
    "s3_resource = boto3.resource('s3')\n",
    "s3_resource.Object(bucket, 'df_train.csv').put(Body=csv_buffer1.getvalue())\n",
    "s3_resource.Object(bucket, 'df_validation.csv').put(Body=csv_buffer2.getvalue())\n",
    "s3_resource.Object(bucket, 'df_test.csv').put(Body=csv_buffer3.getvalue())"
   ]
  }
 ],
 "metadata": {
  "instance_type": "ml.t3.medium",
  "kernelspec": {
   "display_name": "Python 3 (Data Science)",
   "language": "python",
   "name": "python3__SAGEMAKER_INTERNAL__arn:aws:sagemaker:us-east-1:081325390199:image/datascience-1.0"
  },
  "language_info": {
   "codemirror_mode": {
    "name": "ipython",
    "version": 3
   },
   "file_extension": ".py",
   "mimetype": "text/x-python",
   "name": "python",
   "nbconvert_exporter": "python",
   "pygments_lexer": "ipython3",
   "version": "3.7.10"
  }
 },
 "nbformat": 4,
 "nbformat_minor": 4
}
