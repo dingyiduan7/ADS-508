{
 "cells": [
  {
   "cell_type": "markdown",
   "metadata": {},
   "source": [
    "# Load required libraries"
   ]
  },
  {
   "cell_type": "code",
   "execution_count": 1,
   "metadata": {},
   "outputs": [],
   "source": [
    "import pandas as pd\n",
    "import boto3\n",
    "import sagemaker\n",
    "\n",
    "sess = sagemaker.Session()\n",
    "bucket = sess.default_bucket()\n",
    "role = sagemaker.get_execution_role()\n",
    "region = boto3.Session().region_name"
   ]
  },
  {
   "cell_type": "markdown",
   "metadata": {},
   "source": [
    "# Download the datasets from private S3 bucket"
   ]
  },
  {
   "cell_type": "code",
   "execution_count": 2,
   "metadata": {},
   "outputs": [
    {
     "name": "stdout",
     "output_type": "stream",
     "text": [
      "download: s3://ads508-team4-master/df_psych.csv to data/df_psych.csv\n"
     ]
    }
   ],
   "source": [
    "!aws s3 cp 's3://ads508-team4-master/df_psych.csv' ./data/"
   ]
  },
  {
   "cell_type": "code",
   "execution_count": 3,
   "metadata": {},
   "outputs": [
    {
     "data": {
      "text/html": [
       "<div>\n",
       "<style scoped>\n",
       "    .dataframe tbody tr th:only-of-type {\n",
       "        vertical-align: middle;\n",
       "    }\n",
       "\n",
       "    .dataframe tbody tr th {\n",
       "        vertical-align: top;\n",
       "    }\n",
       "\n",
       "    .dataframe thead th {\n",
       "        text-align: right;\n",
       "    }\n",
       "</style>\n",
       "<table border=\"1\" class=\"dataframe\">\n",
       "  <thead>\n",
       "    <tr style=\"text-align: right;\">\n",
       "      <th></th>\n",
       "      <th>user_id</th>\n",
       "      <th>platform_x</th>\n",
       "      <th>level_1</th>\n",
       "      <th>level_2</th>\n",
       "      <th>level_3</th>\n",
       "      <th>confidence_score</th>\n",
       "      <th>country_code</th>\n",
       "      <th>asset_id</th>\n",
       "      <th>minutes_viewed</th>\n",
       "      <th>showtype</th>\n",
       "      <th>genre</th>\n",
       "      <th>running_minutes</th>\n",
       "      <th>source_language</th>\n",
       "      <th>season_id</th>\n",
       "      <th>series_id</th>\n",
       "      <th>studio_id</th>\n",
       "      <th>minutes_under_2</th>\n",
       "    </tr>\n",
       "  </thead>\n",
       "  <tbody>\n",
       "    <tr>\n",
       "      <th>0</th>\n",
       "      <td>8.589935e+10</td>\n",
       "      <td>web-embed</td>\n",
       "      <td>Psychographics</td>\n",
       "      <td>Movies Lovers</td>\n",
       "      <td>Horror Movies Fans</td>\n",
       "      <td>0.07</td>\n",
       "      <td>ID</td>\n",
       "      <td>10377</td>\n",
       "      <td>1</td>\n",
       "      <td>Movies</td>\n",
       "      <td>Horror</td>\n",
       "      <td>87</td>\n",
       "      <td>Indonesian</td>\n",
       "      <td>NaN</td>\n",
       "      <td>NaN</td>\n",
       "      <td>350.0</td>\n",
       "      <td>True</td>\n",
       "    </tr>\n",
       "    <tr>\n",
       "      <th>1</th>\n",
       "      <td>8.589935e+10</td>\n",
       "      <td>web-embed</td>\n",
       "      <td>Psychographics</td>\n",
       "      <td>Movies Lovers</td>\n",
       "      <td>Indonesian Movies Fans</td>\n",
       "      <td>0.03</td>\n",
       "      <td>ID</td>\n",
       "      <td>10377</td>\n",
       "      <td>1</td>\n",
       "      <td>Movies</td>\n",
       "      <td>Horror</td>\n",
       "      <td>87</td>\n",
       "      <td>Indonesian</td>\n",
       "      <td>NaN</td>\n",
       "      <td>NaN</td>\n",
       "      <td>350.0</td>\n",
       "      <td>True</td>\n",
       "    </tr>\n",
       "    <tr>\n",
       "      <th>2</th>\n",
       "      <td>2.576980e+10</td>\n",
       "      <td>android</td>\n",
       "      <td>Psychographics</td>\n",
       "      <td>Movies Lovers</td>\n",
       "      <td>Romance Movies Fans</td>\n",
       "      <td>0.52</td>\n",
       "      <td>ID</td>\n",
       "      <td>10377</td>\n",
       "      <td>3</td>\n",
       "      <td>Movies</td>\n",
       "      <td>Horror</td>\n",
       "      <td>87</td>\n",
       "      <td>Indonesian</td>\n",
       "      <td>NaN</td>\n",
       "      <td>NaN</td>\n",
       "      <td>350.0</td>\n",
       "      <td>False</td>\n",
       "    </tr>\n",
       "    <tr>\n",
       "      <th>3</th>\n",
       "      <td>2.576980e+10</td>\n",
       "      <td>android</td>\n",
       "      <td>Psychographics</td>\n",
       "      <td>TV Lovers</td>\n",
       "      <td>Kids TV Fans</td>\n",
       "      <td>0.61</td>\n",
       "      <td>ID</td>\n",
       "      <td>10377</td>\n",
       "      <td>3</td>\n",
       "      <td>Movies</td>\n",
       "      <td>Horror</td>\n",
       "      <td>87</td>\n",
       "      <td>Indonesian</td>\n",
       "      <td>NaN</td>\n",
       "      <td>NaN</td>\n",
       "      <td>350.0</td>\n",
       "      <td>False</td>\n",
       "    </tr>\n",
       "    <tr>\n",
       "      <th>4</th>\n",
       "      <td>2.576980e+10</td>\n",
       "      <td>android</td>\n",
       "      <td>Psychographics</td>\n",
       "      <td>TV Lovers</td>\n",
       "      <td>Drama TV Fans</td>\n",
       "      <td>0.60</td>\n",
       "      <td>ID</td>\n",
       "      <td>10377</td>\n",
       "      <td>3</td>\n",
       "      <td>Movies</td>\n",
       "      <td>Horror</td>\n",
       "      <td>87</td>\n",
       "      <td>Indonesian</td>\n",
       "      <td>NaN</td>\n",
       "      <td>NaN</td>\n",
       "      <td>350.0</td>\n",
       "      <td>False</td>\n",
       "    </tr>\n",
       "    <tr>\n",
       "      <th>...</th>\n",
       "      <td>...</td>\n",
       "      <td>...</td>\n",
       "      <td>...</td>\n",
       "      <td>...</td>\n",
       "      <td>...</td>\n",
       "      <td>...</td>\n",
       "      <td>...</td>\n",
       "      <td>...</td>\n",
       "      <td>...</td>\n",
       "      <td>...</td>\n",
       "      <td>...</td>\n",
       "      <td>...</td>\n",
       "      <td>...</td>\n",
       "      <td>...</td>\n",
       "      <td>...</td>\n",
       "      <td>...</td>\n",
       "      <td>...</td>\n",
       "    </tr>\n",
       "    <tr>\n",
       "      <th>95</th>\n",
       "      <td>7.700000e+01</td>\n",
       "      <td>android</td>\n",
       "      <td>Psychographics</td>\n",
       "      <td>Movies Lovers</td>\n",
       "      <td>Korean Movies Fans</td>\n",
       "      <td>0.54</td>\n",
       "      <td>ID</td>\n",
       "      <td>10377</td>\n",
       "      <td>12</td>\n",
       "      <td>Movies</td>\n",
       "      <td>Horror</td>\n",
       "      <td>87</td>\n",
       "      <td>Indonesian</td>\n",
       "      <td>NaN</td>\n",
       "      <td>NaN</td>\n",
       "      <td>350.0</td>\n",
       "      <td>False</td>\n",
       "    </tr>\n",
       "    <tr>\n",
       "      <th>96</th>\n",
       "      <td>7.700000e+01</td>\n",
       "      <td>android</td>\n",
       "      <td>Psychographics</td>\n",
       "      <td>Movies Lovers</td>\n",
       "      <td>English Movies Fans</td>\n",
       "      <td>0.46</td>\n",
       "      <td>ID</td>\n",
       "      <td>10377</td>\n",
       "      <td>12</td>\n",
       "      <td>Movies</td>\n",
       "      <td>Horror</td>\n",
       "      <td>87</td>\n",
       "      <td>Indonesian</td>\n",
       "      <td>NaN</td>\n",
       "      <td>NaN</td>\n",
       "      <td>350.0</td>\n",
       "      <td>False</td>\n",
       "    </tr>\n",
       "    <tr>\n",
       "      <th>97</th>\n",
       "      <td>7.700000e+01</td>\n",
       "      <td>android</td>\n",
       "      <td>Psychographics</td>\n",
       "      <td>TV Lovers</td>\n",
       "      <td>English TV Fans</td>\n",
       "      <td>0.40</td>\n",
       "      <td>ID</td>\n",
       "      <td>10377</td>\n",
       "      <td>12</td>\n",
       "      <td>Movies</td>\n",
       "      <td>Horror</td>\n",
       "      <td>87</td>\n",
       "      <td>Indonesian</td>\n",
       "      <td>NaN</td>\n",
       "      <td>NaN</td>\n",
       "      <td>350.0</td>\n",
       "      <td>False</td>\n",
       "    </tr>\n",
       "    <tr>\n",
       "      <th>98</th>\n",
       "      <td>6.871948e+10</td>\n",
       "      <td>android</td>\n",
       "      <td>Psychographics</td>\n",
       "      <td>TV Lovers</td>\n",
       "      <td>English TV Fans</td>\n",
       "      <td>0.29</td>\n",
       "      <td>ID</td>\n",
       "      <td>10377</td>\n",
       "      <td>3</td>\n",
       "      <td>Movies</td>\n",
       "      <td>Horror</td>\n",
       "      <td>87</td>\n",
       "      <td>Indonesian</td>\n",
       "      <td>NaN</td>\n",
       "      <td>NaN</td>\n",
       "      <td>350.0</td>\n",
       "      <td>False</td>\n",
       "    </tr>\n",
       "    <tr>\n",
       "      <th>99</th>\n",
       "      <td>6.871948e+10</td>\n",
       "      <td>android</td>\n",
       "      <td>Psychographics</td>\n",
       "      <td>Travellers</td>\n",
       "      <td>Local Commuters</td>\n",
       "      <td>0.17</td>\n",
       "      <td>ID</td>\n",
       "      <td>10377</td>\n",
       "      <td>3</td>\n",
       "      <td>Movies</td>\n",
       "      <td>Horror</td>\n",
       "      <td>87</td>\n",
       "      <td>Indonesian</td>\n",
       "      <td>NaN</td>\n",
       "      <td>NaN</td>\n",
       "      <td>350.0</td>\n",
       "      <td>False</td>\n",
       "    </tr>\n",
       "  </tbody>\n",
       "</table>\n",
       "<p>100 rows × 17 columns</p>\n",
       "</div>"
      ],
      "text/plain": [
       "         user_id platform_x         level_1        level_2  \\\n",
       "0   8.589935e+10  web-embed  Psychographics  Movies Lovers   \n",
       "1   8.589935e+10  web-embed  Psychographics  Movies Lovers   \n",
       "2   2.576980e+10    android  Psychographics  Movies Lovers   \n",
       "3   2.576980e+10    android  Psychographics      TV Lovers   \n",
       "4   2.576980e+10    android  Psychographics      TV Lovers   \n",
       "..           ...        ...             ...            ...   \n",
       "95  7.700000e+01    android  Psychographics  Movies Lovers   \n",
       "96  7.700000e+01    android  Psychographics  Movies Lovers   \n",
       "97  7.700000e+01    android  Psychographics      TV Lovers   \n",
       "98  6.871948e+10    android  Psychographics      TV Lovers   \n",
       "99  6.871948e+10    android  Psychographics     Travellers   \n",
       "\n",
       "                   level_3  confidence_score country_code  asset_id  \\\n",
       "0       Horror Movies Fans              0.07           ID     10377   \n",
       "1   Indonesian Movies Fans              0.03           ID     10377   \n",
       "2      Romance Movies Fans              0.52           ID     10377   \n",
       "3             Kids TV Fans              0.61           ID     10377   \n",
       "4            Drama TV Fans              0.60           ID     10377   \n",
       "..                     ...               ...          ...       ...   \n",
       "95      Korean Movies Fans              0.54           ID     10377   \n",
       "96     English Movies Fans              0.46           ID     10377   \n",
       "97         English TV Fans              0.40           ID     10377   \n",
       "98         English TV Fans              0.29           ID     10377   \n",
       "99         Local Commuters              0.17           ID     10377   \n",
       "\n",
       "    minutes_viewed showtype   genre  running_minutes source_language  \\\n",
       "0                1   Movies  Horror               87      Indonesian   \n",
       "1                1   Movies  Horror               87      Indonesian   \n",
       "2                3   Movies  Horror               87      Indonesian   \n",
       "3                3   Movies  Horror               87      Indonesian   \n",
       "4                3   Movies  Horror               87      Indonesian   \n",
       "..             ...      ...     ...              ...             ...   \n",
       "95              12   Movies  Horror               87      Indonesian   \n",
       "96              12   Movies  Horror               87      Indonesian   \n",
       "97              12   Movies  Horror               87      Indonesian   \n",
       "98               3   Movies  Horror               87      Indonesian   \n",
       "99               3   Movies  Horror               87      Indonesian   \n",
       "\n",
       "    season_id  series_id  studio_id  minutes_under_2  \n",
       "0         NaN        NaN      350.0             True  \n",
       "1         NaN        NaN      350.0             True  \n",
       "2         NaN        NaN      350.0            False  \n",
       "3         NaN        NaN      350.0            False  \n",
       "4         NaN        NaN      350.0            False  \n",
       "..        ...        ...        ...              ...  \n",
       "95        NaN        NaN      350.0            False  \n",
       "96        NaN        NaN      350.0            False  \n",
       "97        NaN        NaN      350.0            False  \n",
       "98        NaN        NaN      350.0            False  \n",
       "99        NaN        NaN      350.0            False  \n",
       "\n",
       "[100 rows x 17 columns]"
      ]
     },
     "execution_count": 3,
     "metadata": {},
     "output_type": "execute_result"
    }
   ],
   "source": [
    "import csv\n",
    "\n",
    "df_psych = pd.read_csv(\n",
    "    \"./data/df_psych.csv\",\n",
    "    delimiter=\",\",\n",
    "    quoting=csv.QUOTE_NONE,\n",
    ")\n",
    "df_psych = df_psych.iloc[:,1:]\n",
    "df_psych.head(100)"
   ]
  },
  {
   "cell_type": "markdown",
   "metadata": {},
   "source": [
    "# Clean up missing values and outliers\n",
    "\n",
    "## Missing values first\n",
    "\n",
    "Recall that we have some missing values in the dataset"
   ]
  },
  {
   "cell_type": "code",
   "execution_count": 4,
   "metadata": {},
   "outputs": [
    {
     "data": {
      "text/plain": [
       "user_id                  0\n",
       "platform_x               0\n",
       "level_1                  0\n",
       "level_2                  0\n",
       "level_3               4850\n",
       "confidence_score         0\n",
       "country_code             0\n",
       "asset_id                 0\n",
       "minutes_viewed           0\n",
       "showtype                 0\n",
       "genre                    5\n",
       "running_minutes          0\n",
       "source_language        701\n",
       "season_id           146311\n",
       "series_id           146311\n",
       "studio_id              300\n",
       "minutes_under_2          0\n",
       "dtype: int64"
      ]
     },
     "execution_count": 4,
     "metadata": {},
     "output_type": "execute_result"
    }
   ],
   "source": [
    "df_psych.isnull().sum()"
   ]
  },
  {
   "cell_type": "markdown",
   "metadata": {},
   "source": [
    "It occurs to us that some level 2 traits do not have a subcategory and some records don't have genres so we remove those specific records."
   ]
  },
  {
   "cell_type": "code",
   "execution_count": 5,
   "metadata": {},
   "outputs": [
    {
     "name": "stdout",
     "output_type": "stream",
     "text": [
      "\n",
      "\n"
     ]
    }
   ],
   "source": [
    "df_psych = df_psych.dropna(subset=['level_3','genre'])\n",
    "df_psych.isnull().sum()\n",
    "print('\\n')"
   ]
  },
  {
   "cell_type": "markdown",
   "metadata": {},
   "source": [
    "We are going to see which studios are missing the source language."
   ]
  },
  {
   "cell_type": "code",
   "execution_count": 6,
   "metadata": {},
   "outputs": [
    {
     "name": "stdout",
     "output_type": "stream",
     "text": [
      "[229. 321.  10. 301.  79. 442. 373.  73. 127. 390.  69. 226. 170. 111.\n",
      " 241. 447.]\n"
     ]
    }
   ],
   "source": [
    "df1 = df_psych[['studio_id','source_language']]\n",
    "df2 = df1.loc[df1['source_language'].isna()]\n",
    "print(df2['studio_id'].unique())"
   ]
  },
  {
   "cell_type": "code",
   "execution_count": 7,
   "metadata": {},
   "outputs": [
    {
     "data": {
      "text/plain": [
       "studio_id\n",
       "10.0     2\n",
       "69.0     1\n",
       "73.0     0\n",
       "79.0     0\n",
       "111.0    0\n",
       "127.0    1\n",
       "170.0    1\n",
       "226.0    2\n",
       "229.0    1\n",
       "241.0    0\n",
       "301.0    0\n",
       "321.0    0\n",
       "373.0    0\n",
       "390.0    1\n",
       "442.0    0\n",
       "447.0    1\n",
       "Name: source_language, dtype: int64"
      ]
     },
     "execution_count": 7,
     "metadata": {},
     "output_type": "execute_result"
    }
   ],
   "source": [
    "df1[df1['studio_id'].isin([229., 321.,  10., 301.,  79., 442., 373.,  73., 127., 390.,  69.,\n",
    "       226., 170., 111., 241., 447.])].groupby('studio_id')['source_language'].nunique()"
   ]
  },
  {
   "cell_type": "markdown",
   "metadata": {},
   "source": [
    "For the studios that are missing source language, there can be no language, one language or two languages. To avoid confusion, we will remove records with missing studio_id and source_language."
   ]
  },
  {
   "cell_type": "code",
   "execution_count": 8,
   "metadata": {},
   "outputs": [
    {
     "data": {
      "text/plain": [
       "user_id                  0\n",
       "platform_x               0\n",
       "level_1                  0\n",
       "level_2                  0\n",
       "level_3                  0\n",
       "confidence_score         0\n",
       "country_code             0\n",
       "asset_id                 0\n",
       "minutes_viewed           0\n",
       "showtype                 0\n",
       "genre                    0\n",
       "running_minutes          0\n",
       "source_language          0\n",
       "season_id           143369\n",
       "series_id           143369\n",
       "studio_id                0\n",
       "minutes_under_2          0\n",
       "dtype: int64"
      ]
     },
     "execution_count": 8,
     "metadata": {},
     "output_type": "execute_result"
    }
   ],
   "source": [
    "df_psych = df_psych.dropna(subset=['studio_id','source_language'])\n",
    "df_psych.isnull().sum()"
   ]
  },
  {
   "cell_type": "markdown",
   "metadata": {},
   "source": [
    "We can see that season_id and series_id have euqal amount of records and recall the showtype in the dataset has only 2 types."
   ]
  },
  {
   "cell_type": "code",
   "execution_count": 9,
   "metadata": {},
   "outputs": [
    {
     "data": {
      "image/png": "[encoded data removed]",
      "text/plain": [
       "<Figure size 432x288 with 1 Axes>"
      ]
     },
     "metadata": {
      "needs_background": "light"
     },
     "output_type": "display_data"
    }
   ],
   "source": [
    "import matplotlib.pyplot as plt\n",
    "\n",
    "plt.hist(df_psych['showtype'])\n",
    "plt.xlabel(\"Show Types\")\n",
    "plt.ylabel(\"Records\")\n",
    "plt.title(\"Distribution of showtype\")\n",
    "plt.show()"
   ]
  },
  {
   "cell_type": "code",
   "execution_count": 10,
   "metadata": {},
   "outputs": [],
   "source": [
    "df1 = df_psych[['showtype','season_id',\"series_id\"]]\n",
    "df2 = df1.loc[(df1['season_id'].isna()) & (df1['series_id'].isna())]"
   ]
  },
  {
   "cell_type": "code",
   "execution_count": 11,
   "metadata": {},
   "outputs": [
    {
     "data": {
      "text/plain": [
       "showtype\n",
       "Movies    1\n",
       "Name: season_id, dtype: int64"
      ]
     },
     "execution_count": 11,
     "metadata": {},
     "output_type": "execute_result"
    }
   ],
   "source": [
    "df2.groupby('showtype')['season_id'].nunique()"
   ]
  },
  {
   "cell_type": "code",
   "execution_count": 12,
   "metadata": {},
   "outputs": [
    {
     "data": {
      "text/plain": [
       "showtype\n",
       "Movies    1\n",
       "Name: series_id, dtype: int64"
      ]
     },
     "execution_count": 12,
     "metadata": {},
     "output_type": "execute_result"
    }
   ],
   "source": [
    "df2.groupby('showtype')['series_id'].nunique()"
   ]
  },
  {
   "cell_type": "markdown",
   "metadata": {},
   "source": [
    "This means that as long as we have valid season_id and series_id, the showtype must be TV shows while those values would be nulls for Movies.\n",
    "Therefore, there is no need to keep season_id and series_id since they are directly correlated to showtype. So we remove the two columns."
   ]
  },
  {
   "cell_type": "code",
   "execution_count": 13,
   "metadata": {},
   "outputs": [
    {
     "data": {
      "text/plain": [
       "user_id             0\n",
       "platform_x          0\n",
       "level_1             0\n",
       "level_2             0\n",
       "level_3             0\n",
       "confidence_score    0\n",
       "country_code        0\n",
       "asset_id            0\n",
       "minutes_viewed      0\n",
       "showtype            0\n",
       "genre               0\n",
       "running_minutes     0\n",
       "source_language     0\n",
       "studio_id           0\n",
       "minutes_under_2     0\n",
       "dtype: int64"
      ]
     },
     "execution_count": 13,
     "metadata": {},
     "output_type": "execute_result"
    }
   ],
   "source": [
    "df_psych = df_psych.drop(['season_id', 'series_id'], axis=1)\n",
    "df_psych.isnull().sum()"
   ]
  },
  {
   "cell_type": "markdown",
   "metadata": {},
   "source": [
    "## Now consider outliers.."
   ]
  }
 ],
 "metadata": {
  "instance_type": "ml.t3.medium",
  "kernelspec": {
   "display_name": "Python 3 (Data Science)",
   "language": "python",
   "name": "python3__SAGEMAKER_INTERNAL__arn:aws:sagemaker:us-east-1:081325390199:image/datascience-1.0"
  },
  "language_info": {
   "codemirror_mode": {
    "name": "ipython",
    "version": 3
   },
   "file_extension": ".py",
   "mimetype": "text/x-python",
   "name": "python",
   "nbconvert_exporter": "python",
   "pygments_lexer": "ipython3",
   "version": "3.7.10"
  }
 },
 "nbformat": 4,
 "nbformat_minor": 4
}
