{
 "cells": [
  {
   "cell_type": "markdown",
   "metadata": {},
   "source": [
    "# Load required libraries"
   ]
  },
  {
   "cell_type": "code",
   "execution_count": 1,
   "metadata": {},
   "outputs": [],
   "source": [
    "import pandas as pd\n",
    "import boto3\n",
    "import sagemaker\n",
    "\n",
    "sess = sagemaker.Session()\n",
    "bucket = sess.default_bucket()\n",
    "role = sagemaker.get_execution_role()\n",
    "region = boto3.Session().region_name"
   ]
  },
  {
   "cell_type": "markdown",
   "metadata": {},
   "source": [
    "# Download the datasets from private S3 bucket"
   ]
  },
  {
   "cell_type": "code",
   "execution_count": 2,
   "metadata": {},
   "outputs": [
    {
     "name": "stdout",
     "output_type": "stream",
     "text": [
      "download: s3://ads508-team4-master/result_demo.csv to data/result_demo.csv\n"
     ]
    }
   ],
   "source": [
    "!aws s3 cp 's3://ads508-team4-master/result_demo.csv' ./data/"
   ]
  },
  {
   "cell_type": "code",
   "execution_count": 3,
   "metadata": {},
   "outputs": [
    {
     "name": "stdout",
     "output_type": "stream",
     "text": [
      "download: s3://ads508-team4-master/result_psych.csv to data/result_psych.csv\n"
     ]
    }
   ],
   "source": [
    "!aws s3 cp 's3://ads508-team4-master/result_psych.csv' ./data/"
   ]
  },
  {
   "cell_type": "code",
   "execution_count": 4,
   "metadata": {},
   "outputs": [
    {
     "data": {
      "text/html": [
       "<div>\n",
       "<style scoped>\n",
       "    .dataframe tbody tr th:only-of-type {\n",
       "        vertical-align: middle;\n",
       "    }\n",
       "\n",
       "    .dataframe tbody tr th {\n",
       "        vertical-align: top;\n",
       "    }\n",
       "\n",
       "    .dataframe thead th {\n",
       "        text-align: right;\n",
       "    }\n",
       "</style>\n",
       "<table border=\"1\" class=\"dataframe\">\n",
       "  <thead>\n",
       "    <tr style=\"text-align: right;\">\n",
       "      <th></th>\n",
       "      <th>user_id</th>\n",
       "      <th>platform_x</th>\n",
       "      <th>level_1</th>\n",
       "      <th>level_2</th>\n",
       "      <th>level_3</th>\n",
       "      <th>confidence_score</th>\n",
       "      <th>country_code</th>\n",
       "      <th>platform_y</th>\n",
       "      <th>asset_id</th>\n",
       "      <th>minutes_viewed</th>\n",
       "      <th>showtype</th>\n",
       "      <th>genre</th>\n",
       "      <th>running_minutes</th>\n",
       "      <th>source_language</th>\n",
       "      <th>season_id</th>\n",
       "      <th>series_id</th>\n",
       "      <th>studio_id</th>\n",
       "    </tr>\n",
       "  </thead>\n",
       "  <tbody>\n",
       "    <tr>\n",
       "      <th>0</th>\n",
       "      <td>1.717987e+10</td>\n",
       "      <td>android</td>\n",
       "      <td>Demographics</td>\n",
       "      <td>Income</td>\n",
       "      <td>Medium</td>\n",
       "      <td>1.000000</td>\n",
       "      <td>PH</td>\n",
       "      <td>android</td>\n",
       "      <td>14707</td>\n",
       "      <td>55</td>\n",
       "      <td>Movies</td>\n",
       "      <td>Action and Adventure</td>\n",
       "      <td>103</td>\n",
       "      <td>Tagalog</td>\n",
       "      <td>NaN</td>\n",
       "      <td>NaN</td>\n",
       "      <td>448.0</td>\n",
       "    </tr>\n",
       "    <tr>\n",
       "      <th>1</th>\n",
       "      <td>3.435974e+10</td>\n",
       "      <td>android</td>\n",
       "      <td>Demographics</td>\n",
       "      <td>Income</td>\n",
       "      <td>Medium</td>\n",
       "      <td>1.000000</td>\n",
       "      <td>PH</td>\n",
       "      <td>android</td>\n",
       "      <td>14707</td>\n",
       "      <td>92</td>\n",
       "      <td>Movies</td>\n",
       "      <td>Action and Adventure</td>\n",
       "      <td>103</td>\n",
       "      <td>Tagalog</td>\n",
       "      <td>NaN</td>\n",
       "      <td>NaN</td>\n",
       "      <td>448.0</td>\n",
       "    </tr>\n",
       "    <tr>\n",
       "      <th>2</th>\n",
       "      <td>1.717987e+10</td>\n",
       "      <td>android</td>\n",
       "      <td>Demographics</td>\n",
       "      <td>Income</td>\n",
       "      <td>Low</td>\n",
       "      <td>1.000000</td>\n",
       "      <td>PH</td>\n",
       "      <td>android</td>\n",
       "      <td>14707</td>\n",
       "      <td>76</td>\n",
       "      <td>Movies</td>\n",
       "      <td>Action and Adventure</td>\n",
       "      <td>103</td>\n",
       "      <td>Tagalog</td>\n",
       "      <td>NaN</td>\n",
       "      <td>NaN</td>\n",
       "      <td>448.0</td>\n",
       "    </tr>\n",
       "    <tr>\n",
       "      <th>3</th>\n",
       "      <td>1.717987e+10</td>\n",
       "      <td>android</td>\n",
       "      <td>Demographics</td>\n",
       "      <td>Age</td>\n",
       "      <td>25 - 34</td>\n",
       "      <td>1.000000</td>\n",
       "      <td>PH</td>\n",
       "      <td>android</td>\n",
       "      <td>14707</td>\n",
       "      <td>76</td>\n",
       "      <td>Movies</td>\n",
       "      <td>Action and Adventure</td>\n",
       "      <td>103</td>\n",
       "      <td>Tagalog</td>\n",
       "      <td>NaN</td>\n",
       "      <td>NaN</td>\n",
       "      <td>448.0</td>\n",
       "    </tr>\n",
       "    <tr>\n",
       "      <th>4</th>\n",
       "      <td>1.717987e+10</td>\n",
       "      <td>android</td>\n",
       "      <td>Demographics</td>\n",
       "      <td>Gender</td>\n",
       "      <td>Male</td>\n",
       "      <td>0.993641</td>\n",
       "      <td>PH</td>\n",
       "      <td>android</td>\n",
       "      <td>14707</td>\n",
       "      <td>76</td>\n",
       "      <td>Movies</td>\n",
       "      <td>Action and Adventure</td>\n",
       "      <td>103</td>\n",
       "      <td>Tagalog</td>\n",
       "      <td>NaN</td>\n",
       "      <td>NaN</td>\n",
       "      <td>448.0</td>\n",
       "    </tr>\n",
       "    <tr>\n",
       "      <th>...</th>\n",
       "      <td>...</td>\n",
       "      <td>...</td>\n",
       "      <td>...</td>\n",
       "      <td>...</td>\n",
       "      <td>...</td>\n",
       "      <td>...</td>\n",
       "      <td>...</td>\n",
       "      <td>...</td>\n",
       "      <td>...</td>\n",
       "      <td>...</td>\n",
       "      <td>...</td>\n",
       "      <td>...</td>\n",
       "      <td>...</td>\n",
       "      <td>...</td>\n",
       "      <td>...</td>\n",
       "      <td>...</td>\n",
       "      <td>...</td>\n",
       "    </tr>\n",
       "    <tr>\n",
       "      <th>95</th>\n",
       "      <td>2.576980e+10</td>\n",
       "      <td>android</td>\n",
       "      <td>Demographics</td>\n",
       "      <td>Income</td>\n",
       "      <td>Medium</td>\n",
       "      <td>1.000000</td>\n",
       "      <td>PH</td>\n",
       "      <td>android</td>\n",
       "      <td>14734</td>\n",
       "      <td>80</td>\n",
       "      <td>Movies</td>\n",
       "      <td>Drama</td>\n",
       "      <td>116</td>\n",
       "      <td>Tagalog</td>\n",
       "      <td>NaN</td>\n",
       "      <td>NaN</td>\n",
       "      <td>448.0</td>\n",
       "    </tr>\n",
       "    <tr>\n",
       "      <th>96</th>\n",
       "      <td>8.589935e+10</td>\n",
       "      <td>android</td>\n",
       "      <td>Demographics</td>\n",
       "      <td>Income</td>\n",
       "      <td>Low</td>\n",
       "      <td>1.000000</td>\n",
       "      <td>PH</td>\n",
       "      <td>android</td>\n",
       "      <td>14734</td>\n",
       "      <td>112</td>\n",
       "      <td>Movies</td>\n",
       "      <td>Drama</td>\n",
       "      <td>116</td>\n",
       "      <td>Tagalog</td>\n",
       "      <td>NaN</td>\n",
       "      <td>NaN</td>\n",
       "      <td>448.0</td>\n",
       "    </tr>\n",
       "    <tr>\n",
       "      <th>97</th>\n",
       "      <td>7.730941e+10</td>\n",
       "      <td>web</td>\n",
       "      <td>Demographics</td>\n",
       "      <td>Gender</td>\n",
       "      <td>Male</td>\n",
       "      <td>0.938380</td>\n",
       "      <td>PH</td>\n",
       "      <td>web</td>\n",
       "      <td>14734</td>\n",
       "      <td>92</td>\n",
       "      <td>Movies</td>\n",
       "      <td>Drama</td>\n",
       "      <td>116</td>\n",
       "      <td>Tagalog</td>\n",
       "      <td>NaN</td>\n",
       "      <td>NaN</td>\n",
       "      <td>448.0</td>\n",
       "    </tr>\n",
       "    <tr>\n",
       "      <th>98</th>\n",
       "      <td>7.730941e+10</td>\n",
       "      <td>web</td>\n",
       "      <td>Demographics</td>\n",
       "      <td>Age</td>\n",
       "      <td>18 - 24</td>\n",
       "      <td>1.000000</td>\n",
       "      <td>PH</td>\n",
       "      <td>web</td>\n",
       "      <td>14734</td>\n",
       "      <td>92</td>\n",
       "      <td>Movies</td>\n",
       "      <td>Drama</td>\n",
       "      <td>116</td>\n",
       "      <td>Tagalog</td>\n",
       "      <td>NaN</td>\n",
       "      <td>NaN</td>\n",
       "      <td>448.0</td>\n",
       "    </tr>\n",
       "    <tr>\n",
       "      <th>99</th>\n",
       "      <td>8.589935e+10</td>\n",
       "      <td>iOS</td>\n",
       "      <td>Demographics</td>\n",
       "      <td>Income</td>\n",
       "      <td>Medium</td>\n",
       "      <td>1.000000</td>\n",
       "      <td>PH</td>\n",
       "      <td>iOS</td>\n",
       "      <td>14734</td>\n",
       "      <td>6</td>\n",
       "      <td>Movies</td>\n",
       "      <td>Drama</td>\n",
       "      <td>116</td>\n",
       "      <td>Tagalog</td>\n",
       "      <td>NaN</td>\n",
       "      <td>NaN</td>\n",
       "      <td>448.0</td>\n",
       "    </tr>\n",
       "  </tbody>\n",
       "</table>\n",
       "<p>100 rows × 17 columns</p>\n",
       "</div>"
      ],
      "text/plain": [
       "         user_id platform_x       level_1 level_2  level_3  confidence_score  \\\n",
       "0   1.717987e+10    android  Demographics  Income   Medium          1.000000   \n",
       "1   3.435974e+10    android  Demographics  Income   Medium          1.000000   \n",
       "2   1.717987e+10    android  Demographics  Income      Low          1.000000   \n",
       "3   1.717987e+10    android  Demographics     Age  25 - 34          1.000000   \n",
       "4   1.717987e+10    android  Demographics  Gender     Male          0.993641   \n",
       "..           ...        ...           ...     ...      ...               ...   \n",
       "95  2.576980e+10    android  Demographics  Income   Medium          1.000000   \n",
       "96  8.589935e+10    android  Demographics  Income      Low          1.000000   \n",
       "97  7.730941e+10        web  Demographics  Gender     Male          0.938380   \n",
       "98  7.730941e+10        web  Demographics     Age  18 - 24          1.000000   \n",
       "99  8.589935e+10        iOS  Demographics  Income   Medium          1.000000   \n",
       "\n",
       "   country_code platform_y  asset_id  minutes_viewed showtype  \\\n",
       "0            PH    android     14707              55   Movies   \n",
       "1            PH    android     14707              92   Movies   \n",
       "2            PH    android     14707              76   Movies   \n",
       "3            PH    android     14707              76   Movies   \n",
       "4            PH    android     14707              76   Movies   \n",
       "..          ...        ...       ...             ...      ...   \n",
       "95           PH    android     14734              80   Movies   \n",
       "96           PH    android     14734             112   Movies   \n",
       "97           PH        web     14734              92   Movies   \n",
       "98           PH        web     14734              92   Movies   \n",
       "99           PH        iOS     14734               6   Movies   \n",
       "\n",
       "                   genre  running_minutes source_language  season_id  \\\n",
       "0   Action and Adventure              103         Tagalog        NaN   \n",
       "1   Action and Adventure              103         Tagalog        NaN   \n",
       "2   Action and Adventure              103         Tagalog        NaN   \n",
       "3   Action and Adventure              103         Tagalog        NaN   \n",
       "4   Action and Adventure              103         Tagalog        NaN   \n",
       "..                   ...              ...             ...        ...   \n",
       "95                 Drama              116         Tagalog        NaN   \n",
       "96                 Drama              116         Tagalog        NaN   \n",
       "97                 Drama              116         Tagalog        NaN   \n",
       "98                 Drama              116         Tagalog        NaN   \n",
       "99                 Drama              116         Tagalog        NaN   \n",
       "\n",
       "    series_id  studio_id  \n",
       "0         NaN      448.0  \n",
       "1         NaN      448.0  \n",
       "2         NaN      448.0  \n",
       "3         NaN      448.0  \n",
       "4         NaN      448.0  \n",
       "..        ...        ...  \n",
       "95        NaN      448.0  \n",
       "96        NaN      448.0  \n",
       "97        NaN      448.0  \n",
       "98        NaN      448.0  \n",
       "99        NaN      448.0  \n",
       "\n",
       "[100 rows x 17 columns]"
      ]
     },
     "execution_count": 4,
     "metadata": {},
     "output_type": "execute_result"
    }
   ],
   "source": [
    "import csv\n",
    "\n",
    "df_demo = pd.read_csv(\n",
    "    \"./data/result_demo.csv\",\n",
    "    delimiter=\",\",\n",
    "    quoting=csv.QUOTE_NONE,\n",
    ")\n",
    "df_demo = df_demo.iloc[:,1:]\n",
    "df_demo.head(100)"
   ]
  },
  {
   "cell_type": "code",
   "execution_count": 5,
   "metadata": {},
   "outputs": [
    {
     "data": {
      "text/html": [
       "<div>\n",
       "<style scoped>\n",
       "    .dataframe tbody tr th:only-of-type {\n",
       "        vertical-align: middle;\n",
       "    }\n",
       "\n",
       "    .dataframe tbody tr th {\n",
       "        vertical-align: top;\n",
       "    }\n",
       "\n",
       "    .dataframe thead th {\n",
       "        text-align: right;\n",
       "    }\n",
       "</style>\n",
       "<table border=\"1\" class=\"dataframe\">\n",
       "  <thead>\n",
       "    <tr style=\"text-align: right;\">\n",
       "      <th></th>\n",
       "      <th>user_id</th>\n",
       "      <th>platform_x</th>\n",
       "      <th>level_1</th>\n",
       "      <th>level_2</th>\n",
       "      <th>level_3</th>\n",
       "      <th>confidence_score</th>\n",
       "      <th>country_code</th>\n",
       "      <th>asset_id</th>\n",
       "      <th>minutes_viewed</th>\n",
       "      <th>showtype</th>\n",
       "      <th>genre</th>\n",
       "      <th>running_minutes</th>\n",
       "      <th>source_language</th>\n",
       "      <th>season_id</th>\n",
       "      <th>series_id</th>\n",
       "      <th>studio_id</th>\n",
       "      <th>minutes_under_2</th>\n",
       "    </tr>\n",
       "  </thead>\n",
       "  <tbody>\n",
       "    <tr>\n",
       "      <th>0</th>\n",
       "      <td>8.589935e+10</td>\n",
       "      <td>web-embed</td>\n",
       "      <td>Psychographics</td>\n",
       "      <td>Movies Lovers</td>\n",
       "      <td>Horror Movies Fans</td>\n",
       "      <td>0.07</td>\n",
       "      <td>ID</td>\n",
       "      <td>10377</td>\n",
       "      <td>1</td>\n",
       "      <td>Movies</td>\n",
       "      <td>Horror</td>\n",
       "      <td>87</td>\n",
       "      <td>Indonesian</td>\n",
       "      <td>NaN</td>\n",
       "      <td>NaN</td>\n",
       "      <td>350.0</td>\n",
       "      <td>True</td>\n",
       "    </tr>\n",
       "    <tr>\n",
       "      <th>1</th>\n",
       "      <td>8.589935e+10</td>\n",
       "      <td>web-embed</td>\n",
       "      <td>Psychographics</td>\n",
       "      <td>Movies Lovers</td>\n",
       "      <td>Indonesian Movies Fans</td>\n",
       "      <td>0.03</td>\n",
       "      <td>ID</td>\n",
       "      <td>10377</td>\n",
       "      <td>1</td>\n",
       "      <td>Movies</td>\n",
       "      <td>Horror</td>\n",
       "      <td>87</td>\n",
       "      <td>Indonesian</td>\n",
       "      <td>NaN</td>\n",
       "      <td>NaN</td>\n",
       "      <td>350.0</td>\n",
       "      <td>True</td>\n",
       "    </tr>\n",
       "    <tr>\n",
       "      <th>2</th>\n",
       "      <td>2.576980e+10</td>\n",
       "      <td>android</td>\n",
       "      <td>Psychographics</td>\n",
       "      <td>Movies Lovers</td>\n",
       "      <td>Romance Movies Fans</td>\n",
       "      <td>0.52</td>\n",
       "      <td>ID</td>\n",
       "      <td>10377</td>\n",
       "      <td>3</td>\n",
       "      <td>Movies</td>\n",
       "      <td>Horror</td>\n",
       "      <td>87</td>\n",
       "      <td>Indonesian</td>\n",
       "      <td>NaN</td>\n",
       "      <td>NaN</td>\n",
       "      <td>350.0</td>\n",
       "      <td>False</td>\n",
       "    </tr>\n",
       "    <tr>\n",
       "      <th>3</th>\n",
       "      <td>2.576980e+10</td>\n",
       "      <td>android</td>\n",
       "      <td>Psychographics</td>\n",
       "      <td>TV Lovers</td>\n",
       "      <td>Kids TV Fans</td>\n",
       "      <td>0.61</td>\n",
       "      <td>ID</td>\n",
       "      <td>10377</td>\n",
       "      <td>3</td>\n",
       "      <td>Movies</td>\n",
       "      <td>Horror</td>\n",
       "      <td>87</td>\n",
       "      <td>Indonesian</td>\n",
       "      <td>NaN</td>\n",
       "      <td>NaN</td>\n",
       "      <td>350.0</td>\n",
       "      <td>False</td>\n",
       "    </tr>\n",
       "    <tr>\n",
       "      <th>4</th>\n",
       "      <td>2.576980e+10</td>\n",
       "      <td>android</td>\n",
       "      <td>Psychographics</td>\n",
       "      <td>TV Lovers</td>\n",
       "      <td>Drama TV Fans</td>\n",
       "      <td>0.60</td>\n",
       "      <td>ID</td>\n",
       "      <td>10377</td>\n",
       "      <td>3</td>\n",
       "      <td>Movies</td>\n",
       "      <td>Horror</td>\n",
       "      <td>87</td>\n",
       "      <td>Indonesian</td>\n",
       "      <td>NaN</td>\n",
       "      <td>NaN</td>\n",
       "      <td>350.0</td>\n",
       "      <td>False</td>\n",
       "    </tr>\n",
       "    <tr>\n",
       "      <th>...</th>\n",
       "      <td>...</td>\n",
       "      <td>...</td>\n",
       "      <td>...</td>\n",
       "      <td>...</td>\n",
       "      <td>...</td>\n",
       "      <td>...</td>\n",
       "      <td>...</td>\n",
       "      <td>...</td>\n",
       "      <td>...</td>\n",
       "      <td>...</td>\n",
       "      <td>...</td>\n",
       "      <td>...</td>\n",
       "      <td>...</td>\n",
       "      <td>...</td>\n",
       "      <td>...</td>\n",
       "      <td>...</td>\n",
       "      <td>...</td>\n",
       "    </tr>\n",
       "    <tr>\n",
       "      <th>95</th>\n",
       "      <td>7.700000e+01</td>\n",
       "      <td>android</td>\n",
       "      <td>Psychographics</td>\n",
       "      <td>Movies Lovers</td>\n",
       "      <td>Korean Movies Fans</td>\n",
       "      <td>0.54</td>\n",
       "      <td>ID</td>\n",
       "      <td>10377</td>\n",
       "      <td>12</td>\n",
       "      <td>Movies</td>\n",
       "      <td>Horror</td>\n",
       "      <td>87</td>\n",
       "      <td>Indonesian</td>\n",
       "      <td>NaN</td>\n",
       "      <td>NaN</td>\n",
       "      <td>350.0</td>\n",
       "      <td>False</td>\n",
       "    </tr>\n",
       "    <tr>\n",
       "      <th>96</th>\n",
       "      <td>7.700000e+01</td>\n",
       "      <td>android</td>\n",
       "      <td>Psychographics</td>\n",
       "      <td>Movies Lovers</td>\n",
       "      <td>English Movies Fans</td>\n",
       "      <td>0.46</td>\n",
       "      <td>ID</td>\n",
       "      <td>10377</td>\n",
       "      <td>12</td>\n",
       "      <td>Movies</td>\n",
       "      <td>Horror</td>\n",
       "      <td>87</td>\n",
       "      <td>Indonesian</td>\n",
       "      <td>NaN</td>\n",
       "      <td>NaN</td>\n",
       "      <td>350.0</td>\n",
       "      <td>False</td>\n",
       "    </tr>\n",
       "    <tr>\n",
       "      <th>97</th>\n",
       "      <td>7.700000e+01</td>\n",
       "      <td>android</td>\n",
       "      <td>Psychographics</td>\n",
       "      <td>TV Lovers</td>\n",
       "      <td>English TV Fans</td>\n",
       "      <td>0.40</td>\n",
       "      <td>ID</td>\n",
       "      <td>10377</td>\n",
       "      <td>12</td>\n",
       "      <td>Movies</td>\n",
       "      <td>Horror</td>\n",
       "      <td>87</td>\n",
       "      <td>Indonesian</td>\n",
       "      <td>NaN</td>\n",
       "      <td>NaN</td>\n",
       "      <td>350.0</td>\n",
       "      <td>False</td>\n",
       "    </tr>\n",
       "    <tr>\n",
       "      <th>98</th>\n",
       "      <td>6.871948e+10</td>\n",
       "      <td>android</td>\n",
       "      <td>Psychographics</td>\n",
       "      <td>TV Lovers</td>\n",
       "      <td>English TV Fans</td>\n",
       "      <td>0.29</td>\n",
       "      <td>ID</td>\n",
       "      <td>10377</td>\n",
       "      <td>3</td>\n",
       "      <td>Movies</td>\n",
       "      <td>Horror</td>\n",
       "      <td>87</td>\n",
       "      <td>Indonesian</td>\n",
       "      <td>NaN</td>\n",
       "      <td>NaN</td>\n",
       "      <td>350.0</td>\n",
       "      <td>False</td>\n",
       "    </tr>\n",
       "    <tr>\n",
       "      <th>99</th>\n",
       "      <td>6.871948e+10</td>\n",
       "      <td>android</td>\n",
       "      <td>Psychographics</td>\n",
       "      <td>Travellers</td>\n",
       "      <td>Local Commuters</td>\n",
       "      <td>0.17</td>\n",
       "      <td>ID</td>\n",
       "      <td>10377</td>\n",
       "      <td>3</td>\n",
       "      <td>Movies</td>\n",
       "      <td>Horror</td>\n",
       "      <td>87</td>\n",
       "      <td>Indonesian</td>\n",
       "      <td>NaN</td>\n",
       "      <td>NaN</td>\n",
       "      <td>350.0</td>\n",
       "      <td>False</td>\n",
       "    </tr>\n",
       "  </tbody>\n",
       "</table>\n",
       "<p>100 rows × 17 columns</p>\n",
       "</div>"
      ],
      "text/plain": [
       "         user_id platform_x         level_1        level_2  \\\n",
       "0   8.589935e+10  web-embed  Psychographics  Movies Lovers   \n",
       "1   8.589935e+10  web-embed  Psychographics  Movies Lovers   \n",
       "2   2.576980e+10    android  Psychographics  Movies Lovers   \n",
       "3   2.576980e+10    android  Psychographics      TV Lovers   \n",
       "4   2.576980e+10    android  Psychographics      TV Lovers   \n",
       "..           ...        ...             ...            ...   \n",
       "95  7.700000e+01    android  Psychographics  Movies Lovers   \n",
       "96  7.700000e+01    android  Psychographics  Movies Lovers   \n",
       "97  7.700000e+01    android  Psychographics      TV Lovers   \n",
       "98  6.871948e+10    android  Psychographics      TV Lovers   \n",
       "99  6.871948e+10    android  Psychographics     Travellers   \n",
       "\n",
       "                   level_3  confidence_score country_code  asset_id  \\\n",
       "0       Horror Movies Fans              0.07           ID     10377   \n",
       "1   Indonesian Movies Fans              0.03           ID     10377   \n",
       "2      Romance Movies Fans              0.52           ID     10377   \n",
       "3             Kids TV Fans              0.61           ID     10377   \n",
       "4            Drama TV Fans              0.60           ID     10377   \n",
       "..                     ...               ...          ...       ...   \n",
       "95      Korean Movies Fans              0.54           ID     10377   \n",
       "96     English Movies Fans              0.46           ID     10377   \n",
       "97         English TV Fans              0.40           ID     10377   \n",
       "98         English TV Fans              0.29           ID     10377   \n",
       "99         Local Commuters              0.17           ID     10377   \n",
       "\n",
       "    minutes_viewed showtype   genre  running_minutes source_language  \\\n",
       "0                1   Movies  Horror               87      Indonesian   \n",
       "1                1   Movies  Horror               87      Indonesian   \n",
       "2                3   Movies  Horror               87      Indonesian   \n",
       "3                3   Movies  Horror               87      Indonesian   \n",
       "4                3   Movies  Horror               87      Indonesian   \n",
       "..             ...      ...     ...              ...             ...   \n",
       "95              12   Movies  Horror               87      Indonesian   \n",
       "96              12   Movies  Horror               87      Indonesian   \n",
       "97              12   Movies  Horror               87      Indonesian   \n",
       "98               3   Movies  Horror               87      Indonesian   \n",
       "99               3   Movies  Horror               87      Indonesian   \n",
       "\n",
       "    season_id  series_id  studio_id  minutes_under_2  \n",
       "0         NaN        NaN      350.0             True  \n",
       "1         NaN        NaN      350.0             True  \n",
       "2         NaN        NaN      350.0            False  \n",
       "3         NaN        NaN      350.0            False  \n",
       "4         NaN        NaN      350.0            False  \n",
       "..        ...        ...        ...              ...  \n",
       "95        NaN        NaN      350.0            False  \n",
       "96        NaN        NaN      350.0            False  \n",
       "97        NaN        NaN      350.0            False  \n",
       "98        NaN        NaN      350.0            False  \n",
       "99        NaN        NaN      350.0            False  \n",
       "\n",
       "[100 rows x 17 columns]"
      ]
     },
     "execution_count": 5,
     "metadata": {},
     "output_type": "execute_result"
    }
   ],
   "source": [
    "df_psych = pd.read_csv(\n",
    "    \"./data/result_psych.csv\",\n",
    "    delimiter=\",\",\n",
    "    quoting=csv.QUOTE_NONE,\n",
    ")\n",
    "df_psych = df_psych.iloc[:,1:]\n",
    "df_psych.head(100)"
   ]
  },
  {
   "cell_type": "markdown",
   "metadata": {},
   "source": [
    "# Beginning Data Exploration"
   ]
  },
  {
   "cell_type": "markdown",
   "metadata": {},
   "source": [
    "## Checking for duplicated users"
   ]
  },
  {
   "cell_type": "code",
   "execution_count": 6,
   "metadata": {},
   "outputs": [],
   "source": [
    "# importing necessary libraries\n",
    "\n",
    "# run below if seaborn packages dont run as expected\n",
    "# pip install -U seaborn\n",
    "\n",
    "import pandas as pd\n",
    "import numpy as np\n",
    "import matplotlib.pyplot as plt\n",
    "import seaborn as sns"
   ]
  },
  {
   "cell_type": "code",
   "execution_count": 7,
   "metadata": {},
   "outputs": [
    {
     "data": {
      "text/plain": [
       "8.589935e+09    321\n",
       "1.717987e+10    216\n",
       "8.589935e+10    211\n",
       "1.717987e+10    186\n",
       "2.576980e+10    186\n",
       "               ... \n",
       "6.012954e+10      1\n",
       "2.576980e+10      1\n",
       "8.589935e+10      1\n",
       "4.294967e+10      1\n",
       "3.435974e+10      1\n",
       "Name: user_id, Length: 3516, dtype: int64"
      ]
     },
     "execution_count": 7,
     "metadata": {},
     "output_type": "execute_result"
    }
   ],
   "source": [
    "df_demo['user_id'].value_counts()"
   ]
  },
  {
   "cell_type": "code",
   "execution_count": 8,
   "metadata": {},
   "outputs": [
    {
     "data": {
      "text/plain": [
       "1.717987e+10    4123\n",
       "6.012954e+10    2793\n",
       "1.060000e+02    2600\n",
       "8.589935e+10    2560\n",
       "3.440000e+02    2414\n",
       "                ... \n",
       "9.448928e+10       1\n",
       "9.448928e+10       1\n",
       "9.448928e+10       1\n",
       "8.589935e+09       1\n",
       "9.448928e+10       1\n",
       "Name: user_id, Length: 5468, dtype: int64"
      ]
     },
     "execution_count": 8,
     "metadata": {},
     "output_type": "execute_result"
    }
   ],
   "source": [
    "df_psych['user_id'].value_counts()"
   ]
  },
  {
   "cell_type": "markdown",
   "metadata": {},
   "source": [
    "Looks like some users have more predictions than others in both demographics and psychographics. A much larger range in psychographics than demographics as well"
   ]
  },
  {
   "cell_type": "markdown",
   "metadata": {},
   "source": [
    "## Checking for missing values"
   ]
  },
  {
   "cell_type": "code",
   "execution_count": 9,
   "metadata": {},
   "outputs": [
    {
     "name": "stdout",
     "output_type": "stream",
     "text": [
      "Nulls in demographics: \n",
      "\n",
      " user_id                 0\n",
      "platform_x              0\n",
      "level_1                 0\n",
      "level_2                 0\n",
      "level_3                 0\n",
      "confidence_score        0\n",
      "country_code            0\n",
      "platform_y              0\n",
      "asset_id                0\n",
      "minutes_viewed          0\n",
      "showtype                0\n",
      "genre                   2\n",
      "running_minutes         0\n",
      "source_language        90\n",
      "season_id           18472\n",
      "series_id           18472\n",
      "studio_id              40\n",
      "dtype: int64 \n",
      " \n",
      "Nulls in psychographics: \n",
      "\n",
      " user_id                  0\n",
      "platform_x               0\n",
      "level_1                  0\n",
      "level_2                  0\n",
      "level_3               4850\n",
      "confidence_score         0\n",
      "country_code             0\n",
      "asset_id                 0\n",
      "minutes_viewed           0\n",
      "showtype                 0\n",
      "genre                    5\n",
      "running_minutes          0\n",
      "source_language        701\n",
      "season_id           146311\n",
      "series_id           146311\n",
      "studio_id              300\n",
      "minutes_under_2          0\n",
      "dtype: int64\n"
     ]
    }
   ],
   "source": [
    "print(\"Nulls in demographics: \\n\\n\",df_demo.isnull().sum(),\"\\n\",\"\\nNulls in psychographics: \\n\\n\",df_psych.isnull().sum())"
   ]
  },
  {
   "cell_type": "markdown",
   "metadata": {},
   "source": [
    "Relatively clean data. Features with a lot of nulls are psychographics.level_3 and season_id and series_id. The former must be a very specific trait that is hard to predict. Assets with missing season_id and series_id must be Movies. "
   ]
  },
  {
   "cell_type": "markdown",
   "metadata": {},
   "source": [
    "To verify our guess, we'll get a subset of the dataframe."
   ]
  },
  {
   "cell_type": "code",
   "execution_count": 10,
   "metadata": {},
   "outputs": [
    {
     "data": {
      "text/plain": [
       "showtype          0\n",
       "season_id    146311\n",
       "series_id    146311\n",
       "dtype: int64"
      ]
     },
     "execution_count": 10,
     "metadata": {},
     "output_type": "execute_result"
    }
   ],
   "source": [
    "df1 = df_psych.loc[df_psych[\"showtype\"]==\"Movies\"]\n",
    "df2 = df1[[\"showtype\",\"season_id\",\"series_id\"]]\n",
    "df2.isna().sum()"
   ]
  },
  {
   "cell_type": "markdown",
   "metadata": {},
   "source": [
    "From this we can confirm that shows with missing season_id and series_id are Movies."
   ]
  },
  {
   "cell_type": "code",
   "execution_count": 11,
   "metadata": {},
   "outputs": [
    {
     "data": {
      "text/plain": [
       "user_id             float64\n",
       "platform_x           object\n",
       "level_1              object\n",
       "level_2              object\n",
       "level_3              object\n",
       "confidence_score    float64\n",
       "country_code         object\n",
       "platform_y           object\n",
       "asset_id              int64\n",
       "minutes_viewed        int64\n",
       "showtype             object\n",
       "genre                object\n",
       "running_minutes       int64\n",
       "source_language      object\n",
       "season_id           float64\n",
       "series_id           float64\n",
       "studio_id           float64\n",
       "dtype: object"
      ]
     },
     "execution_count": 11,
     "metadata": {},
     "output_type": "execute_result"
    }
   ],
   "source": [
    "df_demo.dtypes"
   ]
  },
  {
   "cell_type": "code",
   "execution_count": 12,
   "metadata": {},
   "outputs": [
    {
     "data": {
      "text/plain": [
       "user_id             float64\n",
       "platform_x           object\n",
       "level_1              object\n",
       "level_2              object\n",
       "level_3              object\n",
       "confidence_score    float64\n",
       "country_code         object\n",
       "asset_id              int64\n",
       "minutes_viewed        int64\n",
       "showtype             object\n",
       "genre                object\n",
       "running_minutes       int64\n",
       "source_language      object\n",
       "season_id           float64\n",
       "series_id           float64\n",
       "studio_id           float64\n",
       "minutes_under_2        bool\n",
       "dtype: object"
      ]
     },
     "execution_count": 12,
     "metadata": {},
     "output_type": "execute_result"
    }
   ],
   "source": [
    "df_psych.dtypes"
   ]
  },
  {
   "cell_type": "markdown",
   "metadata": {},
   "source": [
    "## Statistical Descriptions"
   ]
  },
  {
   "cell_type": "code",
   "execution_count": 13,
   "metadata": {},
   "outputs": [
    {
     "data": {
      "text/html": [
       "<div>\n",
       "<style scoped>\n",
       "    .dataframe tbody tr th:only-of-type {\n",
       "        vertical-align: middle;\n",
       "    }\n",
       "\n",
       "    .dataframe tbody tr th {\n",
       "        vertical-align: top;\n",
       "    }\n",
       "\n",
       "    .dataframe thead th {\n",
       "        text-align: right;\n",
       "    }\n",
       "</style>\n",
       "<table border=\"1\" class=\"dataframe\">\n",
       "  <thead>\n",
       "    <tr style=\"text-align: right;\">\n",
       "      <th></th>\n",
       "      <th>confidence_score</th>\n",
       "      <th>minutes_viewed</th>\n",
       "      <th>running_minutes</th>\n",
       "    </tr>\n",
       "  </thead>\n",
       "  <tbody>\n",
       "    <tr>\n",
       "      <th>count</th>\n",
       "      <td>36849.00000</td>\n",
       "      <td>36849.000000</td>\n",
       "      <td>36849.000000</td>\n",
       "    </tr>\n",
       "    <tr>\n",
       "      <th>mean</th>\n",
       "      <td>0.98095</td>\n",
       "      <td>37.295503</td>\n",
       "      <td>76.157399</td>\n",
       "    </tr>\n",
       "    <tr>\n",
       "      <th>std</th>\n",
       "      <td>0.07751</td>\n",
       "      <td>57.666188</td>\n",
       "      <td>33.289861</td>\n",
       "    </tr>\n",
       "    <tr>\n",
       "      <th>min</th>\n",
       "      <td>0.50000</td>\n",
       "      <td>0.000000</td>\n",
       "      <td>6.000000</td>\n",
       "    </tr>\n",
       "    <tr>\n",
       "      <th>25%</th>\n",
       "      <td>1.00000</td>\n",
       "      <td>1.000000</td>\n",
       "      <td>52.000000</td>\n",
       "    </tr>\n",
       "    <tr>\n",
       "      <th>50%</th>\n",
       "      <td>1.00000</td>\n",
       "      <td>21.000000</td>\n",
       "      <td>72.000000</td>\n",
       "    </tr>\n",
       "    <tr>\n",
       "      <th>75%</th>\n",
       "      <td>1.00000</td>\n",
       "      <td>63.000000</td>\n",
       "      <td>102.000000</td>\n",
       "    </tr>\n",
       "    <tr>\n",
       "      <th>max</th>\n",
       "      <td>1.00000</td>\n",
       "      <td>5482.000000</td>\n",
       "      <td>211.000000</td>\n",
       "    </tr>\n",
       "  </tbody>\n",
       "</table>\n",
       "</div>"
      ],
      "text/plain": [
       "       confidence_score  minutes_viewed  running_minutes\n",
       "count       36849.00000    36849.000000     36849.000000\n",
       "mean            0.98095       37.295503        76.157399\n",
       "std             0.07751       57.666188        33.289861\n",
       "min             0.50000        0.000000         6.000000\n",
       "25%             1.00000        1.000000        52.000000\n",
       "50%             1.00000       21.000000        72.000000\n",
       "75%             1.00000       63.000000       102.000000\n",
       "max             1.00000     5482.000000       211.000000"
      ]
     },
     "execution_count": 13,
     "metadata": {},
     "output_type": "execute_result"
    }
   ],
   "source": [
    "df_demo[['confidence_score','minutes_viewed','running_minutes']].describe()"
   ]
  },
  {
   "cell_type": "code",
   "execution_count": 14,
   "metadata": {},
   "outputs": [
    {
     "data": {
      "image/png": "[encoded data removed]",
      "text/plain": [
       "<Figure size 432x288 with 1 Axes>"
      ]
     },
     "metadata": {
      "needs_background": "light"
     },
     "output_type": "display_data"
    }
   ],
   "source": [
    "plt.hist(df_demo['confidence_score'], bins = 25)\n",
    "\n",
    "plt.xlabel(\"Confidence score for demographic\")\n",
    "plt.ylabel(\"Count of confidence scores\")\n",
    "plt.title(\"Distribution of confidence scores for demoographic\")\n",
    "plt.show()"
   ]
  },
  {
   "cell_type": "markdown",
   "metadata": {},
   "source": [
    "For demographics, there is a very high average for confidence scores, with a heavy left skew distribution as its median is greater than its mean, with its median, and even 25th percentile, at a perfect 1 confidence score. Since our goal is to improve the prediction accuracy for those records with confidence score below 0.5, we are going to focus on the psychographics only for our project. "
   ]
  },
  {
   "cell_type": "code",
   "execution_count": 15,
   "metadata": {},
   "outputs": [
    {
     "data": {
      "text/html": [
       "<div>\n",
       "<style scoped>\n",
       "    .dataframe tbody tr th:only-of-type {\n",
       "        vertical-align: middle;\n",
       "    }\n",
       "\n",
       "    .dataframe tbody tr th {\n",
       "        vertical-align: top;\n",
       "    }\n",
       "\n",
       "    .dataframe thead th {\n",
       "        text-align: right;\n",
       "    }\n",
       "</style>\n",
       "<table border=\"1\" class=\"dataframe\">\n",
       "  <thead>\n",
       "    <tr style=\"text-align: right;\">\n",
       "      <th></th>\n",
       "      <th>confidence_score</th>\n",
       "      <th>minutes_viewed</th>\n",
       "      <th>running_minutes</th>\n",
       "    </tr>\n",
       "  </thead>\n",
       "  <tbody>\n",
       "    <tr>\n",
       "      <th>count</th>\n",
       "      <td>303848.000000</td>\n",
       "      <td>303848.000000</td>\n",
       "      <td>303848.000000</td>\n",
       "    </tr>\n",
       "    <tr>\n",
       "      <th>mean</th>\n",
       "      <td>0.627092</td>\n",
       "      <td>36.800677</td>\n",
       "      <td>73.081837</td>\n",
       "    </tr>\n",
       "    <tr>\n",
       "      <th>std</th>\n",
       "      <td>0.317618</td>\n",
       "      <td>63.448361</td>\n",
       "      <td>34.009141</td>\n",
       "    </tr>\n",
       "    <tr>\n",
       "      <th>min</th>\n",
       "      <td>0.000000</td>\n",
       "      <td>0.000000</td>\n",
       "      <td>6.000000</td>\n",
       "    </tr>\n",
       "    <tr>\n",
       "      <th>25%</th>\n",
       "      <td>0.330000</td>\n",
       "      <td>2.000000</td>\n",
       "      <td>47.000000</td>\n",
       "    </tr>\n",
       "    <tr>\n",
       "      <th>50%</th>\n",
       "      <td>0.690000</td>\n",
       "      <td>19.000000</td>\n",
       "      <td>69.000000</td>\n",
       "    </tr>\n",
       "    <tr>\n",
       "      <th>75%</th>\n",
       "      <td>0.930000</td>\n",
       "      <td>62.000000</td>\n",
       "      <td>97.000000</td>\n",
       "    </tr>\n",
       "    <tr>\n",
       "      <th>max</th>\n",
       "      <td>1.000000</td>\n",
       "      <td>5482.000000</td>\n",
       "      <td>211.000000</td>\n",
       "    </tr>\n",
       "  </tbody>\n",
       "</table>\n",
       "</div>"
      ],
      "text/plain": [
       "       confidence_score  minutes_viewed  running_minutes\n",
       "count     303848.000000   303848.000000    303848.000000\n",
       "mean           0.627092       36.800677        73.081837\n",
       "std            0.317618       63.448361        34.009141\n",
       "min            0.000000        0.000000         6.000000\n",
       "25%            0.330000        2.000000        47.000000\n",
       "50%            0.690000       19.000000        69.000000\n",
       "75%            0.930000       62.000000        97.000000\n",
       "max            1.000000     5482.000000       211.000000"
      ]
     },
     "execution_count": 15,
     "metadata": {},
     "output_type": "execute_result"
    }
   ],
   "source": [
    "df_psych[['confidence_score','minutes_viewed','running_minutes']].describe()"
   ]
  },
  {
   "cell_type": "code",
   "execution_count": 16,
   "metadata": {},
   "outputs": [
    {
     "data": {
      "image/png": "[encoded data removed]",
      "text/plain": [
       "<Figure size 432x288 with 1 Axes>"
      ]
     },
     "metadata": {
      "needs_background": "light"
     },
     "output_type": "display_data"
    }
   ],
   "source": [
    "plt.hist(df_psych['confidence_score'], bins = 25)\n",
    "\n",
    "plt.xlabel(\"Confidence score for psychographic\")\n",
    "plt.ylabel(\"Count of confidence scores\")\n",
    "plt.title(\"Distribution of confidence scores for psychographic\")\n",
    "plt.show()"
   ]
  },
  {
   "cell_type": "code",
   "execution_count": 17,
   "metadata": {},
   "outputs": [
    {
     "data": {
      "text/plain": [
       "Text(0, 0.5, 'confidence score')"
      ]
     },
     "execution_count": 17,
     "metadata": {},
     "output_type": "execute_result"
    },
    {
     "data": {
      "image/png": "[encoded data removed]",
      "text/plain": [
       "<Figure size 720x504 with 1 Axes>"
      ]
     },
     "metadata": {
      "needs_background": "light"
     },
     "output_type": "display_data"
    }
   ],
   "source": [
    "fig = plt.figure(figsize =(10, 7))\n",
    "# Creating axes instance\n",
    "boxplot = df_psych.boxplot(column=['confidence_score'])\n",
    "plt.title(\"Boxplot of confidence score for psychographics\", fontsize = 16)\n",
    "plt.ylabel(\"confidence score\", fontsize= 14 )"
   ]
  },
  {
   "cell_type": "markdown",
   "metadata": {},
   "source": [
    "A semi-uniform distribution on the confidence score with a spike of scores around 1. We must exercise caution when working with this data, and we should set some type of cutoff to only retain the best data. Possible data balance is required."
   ]
  },
  {
   "cell_type": "code",
   "execution_count": 18,
   "metadata": {},
   "outputs": [
    {
     "data": {
      "image/png": "[encoded data removed]",
      "text/plain": [
       "<Figure size 432x288 with 1 Axes>"
      ]
     },
     "metadata": {
      "needs_background": "light"
     },
     "output_type": "display_data"
    }
   ],
   "source": [
    "plt.hist(df_psych['running_minutes'], bins = 25)\n",
    "\n",
    "plt.xlabel(\"Total running minutes per asset\")\n",
    "plt.ylabel(\"Count of running minute range\")\n",
    "plt.title(\"Distribution of running minutes for shows\")\n",
    "plt.show()"
   ]
  },
  {
   "cell_type": "code",
   "execution_count": 19,
   "metadata": {},
   "outputs": [
    {
     "data": {
      "text/plain": [
       "Text(0, 0.5, 'running_minutes')"
      ]
     },
     "execution_count": 19,
     "metadata": {},
     "output_type": "execute_result"
    },
    {
     "data": {
      "image/png": "[encoded data removed]",
      "text/plain": [
       "<Figure size 720x504 with 1 Axes>"
      ]
     },
     "metadata": {
      "needs_background": "light"
     },
     "output_type": "display_data"
    }
   ],
   "source": [
    "fig = plt.figure(figsize =(10, 7))\n",
    "# Creating axes instance\n",
    "boxplot = df_psych.boxplot(column=['running_minutes'])\n",
    "plt.title(\"Boxplot of running_minutes for psychographics\", fontsize = 16)\n",
    "plt.ylabel(\"running_minutes\", fontsize= 14 )"
   ]
  },
  {
   "cell_type": "markdown",
   "metadata": {},
   "source": [
    "We see that most running minutes fall into 5 to 160 minutes."
   ]
  },
  {
   "cell_type": "code",
   "execution_count": 20,
   "metadata": {},
   "outputs": [
    {
     "name": "stdout",
     "output_type": "stream",
     "text": [
      "/opt/conda/lib/python3.7/site-packages/secretstorage/dhcrypto.py:16: CryptographyDeprecationWarning: int_from_bytes is deprecated, use int.from_bytes instead\n",
      "  from cryptography.utils import int_from_bytes\n",
      "/opt/conda/lib/python3.7/site-packages/secretstorage/util.py:25: CryptographyDeprecationWarning: int_from_bytes is deprecated, use int.from_bytes instead\n",
      "  from cryptography.utils import int_from_bytes\n",
      "Requirement already satisfied: seaborn in /opt/conda/lib/python3.7/site-packages (0.11.2)\n",
      "Requirement already satisfied: matplotlib>=2.2 in /opt/conda/lib/python3.7/site-packages (from seaborn) (3.1.3)\n",
      "Requirement already satisfied: numpy>=1.15 in /opt/conda/lib/python3.7/site-packages (from seaborn) (1.20.3)\n",
      "Requirement already satisfied: pandas>=0.23 in /opt/conda/lib/python3.7/site-packages (from seaborn) (1.0.1)\n",
      "Requirement already satisfied: scipy>=1.0 in /opt/conda/lib/python3.7/site-packages (from seaborn) (1.4.1)\n",
      "Requirement already satisfied: cycler>=0.10 in /opt/conda/lib/python3.7/site-packages (from matplotlib>=2.2->seaborn) (0.10.0)\n",
      "Requirement already satisfied: kiwisolver>=1.0.1 in /opt/conda/lib/python3.7/site-packages (from matplotlib>=2.2->seaborn) (1.1.0)\n",
      "Requirement already satisfied: python-dateutil>=2.1 in /opt/conda/lib/python3.7/site-packages (from matplotlib>=2.2->seaborn) (2.8.1)\n",
      "Requirement already satisfied: pyparsing!=2.0.4,!=2.1.2,!=2.1.6,>=2.0.1 in /opt/conda/lib/python3.7/site-packages (from matplotlib>=2.2->seaborn) (2.4.6)\n",
      "Requirement already satisfied: pytz>=2017.2 in /opt/conda/lib/python3.7/site-packages (from pandas>=0.23->seaborn) (2019.3)\n",
      "Requirement already satisfied: six in /opt/conda/lib/python3.7/site-packages (from cycler>=0.10->matplotlib>=2.2->seaborn) (1.14.0)\n",
      "Requirement already satisfied: setuptools in /opt/conda/lib/python3.7/site-packages (from kiwisolver>=1.0.1->matplotlib>=2.2->seaborn) (59.5.0)\n",
      "\u001b[33mWARNING: Running pip as the 'root' user can result in broken permissions and conflicting behaviour with the system package manager. It is recommended to use a virtual environment instead: https://pip.pypa.io/warnings/venv\u001b[0m\n",
      "\u001b[33mWARNING: You are using pip version 21.3.1; however, version 22.0.4 is available.\n",
      "You should consider upgrading via the '/opt/conda/bin/python -m pip install --upgrade pip' command.\u001b[0m\n"
     ]
    },
    {
     "data": {
      "text/plain": [
       "<matplotlib.axes._subplots.AxesSubplot at 0x7f6febaacb90>"
      ]
     },
     "execution_count": 20,
     "metadata": {},
     "output_type": "execute_result"
    },
    {
     "data": {
      "image/png": "[encoded data removed]",
      "text/plain": [
       "<Figure size 432x288 with 1 Axes>"
      ]
     },
     "metadata": {
      "needs_background": "light"
     },
     "output_type": "display_data"
    }
   ],
   "source": [
    "!pip install -U seaborn\n",
    "import seaborn as sns\n",
    "\n",
    "sns.histplot(data=df_psych,x='running_minutes', hue = 'showtype', bins = 30)"
   ]
  },
  {
   "cell_type": "markdown",
   "metadata": {},
   "source": [
    "Predictably, movies tend to be much longer than tv shows. TV shows have two spikes - around 30 and 40 minutes, while movies have a slight right skew with its most around 80 minutes or so."
   ]
  },
  {
   "cell_type": "code",
   "execution_count": 21,
   "metadata": {},
   "outputs": [
    {
     "data": {
      "image/png": "[encoded data removed]",
      "text/plain": [
       "<Figure size 432x288 with 1 Axes>"
      ]
     },
     "metadata": {
      "needs_background": "light"
     },
     "output_type": "display_data"
    }
   ],
   "source": [
    "plt.hist(df_psych['minutes_viewed'], bins = 25)\n",
    "\n",
    "plt.xlabel(\"Total minutes viewed for each play\")\n",
    "plt.ylabel(\"Count of minutes viewed ranges\")\n",
    "plt.title(\"Distribution of minutes viewed for each play\")\n",
    "plt.show()"
   ]
  },
  {
   "cell_type": "markdown",
   "metadata": {},
   "source": [
    "This distribution has a very large right skew, with its maximum value at 18,078 minutes viewed, per the statistcal summary. Some must be ones people left playing and they weren't watching. These outliers should be eliminated.There are also many minutes viewed near 0, which could be people accidentally hitting play or losing interest after the first few minutes."
   ]
  },
  {
   "cell_type": "code",
   "execution_count": 22,
   "metadata": {},
   "outputs": [
    {
     "data": {
      "text/plain": [
       "Text(0, 0.5, 'minutes_viewed')"
      ]
     },
     "execution_count": 22,
     "metadata": {},
     "output_type": "execute_result"
    },
    {
     "data": {
      "image/png": "[encoded data removed]",
      "text/plain": [
       "<Figure size 720x504 with 1 Axes>"
      ]
     },
     "metadata": {
      "needs_background": "light"
     },
     "output_type": "display_data"
    }
   ],
   "source": [
    "fig = plt.figure(figsize =(10, 7))\n",
    "# Creating axes instance\n",
    "boxplot = df_psych.boxplot(column=['minutes_viewed'])\n",
    "plt.title(\"Boxplot of minutes_viewed for psychographics\", fontsize = 16)\n",
    "plt.ylabel(\"minutes_viewed\", fontsize= 14 )"
   ]
  },
  {
   "cell_type": "markdown",
   "metadata": {},
   "source": [
    "From the boxplot we can see that majority of the viewing time stays within a movie length as < 200 min, this can indicate that more people like to watch movies as opposed to TV shows."
   ]
  },
  {
   "cell_type": "code",
   "execution_count": 23,
   "metadata": {},
   "outputs": [],
   "source": [
    "# Setting some type of filter, can and will be changed to a better measure for an outlier.\n",
    "\n",
    "plays_nol = df_psych.loc[(df_psych['minutes_viewed'] < 850) & (df_psych['minutes_viewed'] > 1)]"
   ]
  },
  {
   "cell_type": "code",
   "execution_count": 24,
   "metadata": {},
   "outputs": [
    {
     "data": {
      "image/png": "[encoded data removed]",
      "text/plain": [
       "<Figure size 432x288 with 1 Axes>"
      ]
     },
     "metadata": {
      "needs_background": "light"
     },
     "output_type": "display_data"
    }
   ],
   "source": [
    "plt.hist(plays_nol['minutes_viewed'], bins = 50)\n",
    "\n",
    "plt.xlabel(\"Total minutes viewed for each play\")\n",
    "plt.ylabel(\"Count of minutes viewed ranges\")\n",
    "plt.title(\"Distribution of minutes viewed for each play\")\n",
    "plt.show()"
   ]
  },
  {
   "cell_type": "markdown",
   "metadata": {},
   "source": [
    "This further shows that majority of the viewed times are within a movie length."
   ]
  },
  {
   "cell_type": "code",
   "execution_count": 25,
   "metadata": {},
   "outputs": [
    {
     "data": {
      "image/png": "[encoded data removed]",
      "text/plain": [
       "<Figure size 432x288 with 1 Axes>"
      ]
     },
     "metadata": {
      "needs_background": "light"
     },
     "output_type": "display_data"
    }
   ],
   "source": [
    "plt.hist(plays_nol['country_code'], bins = 50)\n",
    "\n",
    "plt.xlabel(\"Total countries\")\n",
    "plt.ylabel(\"Count of countries\")\n",
    "plt.title(\"Distribution of country_code\")\n",
    "plt.show()"
   ]
  },
  {
   "cell_type": "markdown",
   "metadata": {},
   "source": [
    "The top countries of our customers are from ID, MY, and PH."
   ]
  },
  {
   "cell_type": "code",
   "execution_count": 26,
   "metadata": {},
   "outputs": [],
   "source": [
    "# Before continuing, lets add a column for where minutes_viewed < 2\n",
    "\n",
    "\n",
    "df_psych['minutes_under_2'] = df_psych['minutes_viewed'] < 2\n",
    "\n"
   ]
  },
  {
   "cell_type": "code",
   "execution_count": 27,
   "metadata": {},
   "outputs": [
    {
     "data": {
      "text/plain": [
       "<matplotlib.axes._subplots.AxesSubplot at 0x7f6fe366b590>"
      ]
     },
     "execution_count": 27,
     "metadata": {},
     "output_type": "execute_result"
    },
    {
     "data": {
      "image/png": "[encoded data removed]",
      "text/plain": [
       "<Figure size 1584x595.44 with 1 Axes>"
      ]
     },
     "metadata": {},
     "output_type": "display_data"
    }
   ],
   "source": [
    "# what types of devices are videos mostly played on?\n",
    "\n",
    "sns.set(rc={'figure.figsize':(22,8.27)})\n",
    "\n",
    "sns.countplot(x='platform_x',hue='minutes_under_2',data = df_psych)"
   ]
  },
  {
   "cell_type": "code",
   "execution_count": 28,
   "metadata": {},
   "outputs": [
    {
     "ename": "ValueError",
     "evalue": "Could not interpret input 'platform_y'",
     "output_type": "error",
     "traceback": [
      "\u001b[0;31m---------------------------------------------------------------------------\u001b[0m",
      "\u001b[0;31mValueError\u001b[0m                                Traceback (most recent call last)",
      "\u001b[0;32m<ipython-input-28-cc8ec19e78c6>\u001b[0m in \u001b[0;36m<module>\u001b[0;34m\u001b[0m\n\u001b[1;32m      3\u001b[0m \u001b[0msns\u001b[0m\u001b[0;34m.\u001b[0m\u001b[0mset\u001b[0m\u001b[0;34m(\u001b[0m\u001b[0mrc\u001b[0m\u001b[0;34m=\u001b[0m\u001b[0;34m{\u001b[0m\u001b[0;34m'figure.figsize'\u001b[0m\u001b[0;34m:\u001b[0m\u001b[0;34m(\u001b[0m\u001b[0;36m22\u001b[0m\u001b[0;34m,\u001b[0m\u001b[0;36m8.27\u001b[0m\u001b[0;34m)\u001b[0m\u001b[0;34m}\u001b[0m\u001b[0;34m)\u001b[0m\u001b[0;34m\u001b[0m\u001b[0;34m\u001b[0m\u001b[0m\n\u001b[1;32m      4\u001b[0m \u001b[0;34m\u001b[0m\u001b[0m\n\u001b[0;32m----> 5\u001b[0;31m \u001b[0msns\u001b[0m\u001b[0;34m.\u001b[0m\u001b[0mcountplot\u001b[0m\u001b[0;34m(\u001b[0m\u001b[0mx\u001b[0m\u001b[0;34m=\u001b[0m\u001b[0;34m'platform_y'\u001b[0m\u001b[0;34m,\u001b[0m\u001b[0mhue\u001b[0m\u001b[0;34m=\u001b[0m\u001b[0;34m'minutes_under_2'\u001b[0m\u001b[0;34m,\u001b[0m\u001b[0mdata\u001b[0m \u001b[0;34m=\u001b[0m \u001b[0mdf_psych\u001b[0m\u001b[0;34m)\u001b[0m\u001b[0;34m\u001b[0m\u001b[0;34m\u001b[0m\u001b[0m\n\u001b[0m",
      "\u001b[0;32m/opt/conda/lib/python3.7/site-packages/seaborn/_decorators.py\u001b[0m in \u001b[0;36minner_f\u001b[0;34m(*args, **kwargs)\u001b[0m\n\u001b[1;32m     44\u001b[0m             )\n\u001b[1;32m     45\u001b[0m         \u001b[0mkwargs\u001b[0m\u001b[0;34m.\u001b[0m\u001b[0mupdate\u001b[0m\u001b[0;34m(\u001b[0m\u001b[0;34m{\u001b[0m\u001b[0mk\u001b[0m\u001b[0;34m:\u001b[0m \u001b[0marg\u001b[0m \u001b[0;32mfor\u001b[0m \u001b[0mk\u001b[0m\u001b[0;34m,\u001b[0m \u001b[0marg\u001b[0m \u001b[0;32min\u001b[0m \u001b[0mzip\u001b[0m\u001b[0;34m(\u001b[0m\u001b[0msig\u001b[0m\u001b[0;34m.\u001b[0m\u001b[0mparameters\u001b[0m\u001b[0;34m,\u001b[0m \u001b[0margs\u001b[0m\u001b[0;34m)\u001b[0m\u001b[0;34m}\u001b[0m\u001b[0;34m)\u001b[0m\u001b[0;34m\u001b[0m\u001b[0;34m\u001b[0m\u001b[0m\n\u001b[0;32m---> 46\u001b[0;31m         \u001b[0;32mreturn\u001b[0m \u001b[0mf\u001b[0m\u001b[0;34m(\u001b[0m\u001b[0;34m**\u001b[0m\u001b[0mkwargs\u001b[0m\u001b[0;34m)\u001b[0m\u001b[0;34m\u001b[0m\u001b[0;34m\u001b[0m\u001b[0m\n\u001b[0m\u001b[1;32m     47\u001b[0m     \u001b[0;32mreturn\u001b[0m \u001b[0minner_f\u001b[0m\u001b[0;34m\u001b[0m\u001b[0;34m\u001b[0m\u001b[0m\n\u001b[1;32m     48\u001b[0m \u001b[0;34m\u001b[0m\u001b[0m\n",
      "\u001b[0;32m/opt/conda/lib/python3.7/site-packages/seaborn/categorical.py\u001b[0m in \u001b[0;36mcountplot\u001b[0;34m(x, y, hue, data, order, hue_order, orient, color, palette, saturation, dodge, ax, **kwargs)\u001b[0m\n\u001b[1;32m   3600\u001b[0m         \u001b[0mestimator\u001b[0m\u001b[0;34m,\u001b[0m \u001b[0mci\u001b[0m\u001b[0;34m,\u001b[0m \u001b[0mn_boot\u001b[0m\u001b[0;34m,\u001b[0m \u001b[0munits\u001b[0m\u001b[0;34m,\u001b[0m \u001b[0mseed\u001b[0m\u001b[0;34m,\u001b[0m\u001b[0;34m\u001b[0m\u001b[0;34m\u001b[0m\u001b[0m\n\u001b[1;32m   3601\u001b[0m         \u001b[0morient\u001b[0m\u001b[0;34m,\u001b[0m \u001b[0mcolor\u001b[0m\u001b[0;34m,\u001b[0m \u001b[0mpalette\u001b[0m\u001b[0;34m,\u001b[0m \u001b[0msaturation\u001b[0m\u001b[0;34m,\u001b[0m\u001b[0;34m\u001b[0m\u001b[0;34m\u001b[0m\u001b[0m\n\u001b[0;32m-> 3602\u001b[0;31m         \u001b[0merrcolor\u001b[0m\u001b[0;34m,\u001b[0m \u001b[0merrwidth\u001b[0m\u001b[0;34m,\u001b[0m \u001b[0mcapsize\u001b[0m\u001b[0;34m,\u001b[0m \u001b[0mdodge\u001b[0m\u001b[0;34m\u001b[0m\u001b[0;34m\u001b[0m\u001b[0m\n\u001b[0m\u001b[1;32m   3603\u001b[0m     )\n\u001b[1;32m   3604\u001b[0m \u001b[0;34m\u001b[0m\u001b[0m\n",
      "\u001b[0;32m/opt/conda/lib/python3.7/site-packages/seaborn/categorical.py\u001b[0m in \u001b[0;36m__init__\u001b[0;34m(self, x, y, hue, data, order, hue_order, estimator, ci, n_boot, units, seed, orient, color, palette, saturation, errcolor, errwidth, capsize, dodge)\u001b[0m\n\u001b[1;32m   1583\u001b[0m         \u001b[0;34m\"\"\"Initialize the plotter.\"\"\"\u001b[0m\u001b[0;34m\u001b[0m\u001b[0;34m\u001b[0m\u001b[0m\n\u001b[1;32m   1584\u001b[0m         self.establish_variables(x, y, hue, data, orient,\n\u001b[0;32m-> 1585\u001b[0;31m                                  order, hue_order, units)\n\u001b[0m\u001b[1;32m   1586\u001b[0m         \u001b[0mself\u001b[0m\u001b[0;34m.\u001b[0m\u001b[0mestablish_colors\u001b[0m\u001b[0;34m(\u001b[0m\u001b[0mcolor\u001b[0m\u001b[0;34m,\u001b[0m \u001b[0mpalette\u001b[0m\u001b[0;34m,\u001b[0m \u001b[0msaturation\u001b[0m\u001b[0;34m)\u001b[0m\u001b[0;34m\u001b[0m\u001b[0;34m\u001b[0m\u001b[0m\n\u001b[1;32m   1587\u001b[0m         \u001b[0mself\u001b[0m\u001b[0;34m.\u001b[0m\u001b[0mestimate_statistic\u001b[0m\u001b[0;34m(\u001b[0m\u001b[0mestimator\u001b[0m\u001b[0;34m,\u001b[0m \u001b[0mci\u001b[0m\u001b[0;34m,\u001b[0m \u001b[0mn_boot\u001b[0m\u001b[0;34m,\u001b[0m \u001b[0mseed\u001b[0m\u001b[0;34m)\u001b[0m\u001b[0;34m\u001b[0m\u001b[0;34m\u001b[0m\u001b[0m\n",
      "\u001b[0;32m/opt/conda/lib/python3.7/site-packages/seaborn/categorical.py\u001b[0m in \u001b[0;36mestablish_variables\u001b[0;34m(self, x, y, hue, data, orient, order, hue_order, units)\u001b[0m\n\u001b[1;32m    151\u001b[0m                 \u001b[0;32mif\u001b[0m \u001b[0misinstance\u001b[0m\u001b[0;34m(\u001b[0m\u001b[0mvar\u001b[0m\u001b[0;34m,\u001b[0m \u001b[0mstr\u001b[0m\u001b[0;34m)\u001b[0m\u001b[0;34m:\u001b[0m\u001b[0;34m\u001b[0m\u001b[0;34m\u001b[0m\u001b[0m\n\u001b[1;32m    152\u001b[0m                     \u001b[0merr\u001b[0m \u001b[0;34m=\u001b[0m \u001b[0;34m\"Could not interpret input '{}'\"\u001b[0m\u001b[0;34m.\u001b[0m\u001b[0mformat\u001b[0m\u001b[0;34m(\u001b[0m\u001b[0mvar\u001b[0m\u001b[0;34m)\u001b[0m\u001b[0;34m\u001b[0m\u001b[0;34m\u001b[0m\u001b[0m\n\u001b[0;32m--> 153\u001b[0;31m                     \u001b[0;32mraise\u001b[0m \u001b[0mValueError\u001b[0m\u001b[0;34m(\u001b[0m\u001b[0merr\u001b[0m\u001b[0;34m)\u001b[0m\u001b[0;34m\u001b[0m\u001b[0;34m\u001b[0m\u001b[0m\n\u001b[0m\u001b[1;32m    154\u001b[0m \u001b[0;34m\u001b[0m\u001b[0m\n\u001b[1;32m    155\u001b[0m             \u001b[0;31m# Figure out the plotting orientation\u001b[0m\u001b[0;34m\u001b[0m\u001b[0;34m\u001b[0m\u001b[0;34m\u001b[0m\u001b[0m\n",
      "\u001b[0;31mValueError\u001b[0m: Could not interpret input 'platform_y'"
     ]
    }
   ],
   "source": [
    "# what types of devices are videos mostly played on?\n",
    "\n",
    "sns.set(rc={'figure.figsize':(22,8.27)})\n",
    "\n",
    "sns.countplot(x='platform_y',hue='minutes_under_2',data = df_psych)"
   ]
  },
  {
   "cell_type": "markdown",
   "metadata": {},
   "source": [
    "For one, it appears that platform_x and platform_y are duplicates, thus, we will remove platform y from our dataframe. Secondly, the majority of views are on an android."
   ]
  },
  {
   "cell_type": "code",
   "execution_count": null,
   "metadata": {},
   "outputs": [],
   "source": [
    "df_psych = df_psych.drop(['platform_y'],axis = 1)\n",
    "df_psych.head()"
   ]
  },
  {
   "cell_type": "markdown",
   "metadata": {},
   "source": [
    "## Upload the new df_psych to S3 bucket"
   ]
  },
  {
   "cell_type": "code",
   "execution_count": null,
   "metadata": {},
   "outputs": [],
   "source": [
    "from io import StringIO\n",
    "\n",
    "bucket = 'ads508-team4-master'\n",
    "csv_buffer = StringIO()\n",
    "\n",
    "df_psych.to_csv(csv_buffer)\n",
    "s3_resource = boto3.resource('s3')\n",
    "s3_resource.Object(bucket, 'df_psych.csv').put(Body=csv_buffer.getvalue())"
   ]
  },
  {
   "cell_type": "code",
   "execution_count": null,
   "metadata": {},
   "outputs": [],
   "source": [
    "# Seeing how long users watched on certain platforms\n",
    "\n",
    "sns.set(rc={'figure.figsize':(22,8.27)})\n",
    "\n",
    "sns.barplot(df_psych['platform_x'],df_psych['minutes_viewed'])"
   ]
  },
  {
   "cell_type": "markdown",
   "metadata": {},
   "source": [
    "It appears videos on Roku would be viewed much longer than on other platforms even though the user base is in minority. The web-based streaming platforms are generally lower with minutes viewed while mobile devices like android and iOS are in the middle."
   ]
  },
  {
   "cell_type": "code",
   "execution_count": null,
   "metadata": {},
   "outputs": [],
   "source": [
    "# How long are show/movies? how do they differ? do genres play a role?\n",
    "\n",
    "sns.set(rc={'figure.figsize':(36,8)})\n",
    "\n",
    "\n",
    "sns.barplot(df_psych['genre'],df_psych['running_minutes'], hue = df_psych['showtype'])"
   ]
  },
  {
   "cell_type": "markdown",
   "metadata": {},
   "source": [
    "Again, movies are definitely longer than tv shows except in a select few genres. genres that tend to have short movies than the rest are music, kids, animation and biographical. Kids and web shows are among the shortest shows. Longest movies are fantasy movies. "
   ]
  },
  {
   "cell_type": "code",
   "execution_count": null,
   "metadata": {},
   "outputs": [],
   "source": [
    "# What genres are represented and how often are each in the dataset? do they differ depending on show type?\n",
    "\n",
    "sns.set(rc={'figure.figsize':(40,8)})\n",
    "\n",
    "sns.countplot(x='genre',hue='showtype',data=df_psych)"
   ]
  },
  {
   "cell_type": "markdown",
   "metadata": {},
   "source": [
    "There are many more tv shows in this data set than movies. The most popular genre for both shows and movies are Dramas. 2nd most popular for shows are kids shows and 2nd most for movies are comedies. "
   ]
  },
  {
   "cell_type": "code",
   "execution_count": null,
   "metadata": {},
   "outputs": [],
   "source": [
    "df_psych_NOL = df_psych.loc[(df_psych['minutes_viewed'] < 850) & (df_psych['minutes_viewed'] > 2)]\n",
    "\n",
    "sns.histplot(df_psych_NOL,x='minutes_viewed',hue='showtype',element='step',stat='density')"
   ]
  },
  {
   "cell_type": "markdown",
   "metadata": {},
   "source": [
    "Seems like when people watch something between 20 to 80 minutes, it's generally a tv show. If the view time is over 80 minutes, it is more likely a movie."
   ]
  },
  {
   "cell_type": "code",
   "execution_count": null,
   "metadata": {},
   "outputs": [],
   "source": [
    "# What types of psychographic traits are there?\n",
    "\n",
    "sns.countplot(x='level_2',data= df_psych)"
   ]
  },
  {
   "cell_type": "markdown",
   "metadata": {},
   "source": [
    "From the barchart above we see that there are more Movie Lovers than other type of audience which matches our inital guess."
   ]
  },
  {
   "cell_type": "code",
   "execution_count": null,
   "metadata": {},
   "outputs": [],
   "source": [
    "sns.histplot(data=df_psych,x='confidence_score', hue='level_2', bins = 30)"
   ]
  },
  {
   "cell_type": "markdown",
   "metadata": {},
   "source": [
    "It looks like there is a roughly uniform distribution of confidence scores for level_2 traits for Movie Lovers, TV Lovers, and Music Lovers. There are roughly 15 thousand records with a potentially perfect confidence score, with a majority of them being due to iflix viewing behavior - a created feature iflix created already. This can induce bias in the data"
   ]
  },
  {
   "cell_type": "code",
   "execution_count": null,
   "metadata": {},
   "outputs": [],
   "source": [
    "# what types of level 3 traits are there for psychographics?"
   ]
  },
  {
   "cell_type": "code",
   "execution_count": null,
   "metadata": {},
   "outputs": [],
   "source": [
    "df_psych['level_3'].unique()"
   ]
  },
  {
   "cell_type": "markdown",
   "metadata": {},
   "source": [
    "There are many different types of level 3 traits that all spawn off of whatever the level 2 category is. It may prove difficult to predict for all of these traits. "
   ]
  },
  {
   "cell_type": "code",
   "execution_count": null,
   "metadata": {},
   "outputs": [],
   "source": [
    "sns.countplot(data=df_psych,x='platform_x',hue = 'level_2')"
   ]
  },
  {
   "cell_type": "markdown",
   "metadata": {},
   "source": [
    "Most of the mobile enthusiasts are android users. The other level 2 traits are roughly similar for all platforms. A bit more travellers with mobile devices."
   ]
  },
  {
   "cell_type": "markdown",
   "metadata": {},
   "source": [
    "# Conclusion\n",
    "\n",
    "From the data exploration we can conclude that most of our user base enjoys drama movies more and uses android as their main platform; the top 3 countries of our user base is ID, PH, and MY. Other features inclduing level_3 traits, source_language, season_id, series_id and studio_id contain missing values and will be cleaned in the next stage along with balancing the data."
   ]
  }
 ],
 "metadata": {
  "instance_type": "ml.t3.medium",
  "kernelspec": {
   "display_name": "Python 3 (Data Science)",
   "language": "python",
   "name": "python3__SAGEMAKER_INTERNAL__arn:aws:sagemaker:us-east-1:081325390199:image/datascience-1.0"
  },
  "language_info": {
   "codemirror_mode": {
    "name": "ipython",
    "version": 3
   },
   "file_extension": ".py",
   "mimetype": "text/x-python",
   "name": "python",
   "nbconvert_exporter": "python",
   "pygments_lexer": "ipython3",
   "version": "3.7.10"
  }
 },
 "nbformat": 4,
 "nbformat_minor": 4
}
