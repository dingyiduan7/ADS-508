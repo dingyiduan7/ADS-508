{
 "cells": [
  {
   "cell_type": "markdown",
   "metadata": {},
   "source": [
    "# Setup All Workshop Dependencies\n",
    "\n",
    "## (Copyright of USD-ADS508 labs)"
   ]
  },
  {
   "cell_type": "code",
   "execution_count": 2,
   "metadata": {},
   "outputs": [
    {
     "name": "stdout",
     "output_type": "stream",
     "text": [
      "Python 3.7.10\n"
     ]
    }
   ],
   "source": [
    "!python --version"
   ]
  },
  {
   "cell_type": "code",
   "execution_count": 3,
   "metadata": {
    "scrolled": true
   },
   "outputs": [
    {
     "name": "stdout",
     "output_type": "stream",
     "text": [
      "/opt/conda/lib/python3.7/site-packages/secretstorage/dhcrypto.py:16: CryptographyDeprecationWarning: int_from_bytes is deprecated, use int.from_bytes instead\n",
      "  from cryptography.utils import int_from_bytes\n",
      "/opt/conda/lib/python3.7/site-packages/secretstorage/util.py:25: CryptographyDeprecationWarning: int_from_bytes is deprecated, use int.from_bytes instead\n",
      "  from cryptography.utils import int_from_bytes\n",
      "Package                              Version\n",
      "------------------------------------ -----------------\n",
      "absl-py                              1.0.0\n",
      "aiobotocore                          2.0.1\n",
      "aiohttp                              3.8.1\n",
      "aioitertools                         0.8.0\n",
      "aiosignal                            1.2.0\n",
      "alabaster                            0.7.12\n",
      "anaconda-client                      1.7.2\n",
      "anaconda-project                     0.8.3\n",
      "argh                                 0.26.2\n",
      "argon2-cffi                          21.3.0\n",
      "argon2-cffi-bindings                 21.2.0\n",
      "asn1crypto                           1.5.1\n",
      "astroid                              2.9.0\n",
      "astropy                              4.0\n",
      "astunparse                           1.6.3\n",
      "async-timeout                        4.0.1\n",
      "asynctest                            0.13.0\n",
      "atomicwrites                         1.3.0\n",
      "attrs                                19.3.0\n",
      "autopep8                             1.4.4\n",
      "autovizwidget                        0.19.1\n",
      "awscli                               1.18.216\n",
      "awswrangler                          2.13.0\n",
      "Babel                                2.9.1\n",
      "backcall                             0.1.0\n",
      "backports.shutil-get-terminal-size   1.0.0\n",
      "beautifulsoup4                       4.8.2\n",
      "bitarray                             1.2.1\n",
      "bkcharts                             0.2\n",
      "bleach                               4.1.0\n",
      "bokeh                                1.4.0\n",
      "boto                                 2.49.0\n",
      "boto3                                1.21.22\n",
      "botocore                             1.24.22\n",
      "Bottleneck                           1.3.2\n",
      "brotlipy                             0.7.0\n",
      "cached-property                      1.5.2\n",
      "cachetools                           5.0.0\n",
      "certifi                              2021.10.8\n",
      "cffi                                 1.14.6\n",
      "chardet                              3.0.4\n",
      "charset-normalizer                   2.0.4\n",
      "Click                                7.0\n",
      "cloudpickle                          2.0.0\n",
      "clyent                               1.2.2\n",
      "colorama                             0.4.3\n",
      "conda                                4.12.0\n",
      "conda-package-handling               1.7.3\n",
      "contextlib2                          0.6.0.post1\n",
      "cryptography                         36.0.0\n",
      "cycler                               0.10.0\n",
      "Cython                               0.29.15\n",
      "cytoolz                              0.10.1\n",
      "dask                                 2021.12.0\n",
      "decorator                            4.4.1\n",
      "defusedxml                           0.6.0\n",
      "diff-match-patch                     20181111\n",
      "dill                                 0.3.4\n",
      "distributed                          2021.12.0\n",
      "distro                               1.6.0\n",
      "docker                               5.0.0\n",
      "docker-compose                       1.29.2\n",
      "dockerpty                            0.4.1\n",
      "docopt                               0.6.2\n",
      "docutils                             0.15.2\n",
      "dparse                               0.5.1\n",
      "entrypoints                          0.3\n",
      "enum-compat                          0.0.3\n",
      "et-xmlfile                           1.0.1\n",
      "fastcache                            1.1.0\n",
      "filelock                             3.0.12\n",
      "flake8                               3.7.9\n",
      "Flask                                1.1.1\n",
      "frozenlist                           1.2.0\n",
      "fsspec                               2021.11.1\n",
      "future                               0.18.2\n",
      "gast                                 0.3.3\n",
      "gevent                               1.4.0\n",
      "glob2                                0.7\n",
      "gmpy2                                2.0.8\n",
      "google-auth                          2.6.2\n",
      "google-auth-oauthlib                 0.4.6\n",
      "google-pasta                         0.2.0\n",
      "greenlet                             0.4.15\n",
      "grpcio                               1.44.0\n",
      "h5py                                 2.10.0\n",
      "hdijupyterutils                      0.19.1\n",
      "HeapDict                             1.0.1\n",
      "html5lib                             1.0.1\n",
      "hypothesis                           5.5.4\n",
      "idna                                 2.8\n",
      "imageio                              2.6.1\n",
      "imagesize                            1.2.0\n",
      "importlib-metadata                   4.11.3\n",
      "intervaltree                         3.0.2\n",
      "ipykernel                            5.1.4\n",
      "ipython                              7.12.0\n",
      "ipython_genutils                     0.2.0\n",
      "ipywidgets                           7.5.1\n",
      "isort                                4.3.21\n",
      "itsdangerous                         1.1.0\n",
      "jdcal                                1.4.1\n",
      "jedi                                 0.14.1\n",
      "jeepney                              0.4.2\n",
      "Jinja2                               3.0.3\n",
      "jmespath                             0.10.0\n",
      "joblib                               0.14.1\n",
      "json5                                0.9.1\n",
      "jsonpath-ng                          1.5.3\n",
      "jsonschema                           3.2.0\n",
      "jupyter                              1.0.0\n",
      "jupyter-client                       5.3.4\n",
      "jupyter-console                      6.1.0\n",
      "jupyter-core                         4.6.1\n",
      "jupyterlab                           1.2.21\n",
      "jupyterlab-server                    1.0.6\n",
      "Keras-Preprocessing                  1.1.2\n",
      "keyring                              21.1.0\n",
      "kiwisolver                           1.1.0\n",
      "lazy-object-proxy                    1.4.3\n",
      "libarchive-c                         2.8\n",
      "lief                                 0.9.0\n",
      "llvmlite                             0.37.0\n",
      "locket                               0.2.0\n",
      "lxml                                 4.8.0\n",
      "Markdown                             3.3.6\n",
      "MarkupSafe                           2.0.1\n",
      "matplotlib                           3.1.3\n",
      "mccabe                               0.6.1\n",
      "mistune                              0.8.4\n",
      "mkl-fft                              1.0.15\n",
      "mkl-random                           1.1.0\n",
      "mkl-service                          2.3.0\n",
      "mock                                 4.0.1\n",
      "more-itertools                       8.2.0\n",
      "mpmath                               1.1.0\n",
      "msgpack                              0.6.1\n",
      "multidict                            5.2.0\n",
      "multipledispatch                     0.6.0\n",
      "multiprocess                         0.70.12.2\n",
      "nbconvert                            5.6.1\n",
      "nbformat                             5.0.4\n",
      "nest-asyncio                         1.5.4\n",
      "networkx                             2.4\n",
      "nltk                                 3.4.5\n",
      "nose                                 1.3.7\n",
      "notebook                             6.4.6\n",
      "numba                                0.54.1\n",
      "numexpr                              2.7.1\n",
      "numpy                                1.18.5\n",
      "numpydoc                             0.9.2\n",
      "oauthlib                             3.2.0\n",
      "olefile                              0.46\n",
      "openpyxl                             3.0.3\n",
      "opensearch-py                        1.0.0\n",
      "opt-einsum                           3.3.0\n",
      "packaging                            20.1\n",
      "pandas                               1.3.5\n",
      "pandocfilters                        1.4.2\n",
      "parso                                0.5.2\n",
      "partd                                1.1.0\n",
      "path                                 13.1.0\n",
      "pathlib2                             2.3.5\n",
      "pathos                               0.2.8\n",
      "pathtools                            0.1.2\n",
      "patsy                                0.5.1\n",
      "pep8                                 1.7.1\n",
      "pexpect                              4.8.0\n",
      "pg8000                               1.22.1\n",
      "pickleshare                          0.7.5\n",
      "Pillow                               8.4.0\n",
      "pip                                  22.0.4\n",
      "pkginfo                              1.5.0.1\n",
      "platformdirs                         2.4.0\n",
      "plotly                               5.4.0\n",
      "pluggy                               0.13.1\n",
      "ply                                  3.11\n",
      "pox                                  0.3.0\n",
      "ppft                                 1.6.6.4\n",
      "progressbar2                         3.55.0\n",
      "prometheus-client                    0.7.1\n",
      "prompt-toolkit                       3.0.3\n",
      "protobuf                             3.19.1\n",
      "protobuf3-to-dict                    0.1.5\n",
      "psutil                               5.6.7\n",
      "psycopg2-binary                      2.9.1\n",
      "ptyprocess                           0.6.0\n",
      "pure-sasl                            0.6.2\n",
      "py                                   1.11.0\n",
      "pyarrow                              6.0.1\n",
      "pyasn1                               0.4.8\n",
      "pyasn1-modules                       0.2.8\n",
      "pyathena                             2.1.0\n",
      "pycodestyle                          2.5.0\n",
      "pycosat                              0.6.3\n",
      "pycparser                            2.19\n",
      "pycrypto                             2.6.1\n",
      "pycurl                               7.43.0.5\n",
      "pydocstyle                           4.0.1\n",
      "pyflakes                             2.1.1\n",
      "pyfunctional                         1.4.3\n",
      "Pygments                             2.5.2\n",
      "PyHive                               0.6.4\n",
      "pyinstrument                         4.1.1\n",
      "pykerberos                           1.2.1\n",
      "pylint                               2.12.2\n",
      "PyMySQL                              1.0.2\n",
      "pyodbc                               4.0.0-unsupported\n",
      "pyOpenSSL                            19.1.0\n",
      "pyparsing                            2.4.6\n",
      "pyrsistent                           0.15.7\n",
      "PySocks                              1.7.1\n",
      "pytest                               5.3.5\n",
      "pytest-arraydiff                     0.3\n",
      "pytest-astropy                       0.8.0\n",
      "pytest-astropy-header                0.1.2\n",
      "pytest-doctestplus                   0.5.0\n",
      "pytest-openfiles                     0.4.0\n",
      "pytest-remotedata                    0.3.2\n",
      "python-dateutil                      2.8.1\n",
      "python-dotenv                        0.19.2\n",
      "python-jsonrpc-server                0.3.4\n",
      "python-language-server               0.31.7\n",
      "python-utils                         3.1.0\n",
      "pytz                                 2021.3\n",
      "PyWavelets                           1.1.1\n",
      "pyxdg                                0.26\n",
      "PyYAML                               5.3.1\n",
      "pyzmq                                18.1.1\n",
      "QDarkStyle                           2.8\n",
      "QtAwesome                            0.6.1\n",
      "qtconsole                            4.6.0\n",
      "QtPy                                 1.9.0\n",
      "redshift-connector                   2.0.905\n",
      "regex                                2022.3.15\n",
      "requests                             2.26.0\n",
      "requests-aws4auth                    1.1.1\n",
      "requests-kerberos                    0.12.0\n",
      "requests-oauthlib                    1.3.1\n",
      "rope                                 0.16.0\n",
      "rsa                                  4.5\n",
      "Rtree                                0.9.3\n",
      "ruamel_yaml                          0.15.87\n",
      "s3fs                                 2021.11.1\n",
      "s3transfer                           0.5.2\n",
      "sacremoses                           0.0.49\n",
      "sagemaker                            2.29.0\n",
      "sagemaker-experiments                0.1.26\n",
      "sagemaker-studio-analytics-extension 0.0.4\n",
      "sagemaker-studio-sparkmagic-lib      0.1.3\n",
      "sasl                                 0.2.1\n",
      "scikit-image                         0.16.2\n",
      "scikit-learn                         0.22.1\n",
      "scipy                                1.4.1\n",
      "scramp                               1.4.1\n",
      "seaborn                              0.10.0\n",
      "SecretStorage                        3.1.2\n",
      "Send2Trash                           1.8.0\n",
      "sentencepiece                        0.1.91\n",
      "setuptools                           59.5.0\n",
      "simplegeneric                        0.8.1\n",
      "singledispatch                       3.4.0.3\n",
      "six                                  1.14.0\n",
      "sklearn                              0.0\n",
      "smclarify                            0.2\n",
      "smdebug                              1.0.1\n",
      "smdebug-rulesconfig                  1.0.1\n",
      "snowballstemmer                      2.0.0\n",
      "sortedcollections                    1.1.2\n",
      "sortedcontainers                     2.1.0\n",
      "soupsieve                            1.9.5\n",
      "sparkmagic                           0.19.1\n",
      "Sphinx                               2.4.0\n",
      "sphinxcontrib-applehelp              1.0.1\n",
      "sphinxcontrib-devhelp                1.0.1\n",
      "sphinxcontrib-htmlhelp               1.0.2\n",
      "sphinxcontrib-jsmath                 1.0.1\n",
      "sphinxcontrib-qthelp                 1.0.2\n",
      "sphinxcontrib-serializinghtml        1.1.3\n",
      "sphinxcontrib-websupport             1.2.0\n",
      "spyder                               4.0.1\n",
      "spyder-kernels                       1.8.1\n",
      "SQLAlchemy                           1.3.22\n",
      "statsmodels                          0.11.0\n",
      "stepfunctions                        2.0.0rc1\n",
      "sympy                                1.5.1\n",
      "tables                               3.6.1\n",
      "tabulate                             0.8.9\n",
      "tblib                                1.6.0\n",
      "tenacity                             8.0.1\n",
      "tensorboard                          2.8.0\n",
      "tensorboard-data-server              0.6.1\n",
      "tensorboard-plugin-wit               1.8.1\n",
      "tensorflow                           2.3.1\n",
      "tensorflow-estimator                 2.3.0\n",
      "termcolor                            1.1.0\n",
      "terminado                            0.8.3\n",
      "testpath                             0.4.4\n",
      "texttable                            1.6.4\n",
      "thrift                               0.13.0\n",
      "thrift-sasl                          0.4.3\n",
      "tokenizers                           0.9.3\n",
      "toml                                 0.10.2\n",
      "toolz                                0.10.0\n",
      "torch                                1.6.0\n",
      "torch-model-archiver                 0.3.0\n",
      "torchserve                           0.3.0\n",
      "tornado                              6.1\n",
      "tqdm                                 4.42.1\n",
      "traitlets                            4.3.3\n",
      "transformers                         3.5.1\n",
      "typed-ast                            1.5.1\n",
      "typing_extensions                    4.0.1\n",
      "ujson                                1.35\n",
      "unicodecsv                           0.14.1\n",
      "urllib3                              1.26.7\n",
      "watchdog                             0.10.2\n",
      "wcwidth                              0.1.8\n",
      "webencodings                         0.5.1\n",
      "websocket-client                     0.59.0\n",
      "Werkzeug                             1.0.0\n",
      "wheel                                0.34.2\n",
      "widgetsnbextension                   3.5.1\n",
      "wrapt                                1.14.0\n",
      "wurlitzer                            2.0.0\n",
      "xlrd                                 1.2.0\n",
      "XlsxWriter                           1.2.7\n",
      "xlwt                                 1.3.0\n",
      "yapf                                 0.28.0\n",
      "yarl                                 1.7.2\n",
      "zict                                 1.0.0\n",
      "zipp                                 2.2.0\n"
     ]
    }
   ],
   "source": [
    "!pip list"
   ]
  },
  {
   "cell_type": "markdown",
   "metadata": {},
   "source": [
    "# Pip"
   ]
  },
  {
   "cell_type": "markdown",
   "metadata": {},
   "source": [
    "# AWS CLI and AWS Python SDK (boto3)"
   ]
  },
  {
   "cell_type": "code",
   "execution_count": 4,
   "metadata": {},
   "outputs": [
    {
     "name": "stdout",
     "output_type": "stream",
     "text": [
      "/opt/conda/lib/python3.7/site-packages/secretstorage/dhcrypto.py:16: CryptographyDeprecationWarning: int_from_bytes is deprecated, use int.from_bytes instead\n",
      "  from cryptography.utils import int_from_bytes\n",
      "/opt/conda/lib/python3.7/site-packages/secretstorage/util.py:25: CryptographyDeprecationWarning: int_from_bytes is deprecated, use int.from_bytes instead\n",
      "  from cryptography.utils import int_from_bytes\n",
      "\u001b[31mERROR: pip's dependency resolver does not currently take into account all the packages that are installed. This behaviour is the source of the following dependency conflicts.\n",
      "awswrangler 2.13.0 requires boto3<2.0.0,>=1.20.17, but you have boto3 1.16.56 which is incompatible.\n",
      "awswrangler 2.13.0 requires botocore<2.0.0,>=1.23.17, but you have botocore 1.19.56 which is incompatible.\n",
      "aiobotocore 2.0.1 requires botocore<1.22.9,>=1.22.8, but you have botocore 1.19.56 which is incompatible.\u001b[0m\u001b[31m\n",
      "\u001b[0m\u001b[33mWARNING: Running pip as the 'root' user can result in broken permissions and conflicting behaviour with the system package manager. It is recommended to use a virtual environment instead: https://pip.pypa.io/warnings/venv\u001b[0m\u001b[33m\n",
      "\u001b[0m"
     ]
    }
   ],
   "source": [
    "!pip install --disable-pip-version-check -q awscli==1.18.216 boto3==1.16.56 botocore==1.19.56"
   ]
  },
  {
   "cell_type": "markdown",
   "metadata": {},
   "source": [
    "# SageMaker"
   ]
  },
  {
   "cell_type": "code",
   "execution_count": 5,
   "metadata": {},
   "outputs": [
    {
     "name": "stdout",
     "output_type": "stream",
     "text": [
      "/opt/conda/lib/python3.7/site-packages/secretstorage/dhcrypto.py:16: CryptographyDeprecationWarning: int_from_bytes is deprecated, use int.from_bytes instead\n",
      "  from cryptography.utils import int_from_bytes\n",
      "/opt/conda/lib/python3.7/site-packages/secretstorage/util.py:25: CryptographyDeprecationWarning: int_from_bytes is deprecated, use int.from_bytes instead\n",
      "  from cryptography.utils import int_from_bytes\n",
      "\u001b[33mWARNING: Running pip as the 'root' user can result in broken permissions and conflicting behaviour with the system package manager. It is recommended to use a virtual environment instead: https://pip.pypa.io/warnings/venv\u001b[0m\u001b[33m\n",
      "\u001b[0m/opt/conda/lib/python3.7/site-packages/secretstorage/dhcrypto.py:16: CryptographyDeprecationWarning: int_from_bytes is deprecated, use int.from_bytes instead\n",
      "  from cryptography.utils import int_from_bytes\n",
      "/opt/conda/lib/python3.7/site-packages/secretstorage/util.py:25: CryptographyDeprecationWarning: int_from_bytes is deprecated, use int.from_bytes instead\n",
      "  from cryptography.utils import int_from_bytes\n",
      "\u001b[33mWARNING: Running pip as the 'root' user can result in broken permissions and conflicting behaviour with the system package manager. It is recommended to use a virtual environment instead: https://pip.pypa.io/warnings/venv\u001b[0m\u001b[33m\n",
      "\u001b[0m/opt/conda/lib/python3.7/site-packages/secretstorage/dhcrypto.py:16: CryptographyDeprecationWarning: int_from_bytes is deprecated, use int.from_bytes instead\n",
      "  from cryptography.utils import int_from_bytes\n",
      "/opt/conda/lib/python3.7/site-packages/secretstorage/util.py:25: CryptographyDeprecationWarning: int_from_bytes is deprecated, use int.from_bytes instead\n",
      "  from cryptography.utils import int_from_bytes\n",
      "\u001b[33mWARNING: Running pip as the 'root' user can result in broken permissions and conflicting behaviour with the system package manager. It is recommended to use a virtual environment instead: https://pip.pypa.io/warnings/venv\u001b[0m\u001b[33m\n",
      "\u001b[0m"
     ]
    }
   ],
   "source": [
    "!pip install --disable-pip-version-check -q sagemaker==2.29.0\n",
    "!pip install --disable-pip-version-check -q smdebug==1.0.1\n",
    "!pip install --disable-pip-version-check -q sagemaker-experiments==0.1.26"
   ]
  },
  {
   "cell_type": "markdown",
   "metadata": {},
   "source": [
    "# PyTorch"
   ]
  },
  {
   "cell_type": "code",
   "execution_count": 6,
   "metadata": {},
   "outputs": [
    {
     "name": "stdout",
     "output_type": "stream",
     "text": [
      "Collecting package metadata (current_repodata.json): done\n",
      "Solving environment: done\n",
      "\n",
      "# All requested packages already installed.\n",
      "\n"
     ]
    }
   ],
   "source": [
    "!conda install -y pytorch==1.6.0 -c pytorch"
   ]
  },
  {
   "cell_type": "markdown",
   "metadata": {},
   "source": [
    "# TensorFlow"
   ]
  },
  {
   "cell_type": "code",
   "execution_count": 7,
   "metadata": {},
   "outputs": [
    {
     "name": "stdout",
     "output_type": "stream",
     "text": [
      "/opt/conda/lib/python3.7/site-packages/secretstorage/dhcrypto.py:16: CryptographyDeprecationWarning: int_from_bytes is deprecated, use int.from_bytes instead\n",
      "  from cryptography.utils import int_from_bytes\n",
      "/opt/conda/lib/python3.7/site-packages/secretstorage/util.py:25: CryptographyDeprecationWarning: int_from_bytes is deprecated, use int.from_bytes instead\n",
      "  from cryptography.utils import int_from_bytes\n",
      "\u001b[33mWARNING: Running pip as the 'root' user can result in broken permissions and conflicting behaviour with the system package manager. It is recommended to use a virtual environment instead: https://pip.pypa.io/warnings/venv\u001b[0m\u001b[33m\n",
      "\u001b[0m"
     ]
    }
   ],
   "source": [
    "!pip install --disable-pip-version-check -q tensorflow==2.3.1"
   ]
  },
  {
   "cell_type": "markdown",
   "metadata": {},
   "source": [
    "# Hugging Face Transformers (BERT)"
   ]
  },
  {
   "cell_type": "code",
   "execution_count": 8,
   "metadata": {},
   "outputs": [
    {
     "name": "stdout",
     "output_type": "stream",
     "text": [
      "/opt/conda/lib/python3.7/site-packages/secretstorage/dhcrypto.py:16: CryptographyDeprecationWarning: int_from_bytes is deprecated, use int.from_bytes instead\n",
      "  from cryptography.utils import int_from_bytes\n",
      "/opt/conda/lib/python3.7/site-packages/secretstorage/util.py:25: CryptographyDeprecationWarning: int_from_bytes is deprecated, use int.from_bytes instead\n",
      "  from cryptography.utils import int_from_bytes\n",
      "\u001b[33mWARNING: Running pip as the 'root' user can result in broken permissions and conflicting behaviour with the system package manager. It is recommended to use a virtual environment instead: https://pip.pypa.io/warnings/venv\u001b[0m\u001b[33m\n",
      "\u001b[0m"
     ]
    }
   ],
   "source": [
    "!pip install --disable-pip-version-check -q transformers==3.5.1"
   ]
  },
  {
   "cell_type": "markdown",
   "metadata": {},
   "source": [
    "# TorchServe"
   ]
  },
  {
   "cell_type": "code",
   "execution_count": 9,
   "metadata": {},
   "outputs": [
    {
     "name": "stdout",
     "output_type": "stream",
     "text": [
      "/opt/conda/lib/python3.7/site-packages/secretstorage/dhcrypto.py:16: CryptographyDeprecationWarning: int_from_bytes is deprecated, use int.from_bytes instead\n",
      "  from cryptography.utils import int_from_bytes\n",
      "/opt/conda/lib/python3.7/site-packages/secretstorage/util.py:25: CryptographyDeprecationWarning: int_from_bytes is deprecated, use int.from_bytes instead\n",
      "  from cryptography.utils import int_from_bytes\n",
      "\u001b[33mWARNING: Running pip as the 'root' user can result in broken permissions and conflicting behaviour with the system package manager. It is recommended to use a virtual environment instead: https://pip.pypa.io/warnings/venv\u001b[0m\u001b[33m\n",
      "\u001b[0m/opt/conda/lib/python3.7/site-packages/secretstorage/dhcrypto.py:16: CryptographyDeprecationWarning: int_from_bytes is deprecated, use int.from_bytes instead\n",
      "  from cryptography.utils import int_from_bytes\n",
      "/opt/conda/lib/python3.7/site-packages/secretstorage/util.py:25: CryptographyDeprecationWarning: int_from_bytes is deprecated, use int.from_bytes instead\n",
      "  from cryptography.utils import int_from_bytes\n",
      "\u001b[33mWARNING: Running pip as the 'root' user can result in broken permissions and conflicting behaviour with the system package manager. It is recommended to use a virtual environment instead: https://pip.pypa.io/warnings/venv\u001b[0m\u001b[33m\n",
      "\u001b[0m"
     ]
    }
   ],
   "source": [
    "!pip install --disable-pip-version-check -q torchserve==0.3.0\n",
    "!pip install --disable-pip-version-check -q torch-model-archiver==0.3.0"
   ]
  },
  {
   "cell_type": "markdown",
   "metadata": {},
   "source": [
    "# PyAthena"
   ]
  },
  {
   "cell_type": "code",
   "execution_count": 10,
   "metadata": {},
   "outputs": [
    {
     "name": "stdout",
     "output_type": "stream",
     "text": [
      "/opt/conda/lib/python3.7/site-packages/secretstorage/dhcrypto.py:16: CryptographyDeprecationWarning: int_from_bytes is deprecated, use int.from_bytes instead\n",
      "  from cryptography.utils import int_from_bytes\n",
      "/opt/conda/lib/python3.7/site-packages/secretstorage/util.py:25: CryptographyDeprecationWarning: int_from_bytes is deprecated, use int.from_bytes instead\n",
      "  from cryptography.utils import int_from_bytes\n",
      "\u001b[33mWARNING: Running pip as the 'root' user can result in broken permissions and conflicting behaviour with the system package manager. It is recommended to use a virtual environment instead: https://pip.pypa.io/warnings/venv\u001b[0m\u001b[33m\n",
      "\u001b[0m"
     ]
    }
   ],
   "source": [
    "!pip install --disable-pip-version-check -q PyAthena==2.1.0"
   ]
  },
  {
   "cell_type": "markdown",
   "metadata": {},
   "source": [
    "# Redshift"
   ]
  },
  {
   "cell_type": "code",
   "execution_count": 11,
   "metadata": {},
   "outputs": [
    {
     "name": "stdout",
     "output_type": "stream",
     "text": [
      "/opt/conda/lib/python3.7/site-packages/secretstorage/dhcrypto.py:16: CryptographyDeprecationWarning: int_from_bytes is deprecated, use int.from_bytes instead\n",
      "  from cryptography.utils import int_from_bytes\n",
      "/opt/conda/lib/python3.7/site-packages/secretstorage/util.py:25: CryptographyDeprecationWarning: int_from_bytes is deprecated, use int.from_bytes instead\n",
      "  from cryptography.utils import int_from_bytes\n",
      "\u001b[33mWARNING: Running pip as the 'root' user can result in broken permissions and conflicting behaviour with the system package manager. It is recommended to use a virtual environment instead: https://pip.pypa.io/warnings/venv\u001b[0m\u001b[33m\n",
      "\u001b[0m/opt/conda/lib/python3.7/site-packages/secretstorage/dhcrypto.py:16: CryptographyDeprecationWarning: int_from_bytes is deprecated, use int.from_bytes instead\n",
      "  from cryptography.utils import int_from_bytes\n",
      "/opt/conda/lib/python3.7/site-packages/secretstorage/util.py:25: CryptographyDeprecationWarning: int_from_bytes is deprecated, use int.from_bytes instead\n",
      "  from cryptography.utils import int_from_bytes\n",
      "\u001b[33mWARNING: Running pip as the 'root' user can result in broken permissions and conflicting behaviour with the system package manager. It is recommended to use a virtual environment instead: https://pip.pypa.io/warnings/venv\u001b[0m\u001b[33m\n",
      "\u001b[0m"
     ]
    }
   ],
   "source": [
    "!pip install --disable-pip-version-check -q SQLAlchemy==1.3.22\n",
    "!pip install --disable-pip-version-check -q psycopg2-binary==2.9.1"
   ]
  },
  {
   "cell_type": "markdown",
   "metadata": {},
   "source": [
    "# AWS Data Wrangler"
   ]
  },
  {
   "cell_type": "code",
   "execution_count": 12,
   "metadata": {},
   "outputs": [
    {
     "name": "stdout",
     "output_type": "stream",
     "text": [
      "/opt/conda/lib/python3.7/site-packages/secretstorage/dhcrypto.py:16: CryptographyDeprecationWarning: int_from_bytes is deprecated, use int.from_bytes instead\n",
      "  from cryptography.utils import int_from_bytes\n",
      "/opt/conda/lib/python3.7/site-packages/secretstorage/util.py:25: CryptographyDeprecationWarning: int_from_bytes is deprecated, use int.from_bytes instead\n",
      "  from cryptography.utils import int_from_bytes\n",
      "\u001b[31mERROR: pip's dependency resolver does not currently take into account all the packages that are installed. This behaviour is the source of the following dependency conflicts.\n",
      "awscli 1.18.216 requires botocore==1.19.56, but you have botocore 1.24.22 which is incompatible.\n",
      "awscli 1.18.216 requires s3transfer<0.4.0,>=0.3.0, but you have s3transfer 0.5.2 which is incompatible.\n",
      "aiobotocore 2.0.1 requires botocore<1.22.9,>=1.22.8, but you have botocore 1.24.22 which is incompatible.\u001b[0m\u001b[31m\n",
      "\u001b[0m\u001b[33mWARNING: Running pip as the 'root' user can result in broken permissions and conflicting behaviour with the system package manager. It is recommended to use a virtual environment instead: https://pip.pypa.io/warnings/venv\u001b[0m\u001b[33m\n",
      "\u001b[0m"
     ]
    }
   ],
   "source": [
    "!pip install --disable-pip-version-check -q awswrangler==2.13.0"
   ]
  },
  {
   "cell_type": "markdown",
   "metadata": {},
   "source": [
    "# StepFunctions"
   ]
  },
  {
   "cell_type": "code",
   "execution_count": 13,
   "metadata": {},
   "outputs": [
    {
     "name": "stdout",
     "output_type": "stream",
     "text": [
      "/opt/conda/lib/python3.7/site-packages/secretstorage/dhcrypto.py:16: CryptographyDeprecationWarning: int_from_bytes is deprecated, use int.from_bytes instead\n",
      "  from cryptography.utils import int_from_bytes\n",
      "/opt/conda/lib/python3.7/site-packages/secretstorage/util.py:25: CryptographyDeprecationWarning: int_from_bytes is deprecated, use int.from_bytes instead\n",
      "  from cryptography.utils import int_from_bytes\n",
      "\u001b[33mWARNING: Running pip as the 'root' user can result in broken permissions and conflicting behaviour with the system package manager. It is recommended to use a virtual environment instead: https://pip.pypa.io/warnings/venv\u001b[0m\u001b[33m\n",
      "\u001b[0m"
     ]
    }
   ],
   "source": [
    "!pip install --disable-pip-version-check -q stepfunctions==2.0.0rc1"
   ]
  },
  {
   "cell_type": "markdown",
   "metadata": {},
   "source": [
    "# Zip"
   ]
  },
  {
   "cell_type": "code",
   "execution_count": 14,
   "metadata": {},
   "outputs": [
    {
     "name": "stdout",
     "output_type": "stream",
     "text": [
      "Collecting package metadata (current_repodata.json): done\n",
      "Solving environment: done\n",
      "\n",
      "# All requested packages already installed.\n",
      "\n"
     ]
    }
   ],
   "source": [
    "!conda install -y zip"
   ]
  },
  {
   "cell_type": "markdown",
   "metadata": {},
   "source": [
    "# Matplotlib"
   ]
  },
  {
   "cell_type": "code",
   "execution_count": 15,
   "metadata": {},
   "outputs": [
    {
     "name": "stdout",
     "output_type": "stream",
     "text": [
      "/opt/conda/lib/python3.7/site-packages/secretstorage/dhcrypto.py:16: CryptographyDeprecationWarning: int_from_bytes is deprecated, use int.from_bytes instead\n",
      "  from cryptography.utils import int_from_bytes\n",
      "/opt/conda/lib/python3.7/site-packages/secretstorage/util.py:25: CryptographyDeprecationWarning: int_from_bytes is deprecated, use int.from_bytes instead\n",
      "  from cryptography.utils import int_from_bytes\n",
      "\u001b[33mWARNING: Running pip as the 'root' user can result in broken permissions and conflicting behaviour with the system package manager. It is recommended to use a virtual environment instead: https://pip.pypa.io/warnings/venv\u001b[0m\u001b[33m\n",
      "\u001b[0m"
     ]
    }
   ],
   "source": [
    "!pip install --disable-pip-version-check -q matplotlib==3.1.3"
   ]
  },
  {
   "cell_type": "markdown",
   "metadata": {},
   "source": [
    "# Seaborn"
   ]
  },
  {
   "cell_type": "code",
   "execution_count": 16,
   "metadata": {},
   "outputs": [
    {
     "name": "stdout",
     "output_type": "stream",
     "text": [
      "/opt/conda/lib/python3.7/site-packages/secretstorage/dhcrypto.py:16: CryptographyDeprecationWarning: int_from_bytes is deprecated, use int.from_bytes instead\n",
      "  from cryptography.utils import int_from_bytes\n",
      "/opt/conda/lib/python3.7/site-packages/secretstorage/util.py:25: CryptographyDeprecationWarning: int_from_bytes is deprecated, use int.from_bytes instead\n",
      "  from cryptography.utils import int_from_bytes\n",
      "\u001b[33mWARNING: Running pip as the 'root' user can result in broken permissions and conflicting behaviour with the system package manager. It is recommended to use a virtual environment instead: https://pip.pypa.io/warnings/venv\u001b[0m\u001b[33m\n",
      "\u001b[0m"
     ]
    }
   ],
   "source": [
    "!pip install --disable-pip-version-check -q seaborn==0.10.0"
   ]
  },
  {
   "cell_type": "markdown",
   "metadata": {},
   "source": [
    "# AWS CLI and Credentials (Optional)\n",
    "If you are running outside of an AWS account, you should uncomment and run the cells below."
   ]
  },
  {
   "cell_type": "code",
   "execution_count": 17,
   "metadata": {},
   "outputs": [],
   "source": [
    "# !pip install awscli"
   ]
  },
  {
   "cell_type": "code",
   "execution_count": 18,
   "metadata": {},
   "outputs": [],
   "source": [
    "# !mkdir ~/.aws"
   ]
  },
  {
   "cell_type": "code",
   "execution_count": 19,
   "metadata": {},
   "outputs": [],
   "source": [
    "# %%writefile ~/.aws/credentials\n",
    "\n",
    "# [default]\n",
    "# aws_access_key_id = <ACCESS_KEY_ID>\n",
    "# aws_secret_access_key = <SECRET_ACCESS_KEY> "
   ]
  },
  {
   "cell_type": "code",
   "execution_count": 20,
   "metadata": {},
   "outputs": [],
   "source": [
    "# %%writefile ~/.aws/config\n",
    "\n",
    "# [default]\n",
    "# region=<REGION_NAME> # us-east-1"
   ]
  },
  {
   "cell_type": "markdown",
   "metadata": {},
   "source": [
    "# Summarize"
   ]
  },
  {
   "cell_type": "code",
   "execution_count": 21,
   "metadata": {},
   "outputs": [
    {
     "name": "stdout",
     "output_type": "stream",
     "text": [
      "Python 3.7.10\n"
     ]
    }
   ],
   "source": [
    "!python --version"
   ]
  },
  {
   "cell_type": "code",
   "execution_count": 22,
   "metadata": {
    "scrolled": true
   },
   "outputs": [
    {
     "name": "stdout",
     "output_type": "stream",
     "text": [
      "/opt/conda/lib/python3.7/site-packages/secretstorage/dhcrypto.py:16: CryptographyDeprecationWarning: int_from_bytes is deprecated, use int.from_bytes instead\n",
      "  from cryptography.utils import int_from_bytes\n",
      "/opt/conda/lib/python3.7/site-packages/secretstorage/util.py:25: CryptographyDeprecationWarning: int_from_bytes is deprecated, use int.from_bytes instead\n",
      "  from cryptography.utils import int_from_bytes\n",
      "Package                              Version\n",
      "------------------------------------ -----------------\n",
      "absl-py                              1.0.0\n",
      "aiobotocore                          2.0.1\n",
      "aiohttp                              3.8.1\n",
      "aioitertools                         0.8.0\n",
      "aiosignal                            1.2.0\n",
      "alabaster                            0.7.12\n",
      "anaconda-client                      1.7.2\n",
      "anaconda-project                     0.8.3\n",
      "argh                                 0.26.2\n",
      "argon2-cffi                          21.3.0\n",
      "argon2-cffi-bindings                 21.2.0\n",
      "asn1crypto                           1.5.1\n",
      "astroid                              2.9.0\n",
      "astropy                              4.0\n",
      "astunparse                           1.6.3\n",
      "async-timeout                        4.0.1\n",
      "asynctest                            0.13.0\n",
      "atomicwrites                         1.3.0\n",
      "attrs                                19.3.0\n",
      "autopep8                             1.4.4\n",
      "autovizwidget                        0.19.1\n",
      "awscli                               1.18.216\n",
      "awswrangler                          2.13.0\n",
      "Babel                                2.9.1\n",
      "backcall                             0.1.0\n",
      "backports.shutil-get-terminal-size   1.0.0\n",
      "beautifulsoup4                       4.8.2\n",
      "bitarray                             1.2.1\n",
      "bkcharts                             0.2\n",
      "bleach                               4.1.0\n",
      "bokeh                                1.4.0\n",
      "boto                                 2.49.0\n",
      "boto3                                1.21.22\n",
      "botocore                             1.24.22\n",
      "Bottleneck                           1.3.2\n",
      "brotlipy                             0.7.0\n",
      "cached-property                      1.5.2\n",
      "cachetools                           5.0.0\n",
      "certifi                              2021.10.8\n",
      "cffi                                 1.14.6\n",
      "chardet                              3.0.4\n",
      "charset-normalizer                   2.0.4\n",
      "Click                                7.0\n",
      "cloudpickle                          2.0.0\n",
      "clyent                               1.2.2\n",
      "colorama                             0.4.3\n",
      "conda                                4.12.0\n",
      "conda-package-handling               1.7.3\n",
      "contextlib2                          0.6.0.post1\n",
      "cryptography                         36.0.0\n",
      "cycler                               0.10.0\n",
      "Cython                               0.29.15\n",
      "cytoolz                              0.10.1\n",
      "dask                                 2021.12.0\n",
      "decorator                            4.4.1\n",
      "defusedxml                           0.6.0\n",
      "diff-match-patch                     20181111\n",
      "dill                                 0.3.4\n",
      "distributed                          2021.12.0\n",
      "distro                               1.6.0\n",
      "docker                               5.0.0\n",
      "docker-compose                       1.29.2\n",
      "dockerpty                            0.4.1\n",
      "docopt                               0.6.2\n",
      "docutils                             0.15.2\n",
      "dparse                               0.5.1\n",
      "entrypoints                          0.3\n",
      "enum-compat                          0.0.3\n",
      "et-xmlfile                           1.0.1\n",
      "fastcache                            1.1.0\n",
      "filelock                             3.0.12\n",
      "flake8                               3.7.9\n",
      "Flask                                1.1.1\n",
      "frozenlist                           1.2.0\n",
      "fsspec                               2021.11.1\n",
      "future                               0.18.2\n",
      "gast                                 0.3.3\n",
      "gevent                               1.4.0\n",
      "glob2                                0.7\n",
      "gmpy2                                2.0.8\n",
      "google-auth                          2.6.2\n",
      "google-auth-oauthlib                 0.4.6\n",
      "google-pasta                         0.2.0\n",
      "greenlet                             0.4.15\n",
      "grpcio                               1.44.0\n",
      "h5py                                 2.10.0\n",
      "hdijupyterutils                      0.19.1\n",
      "HeapDict                             1.0.1\n",
      "html5lib                             1.0.1\n",
      "hypothesis                           5.5.4\n",
      "idna                                 2.8\n",
      "imageio                              2.6.1\n",
      "imagesize                            1.2.0\n",
      "importlib-metadata                   4.11.3\n",
      "intervaltree                         3.0.2\n",
      "ipykernel                            5.1.4\n",
      "ipython                              7.12.0\n",
      "ipython_genutils                     0.2.0\n",
      "ipywidgets                           7.5.1\n",
      "isort                                4.3.21\n",
      "itsdangerous                         1.1.0\n",
      "jdcal                                1.4.1\n",
      "jedi                                 0.14.1\n",
      "jeepney                              0.4.2\n",
      "Jinja2                               3.0.3\n",
      "jmespath                             0.10.0\n",
      "joblib                               0.14.1\n",
      "json5                                0.9.1\n",
      "jsonpath-ng                          1.5.3\n",
      "jsonschema                           3.2.0\n",
      "jupyter                              1.0.0\n",
      "jupyter-client                       5.3.4\n",
      "jupyter-console                      6.1.0\n",
      "jupyter-core                         4.6.1\n",
      "jupyterlab                           1.2.21\n",
      "jupyterlab-server                    1.0.6\n",
      "Keras-Preprocessing                  1.1.2\n",
      "keyring                              21.1.0\n",
      "kiwisolver                           1.1.0\n",
      "lazy-object-proxy                    1.4.3\n",
      "libarchive-c                         2.8\n",
      "lief                                 0.9.0\n",
      "llvmlite                             0.37.0\n",
      "locket                               0.2.0\n",
      "lxml                                 4.8.0\n",
      "Markdown                             3.3.6\n",
      "MarkupSafe                           2.0.1\n",
      "matplotlib                           3.1.3\n",
      "mccabe                               0.6.1\n",
      "mistune                              0.8.4\n",
      "mkl-fft                              1.0.15\n",
      "mkl-random                           1.1.0\n",
      "mkl-service                          2.3.0\n",
      "mock                                 4.0.1\n",
      "more-itertools                       8.2.0\n",
      "mpmath                               1.1.0\n",
      "msgpack                              0.6.1\n",
      "multidict                            5.2.0\n",
      "multipledispatch                     0.6.0\n",
      "multiprocess                         0.70.12.2\n",
      "nbconvert                            5.6.1\n",
      "nbformat                             5.0.4\n",
      "nest-asyncio                         1.5.4\n",
      "networkx                             2.4\n",
      "nltk                                 3.4.5\n",
      "nose                                 1.3.7\n",
      "notebook                             6.4.6\n",
      "numba                                0.54.1\n",
      "numexpr                              2.7.1\n",
      "numpy                                1.18.5\n",
      "numpydoc                             0.9.2\n",
      "oauthlib                             3.2.0\n",
      "olefile                              0.46\n",
      "openpyxl                             3.0.3\n",
      "opensearch-py                        1.0.0\n",
      "opt-einsum                           3.3.0\n",
      "packaging                            20.1\n",
      "pandas                               1.3.5\n",
      "pandocfilters                        1.4.2\n",
      "parso                                0.5.2\n",
      "partd                                1.1.0\n",
      "path                                 13.1.0\n",
      "pathlib2                             2.3.5\n",
      "pathos                               0.2.8\n",
      "pathtools                            0.1.2\n",
      "patsy                                0.5.1\n",
      "pep8                                 1.7.1\n",
      "pexpect                              4.8.0\n",
      "pg8000                               1.22.1\n",
      "pickleshare                          0.7.5\n",
      "Pillow                               8.4.0\n",
      "pip                                  22.0.4\n",
      "pkginfo                              1.5.0.1\n",
      "platformdirs                         2.4.0\n",
      "plotly                               5.4.0\n",
      "pluggy                               0.13.1\n",
      "ply                                  3.11\n",
      "pox                                  0.3.0\n",
      "ppft                                 1.6.6.4\n",
      "progressbar2                         3.55.0\n",
      "prometheus-client                    0.7.1\n",
      "prompt-toolkit                       3.0.3\n",
      "protobuf                             3.19.1\n",
      "protobuf3-to-dict                    0.1.5\n",
      "psutil                               5.6.7\n",
      "psycopg2-binary                      2.9.1\n",
      "ptyprocess                           0.6.0\n",
      "pure-sasl                            0.6.2\n",
      "py                                   1.11.0\n",
      "pyarrow                              6.0.1\n",
      "pyasn1                               0.4.8\n",
      "pyasn1-modules                       0.2.8\n",
      "pyathena                             2.1.0\n",
      "pycodestyle                          2.5.0\n",
      "pycosat                              0.6.3\n",
      "pycparser                            2.19\n",
      "pycrypto                             2.6.1\n",
      "pycurl                               7.43.0.5\n",
      "pydocstyle                           4.0.1\n",
      "pyflakes                             2.1.1\n",
      "pyfunctional                         1.4.3\n",
      "Pygments                             2.5.2\n",
      "PyHive                               0.6.4\n",
      "pyinstrument                         4.1.1\n",
      "pykerberos                           1.2.1\n",
      "pylint                               2.12.2\n",
      "PyMySQL                              1.0.2\n",
      "pyodbc                               4.0.0-unsupported\n",
      "pyOpenSSL                            19.1.0\n",
      "pyparsing                            2.4.6\n",
      "pyrsistent                           0.15.7\n",
      "PySocks                              1.7.1\n",
      "pytest                               5.3.5\n",
      "pytest-arraydiff                     0.3\n",
      "pytest-astropy                       0.8.0\n",
      "pytest-astropy-header                0.1.2\n",
      "pytest-doctestplus                   0.5.0\n",
      "pytest-openfiles                     0.4.0\n",
      "pytest-remotedata                    0.3.2\n",
      "python-dateutil                      2.8.1\n",
      "python-dotenv                        0.19.2\n",
      "python-jsonrpc-server                0.3.4\n",
      "python-language-server               0.31.7\n",
      "python-utils                         3.1.0\n",
      "pytz                                 2021.3\n",
      "PyWavelets                           1.1.1\n",
      "pyxdg                                0.26\n",
      "PyYAML                               5.3.1\n",
      "pyzmq                                18.1.1\n",
      "QDarkStyle                           2.8\n",
      "QtAwesome                            0.6.1\n",
      "qtconsole                            4.6.0\n",
      "QtPy                                 1.9.0\n",
      "redshift-connector                   2.0.905\n",
      "regex                                2022.3.15\n",
      "requests                             2.26.0\n",
      "requests-aws4auth                    1.1.1\n",
      "requests-kerberos                    0.12.0\n",
      "requests-oauthlib                    1.3.1\n",
      "rope                                 0.16.0\n",
      "rsa                                  4.5\n",
      "Rtree                                0.9.3\n",
      "ruamel_yaml                          0.15.87\n",
      "s3fs                                 2021.11.1\n",
      "s3transfer                           0.5.2\n",
      "sacremoses                           0.0.49\n",
      "sagemaker                            2.29.0\n",
      "sagemaker-experiments                0.1.26\n",
      "sagemaker-studio-analytics-extension 0.0.4\n",
      "sagemaker-studio-sparkmagic-lib      0.1.3\n",
      "sasl                                 0.2.1\n",
      "scikit-image                         0.16.2\n",
      "scikit-learn                         0.22.1\n",
      "scipy                                1.4.1\n",
      "scramp                               1.4.1\n",
      "seaborn                              0.10.0\n",
      "SecretStorage                        3.1.2\n",
      "Send2Trash                           1.8.0\n",
      "sentencepiece                        0.1.91\n",
      "setuptools                           59.5.0\n",
      "simplegeneric                        0.8.1\n",
      "singledispatch                       3.4.0.3\n",
      "six                                  1.14.0\n",
      "sklearn                              0.0\n",
      "smclarify                            0.2\n",
      "smdebug                              1.0.1\n",
      "smdebug-rulesconfig                  1.0.1\n",
      "snowballstemmer                      2.0.0\n",
      "sortedcollections                    1.1.2\n",
      "sortedcontainers                     2.1.0\n",
      "soupsieve                            1.9.5\n",
      "sparkmagic                           0.19.1\n",
      "Sphinx                               2.4.0\n",
      "sphinxcontrib-applehelp              1.0.1\n",
      "sphinxcontrib-devhelp                1.0.1\n",
      "sphinxcontrib-htmlhelp               1.0.2\n",
      "sphinxcontrib-jsmath                 1.0.1\n",
      "sphinxcontrib-qthelp                 1.0.2\n",
      "sphinxcontrib-serializinghtml        1.1.3\n",
      "sphinxcontrib-websupport             1.2.0\n",
      "spyder                               4.0.1\n",
      "spyder-kernels                       1.8.1\n",
      "SQLAlchemy                           1.3.22\n",
      "statsmodels                          0.11.0\n",
      "stepfunctions                        2.0.0rc1\n",
      "sympy                                1.5.1\n",
      "tables                               3.6.1\n",
      "tabulate                             0.8.9\n",
      "tblib                                1.6.0\n",
      "tenacity                             8.0.1\n",
      "tensorboard                          2.8.0\n",
      "tensorboard-data-server              0.6.1\n",
      "tensorboard-plugin-wit               1.8.1\n",
      "tensorflow                           2.3.1\n",
      "tensorflow-estimator                 2.3.0\n",
      "termcolor                            1.1.0\n",
      "terminado                            0.8.3\n",
      "testpath                             0.4.4\n",
      "texttable                            1.6.4\n",
      "thrift                               0.13.0\n",
      "thrift-sasl                          0.4.3\n",
      "tokenizers                           0.9.3\n",
      "toml                                 0.10.2\n",
      "toolz                                0.10.0\n",
      "torch                                1.6.0\n",
      "torch-model-archiver                 0.3.0\n",
      "torchserve                           0.3.0\n",
      "tornado                              6.1\n",
      "tqdm                                 4.42.1\n",
      "traitlets                            4.3.3\n",
      "transformers                         3.5.1\n",
      "typed-ast                            1.5.1\n",
      "typing_extensions                    4.0.1\n",
      "ujson                                1.35\n",
      "unicodecsv                           0.14.1\n",
      "urllib3                              1.26.7\n",
      "watchdog                             0.10.2\n",
      "wcwidth                              0.1.8\n",
      "webencodings                         0.5.1\n",
      "websocket-client                     0.59.0\n",
      "Werkzeug                             1.0.0\n",
      "wheel                                0.34.2\n",
      "widgetsnbextension                   3.5.1\n",
      "wrapt                                1.14.0\n",
      "wurlitzer                            2.0.0\n",
      "xlrd                                 1.2.0\n",
      "XlsxWriter                           1.2.7\n",
      "xlwt                                 1.3.0\n",
      "yapf                                 0.28.0\n",
      "yarl                                 1.7.2\n",
      "zict                                 1.0.0\n",
      "zipp                                 2.2.0\n"
     ]
    }
   ],
   "source": [
    "!pip list"
   ]
  },
  {
   "cell_type": "code",
   "execution_count": 23,
   "metadata": {},
   "outputs": [],
   "source": [
    "setup_dependencies_passed = True"
   ]
  },
  {
   "cell_type": "code",
   "execution_count": 24,
   "metadata": {},
   "outputs": [
    {
     "name": "stdout",
     "output_type": "stream",
     "text": [
      "Stored 'setup_dependencies_passed' (bool)\n"
     ]
    }
   ],
   "source": [
    "%store setup_dependencies_passed"
   ]
  },
  {
   "cell_type": "code",
   "execution_count": 25,
   "metadata": {},
   "outputs": [
    {
     "name": "stdout",
     "output_type": "stream",
     "text": [
      "Stored variables and their in-db values:\n",
      "auto_ml_job_name                        -> 'automl-dm-15-18-17-51'\n",
      "autopilot_endpoint_arn                  -> 'arn:aws:sagemaker:us-east-1:202517898772:endpoint\n",
      "autopilot_endpoint_name                 -> 'automl-dm-ep-15-19-02-13'\n",
      "autopilot_model_arn                     -> 'arn:aws:sagemaker:us-east-1:202517898772:model/au\n",
      "autopilot_model_name                    -> 'automl-dm-model-15-19-02-12'\n",
      "autopilot_train_s3_uri                  -> 's3://sagemaker-us-east-1-202517898772/data/amazon\n",
      "comprehend_train_s3_uri                 -> 's3://sagemaker-us-east-1-202517898772/data/amazon\n",
      "s3_private_path_tsv                     -> 's3://sagemaker-us-east-1-202517898772/amazon-revi\n",
      "s3_public_path_tsv                      -> 's3://amazon-reviews-pds/tsv'\n",
      "setup_dependencies_passed               -> True\n",
      "setup_iam_roles_passed                  -> False\n",
      "setup_instance_check_passed             -> True\n",
      "setup_s3_bucket_passed                  -> True\n"
     ]
    }
   ],
   "source": [
    "%store"
   ]
  },
  {
   "cell_type": "markdown",
   "metadata": {},
   "source": [
    "# Release Resources"
   ]
  },
  {
   "cell_type": "code",
   "execution_count": 26,
   "metadata": {},
   "outputs": [
    {
     "data": {
      "text/html": [
       "\n",
       "<p><b>Shutting down your kernel for this notebook to release resources.</b></p>\n",
       "<button class=\"sm-command-button\" data-commandlinker-command=\"kernelmenu:shutdown\" style=\"display:none;\">Shutdown Kernel</button>\n",
       "        \n",
       "<script>\n",
       "try {\n",
       "    els = document.getElementsByClassName(\"sm-command-button\");\n",
       "    els[0].click();\n",
       "}\n",
       "catch(err) {\n",
       "    // NoOp\n",
       "}    \n",
       "</script>\n"
      ],
      "text/plain": [
       "<IPython.core.display.HTML object>"
      ]
     },
     "metadata": {},
     "output_type": "display_data"
    }
   ],
   "source": [
    "%%html\n",
    "\n",
    "<p><b>Shutting down your kernel for this notebook to release resources.</b></p>\n",
    "<button class=\"sm-command-button\" data-commandlinker-command=\"kernelmenu:shutdown\" style=\"display:none;\">Shutdown Kernel</button>\n",
    "        \n",
    "<script>\n",
    "try {\n",
    "    els = document.getElementsByClassName(\"sm-command-button\");\n",
    "    els[0].click();\n",
    "}\n",
    "catch(err) {\n",
    "    // NoOp\n",
    "}    \n",
    "</script>"
   ]
  },
  {
   "cell_type": "code",
   "execution_count": 27,
   "metadata": {},
   "outputs": [
    {
     "data": {
      "application/javascript": [
       "\n",
       "try {\n",
       "    Jupyter.notebook.save_checkpoint();\n",
       "    Jupyter.notebook.session.delete();\n",
       "}\n",
       "catch(err) {\n",
       "    // NoOp\n",
       "}\n"
      ],
      "text/plain": [
       "<IPython.core.display.Javascript object>"
      ]
     },
     "metadata": {},
     "output_type": "display_data"
    }
   ],
   "source": [
    "%%javascript\n",
    "\n",
    "try {\n",
    "    Jupyter.notebook.save_checkpoint();\n",
    "    Jupyter.notebook.session.delete();\n",
    "}\n",
    "catch(err) {\n",
    "    // NoOp\n",
    "}"
   ]
  }
 ],
 "metadata": {
  "kernelspec": {
   "display_name": "Python 3 (Data Science)",
   "language": "python",
   "name": "python3__SAGEMAKER_INTERNAL__arn:aws:sagemaker:us-east-1:081325390199:image/datascience-1.0"
  },
  "language_info": {
   "codemirror_mode": {
    "name": "ipython",
    "version": 3
   },
   "file_extension": ".py",
   "mimetype": "text/x-python",
   "name": "python",
   "nbconvert_exporter": "python",
   "pygments_lexer": "ipython3",
   "version": "3.7.10"
  }
 },
 "nbformat": 4,
 "nbformat_minor": 4
}
