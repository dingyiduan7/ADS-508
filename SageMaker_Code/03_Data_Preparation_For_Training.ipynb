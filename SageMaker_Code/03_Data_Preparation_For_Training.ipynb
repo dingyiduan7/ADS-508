{
 "cells": [
  {
   "cell_type": "markdown",
   "metadata": {},
   "source": [
    "# Load required libraries"
   ]
  },
  {
   "cell_type": "code",
   "execution_count": 1,
   "metadata": {},
   "outputs": [],
   "source": [
    "import pandas as pd\n",
    "import numpy as np\n",
    "import boto3\n",
    "import sagemaker\n",
    "\n",
    "sess = sagemaker.Session()\n",
    "bucket = sess.default_bucket()\n",
    "role = sagemaker.get_execution_role()\n",
    "region = boto3.Session().region_name"
   ]
  },
  {
   "cell_type": "markdown",
   "metadata": {},
   "source": [
    "# Download the datasets from private S3 bucket"
   ]
  },
  {
   "cell_type": "code",
   "execution_count": 82,
   "metadata": {},
   "outputs": [
    {
     "name": "stdout",
     "output_type": "stream",
     "text": [
      "download: s3://ads508-team4-master/df_psych.csv to data/df_psych.csv\n"
     ]
    }
   ],
   "source": [
    "!aws s3 cp 's3://ads508-team4-master/df_psych.csv' ./data/"
   ]
  },
  {
   "cell_type": "code",
   "execution_count": 3,
   "metadata": {},
   "outputs": [
    {
     "data": {
      "text/html": [
       "<div>\n",
       "<style scoped>\n",
       "    .dataframe tbody tr th:only-of-type {\n",
       "        vertical-align: middle;\n",
       "    }\n",
       "\n",
       "    .dataframe tbody tr th {\n",
       "        vertical-align: top;\n",
       "    }\n",
       "\n",
       "    .dataframe thead th {\n",
       "        text-align: right;\n",
       "    }\n",
       "</style>\n",
       "<table border=\"1\" class=\"dataframe\">\n",
       "  <thead>\n",
       "    <tr style=\"text-align: right;\">\n",
       "      <th></th>\n",
       "      <th>user_id</th>\n",
       "      <th>platform_x</th>\n",
       "      <th>level_1</th>\n",
       "      <th>level_2</th>\n",
       "      <th>level_3</th>\n",
       "      <th>confidence_score</th>\n",
       "      <th>country_code</th>\n",
       "      <th>platform_y</th>\n",
       "      <th>asset_id</th>\n",
       "      <th>minutes_viewed</th>\n",
       "      <th>showtype</th>\n",
       "      <th>genre</th>\n",
       "      <th>running_minutes</th>\n",
       "      <th>source_language</th>\n",
       "      <th>season_id</th>\n",
       "      <th>series_id</th>\n",
       "      <th>studio_id</th>\n",
       "      <th>minutes_under_2</th>\n",
       "    </tr>\n",
       "  </thead>\n",
       "  <tbody>\n",
       "    <tr>\n",
       "      <th>0</th>\n",
       "      <td>7.730941e+10</td>\n",
       "      <td>android</td>\n",
       "      <td>Psychographics</td>\n",
       "      <td>Movies Lovers</td>\n",
       "      <td>Religion and Faith Movies Fans</td>\n",
       "      <td>0.07</td>\n",
       "      <td>PH</td>\n",
       "      <td>android</td>\n",
       "      <td>8330</td>\n",
       "      <td>1</td>\n",
       "      <td>Movies</td>\n",
       "      <td>Horror</td>\n",
       "      <td>81</td>\n",
       "      <td>Indonesian</td>\n",
       "      <td>NaN</td>\n",
       "      <td>NaN</td>\n",
       "      <td>371.0</td>\n",
       "      <td>True</td>\n",
       "    </tr>\n",
       "    <tr>\n",
       "      <th>1</th>\n",
       "      <td>7.730941e+10</td>\n",
       "      <td>android</td>\n",
       "      <td>Psychographics</td>\n",
       "      <td>Movies Lovers</td>\n",
       "      <td>English Movies Fans</td>\n",
       "      <td>0.97</td>\n",
       "      <td>PH</td>\n",
       "      <td>android</td>\n",
       "      <td>8330</td>\n",
       "      <td>1</td>\n",
       "      <td>Movies</td>\n",
       "      <td>Horror</td>\n",
       "      <td>81</td>\n",
       "      <td>Indonesian</td>\n",
       "      <td>NaN</td>\n",
       "      <td>NaN</td>\n",
       "      <td>371.0</td>\n",
       "      <td>True</td>\n",
       "    </tr>\n",
       "    <tr>\n",
       "      <th>2</th>\n",
       "      <td>7.730941e+10</td>\n",
       "      <td>android</td>\n",
       "      <td>Psychographics</td>\n",
       "      <td>Movies Lovers</td>\n",
       "      <td>Music Movies Fans</td>\n",
       "      <td>0.54</td>\n",
       "      <td>PH</td>\n",
       "      <td>android</td>\n",
       "      <td>8330</td>\n",
       "      <td>1</td>\n",
       "      <td>Movies</td>\n",
       "      <td>Horror</td>\n",
       "      <td>81</td>\n",
       "      <td>Indonesian</td>\n",
       "      <td>NaN</td>\n",
       "      <td>NaN</td>\n",
       "      <td>371.0</td>\n",
       "      <td>True</td>\n",
       "    </tr>\n",
       "    <tr>\n",
       "      <th>3</th>\n",
       "      <td>7.730941e+10</td>\n",
       "      <td>android</td>\n",
       "      <td>Psychographics</td>\n",
       "      <td>Music Lovers</td>\n",
       "      <td>NaN</td>\n",
       "      <td>0.39</td>\n",
       "      <td>PH</td>\n",
       "      <td>android</td>\n",
       "      <td>8330</td>\n",
       "      <td>1</td>\n",
       "      <td>Movies</td>\n",
       "      <td>Horror</td>\n",
       "      <td>81</td>\n",
       "      <td>Indonesian</td>\n",
       "      <td>NaN</td>\n",
       "      <td>NaN</td>\n",
       "      <td>371.0</td>\n",
       "      <td>True</td>\n",
       "    </tr>\n",
       "    <tr>\n",
       "      <th>4</th>\n",
       "      <td>7.730941e+10</td>\n",
       "      <td>android</td>\n",
       "      <td>Psychographics</td>\n",
       "      <td>TV Lovers</td>\n",
       "      <td>English TV Fans</td>\n",
       "      <td>0.78</td>\n",
       "      <td>PH</td>\n",
       "      <td>android</td>\n",
       "      <td>8330</td>\n",
       "      <td>1</td>\n",
       "      <td>Movies</td>\n",
       "      <td>Horror</td>\n",
       "      <td>81</td>\n",
       "      <td>Indonesian</td>\n",
       "      <td>NaN</td>\n",
       "      <td>NaN</td>\n",
       "      <td>371.0</td>\n",
       "      <td>True</td>\n",
       "    </tr>\n",
       "    <tr>\n",
       "      <th>...</th>\n",
       "      <td>...</td>\n",
       "      <td>...</td>\n",
       "      <td>...</td>\n",
       "      <td>...</td>\n",
       "      <td>...</td>\n",
       "      <td>...</td>\n",
       "      <td>...</td>\n",
       "      <td>...</td>\n",
       "      <td>...</td>\n",
       "      <td>...</td>\n",
       "      <td>...</td>\n",
       "      <td>...</td>\n",
       "      <td>...</td>\n",
       "      <td>...</td>\n",
       "      <td>...</td>\n",
       "      <td>...</td>\n",
       "      <td>...</td>\n",
       "      <td>...</td>\n",
       "    </tr>\n",
       "    <tr>\n",
       "      <th>95</th>\n",
       "      <td>8.589935e+09</td>\n",
       "      <td>android</td>\n",
       "      <td>Psychographics</td>\n",
       "      <td>TV Lovers</td>\n",
       "      <td>Malay TV Fans</td>\n",
       "      <td>0.14</td>\n",
       "      <td>ID</td>\n",
       "      <td>android</td>\n",
       "      <td>8330</td>\n",
       "      <td>32</td>\n",
       "      <td>Movies</td>\n",
       "      <td>Horror</td>\n",
       "      <td>81</td>\n",
       "      <td>Indonesian</td>\n",
       "      <td>NaN</td>\n",
       "      <td>NaN</td>\n",
       "      <td>371.0</td>\n",
       "      <td>False</td>\n",
       "    </tr>\n",
       "    <tr>\n",
       "      <th>96</th>\n",
       "      <td>8.589935e+09</td>\n",
       "      <td>android</td>\n",
       "      <td>Psychographics</td>\n",
       "      <td>Mobile Enthusiasts</td>\n",
       "      <td>High Data Users</td>\n",
       "      <td>0.82</td>\n",
       "      <td>ID</td>\n",
       "      <td>android</td>\n",
       "      <td>8330</td>\n",
       "      <td>32</td>\n",
       "      <td>Movies</td>\n",
       "      <td>Horror</td>\n",
       "      <td>81</td>\n",
       "      <td>Indonesian</td>\n",
       "      <td>NaN</td>\n",
       "      <td>NaN</td>\n",
       "      <td>371.0</td>\n",
       "      <td>False</td>\n",
       "    </tr>\n",
       "    <tr>\n",
       "      <th>97</th>\n",
       "      <td>8.589935e+09</td>\n",
       "      <td>android</td>\n",
       "      <td>Psychographics</td>\n",
       "      <td>TV Lovers</td>\n",
       "      <td>Action and Adventure TV Fans</td>\n",
       "      <td>0.25</td>\n",
       "      <td>ID</td>\n",
       "      <td>android</td>\n",
       "      <td>8330</td>\n",
       "      <td>32</td>\n",
       "      <td>Movies</td>\n",
       "      <td>Horror</td>\n",
       "      <td>81</td>\n",
       "      <td>Indonesian</td>\n",
       "      <td>NaN</td>\n",
       "      <td>NaN</td>\n",
       "      <td>371.0</td>\n",
       "      <td>False</td>\n",
       "    </tr>\n",
       "    <tr>\n",
       "      <th>98</th>\n",
       "      <td>4.294967e+10</td>\n",
       "      <td>android</td>\n",
       "      <td>Psychographics</td>\n",
       "      <td>Movies Lovers</td>\n",
       "      <td>Tagalog Movies Fans</td>\n",
       "      <td>0.05</td>\n",
       "      <td>ID</td>\n",
       "      <td>android</td>\n",
       "      <td>8330</td>\n",
       "      <td>23</td>\n",
       "      <td>Movies</td>\n",
       "      <td>Horror</td>\n",
       "      <td>81</td>\n",
       "      <td>Indonesian</td>\n",
       "      <td>NaN</td>\n",
       "      <td>NaN</td>\n",
       "      <td>371.0</td>\n",
       "      <td>False</td>\n",
       "    </tr>\n",
       "    <tr>\n",
       "      <th>99</th>\n",
       "      <td>4.294967e+10</td>\n",
       "      <td>android</td>\n",
       "      <td>Psychographics</td>\n",
       "      <td>TV Lovers</td>\n",
       "      <td>Comedy TV Fans</td>\n",
       "      <td>0.34</td>\n",
       "      <td>ID</td>\n",
       "      <td>android</td>\n",
       "      <td>8330</td>\n",
       "      <td>23</td>\n",
       "      <td>Movies</td>\n",
       "      <td>Horror</td>\n",
       "      <td>81</td>\n",
       "      <td>Indonesian</td>\n",
       "      <td>NaN</td>\n",
       "      <td>NaN</td>\n",
       "      <td>371.0</td>\n",
       "      <td>False</td>\n",
       "    </tr>\n",
       "  </tbody>\n",
       "</table>\n",
       "<p>100 rows × 18 columns</p>\n",
       "</div>"
      ],
      "text/plain": [
       "         user_id platform_x         level_1             level_2  \\\n",
       "0   7.730941e+10    android  Psychographics       Movies Lovers   \n",
       "1   7.730941e+10    android  Psychographics       Movies Lovers   \n",
       "2   7.730941e+10    android  Psychographics       Movies Lovers   \n",
       "3   7.730941e+10    android  Psychographics        Music Lovers   \n",
       "4   7.730941e+10    android  Psychographics           TV Lovers   \n",
       "..           ...        ...             ...                 ...   \n",
       "95  8.589935e+09    android  Psychographics           TV Lovers   \n",
       "96  8.589935e+09    android  Psychographics  Mobile Enthusiasts   \n",
       "97  8.589935e+09    android  Psychographics           TV Lovers   \n",
       "98  4.294967e+10    android  Psychographics       Movies Lovers   \n",
       "99  4.294967e+10    android  Psychographics           TV Lovers   \n",
       "\n",
       "                           level_3  confidence_score country_code platform_y  \\\n",
       "0   Religion and Faith Movies Fans              0.07           PH    android   \n",
       "1              English Movies Fans              0.97           PH    android   \n",
       "2                Music Movies Fans              0.54           PH    android   \n",
       "3                              NaN              0.39           PH    android   \n",
       "4                  English TV Fans              0.78           PH    android   \n",
       "..                             ...               ...          ...        ...   \n",
       "95                   Malay TV Fans              0.14           ID    android   \n",
       "96                 High Data Users              0.82           ID    android   \n",
       "97    Action and Adventure TV Fans              0.25           ID    android   \n",
       "98             Tagalog Movies Fans              0.05           ID    android   \n",
       "99                  Comedy TV Fans              0.34           ID    android   \n",
       "\n",
       "    asset_id  minutes_viewed showtype   genre  running_minutes  \\\n",
       "0       8330               1   Movies  Horror               81   \n",
       "1       8330               1   Movies  Horror               81   \n",
       "2       8330               1   Movies  Horror               81   \n",
       "3       8330               1   Movies  Horror               81   \n",
       "4       8330               1   Movies  Horror               81   \n",
       "..       ...             ...      ...     ...              ...   \n",
       "95      8330              32   Movies  Horror               81   \n",
       "96      8330              32   Movies  Horror               81   \n",
       "97      8330              32   Movies  Horror               81   \n",
       "98      8330              23   Movies  Horror               81   \n",
       "99      8330              23   Movies  Horror               81   \n",
       "\n",
       "   source_language  season_id  series_id  studio_id  minutes_under_2  \n",
       "0       Indonesian        NaN        NaN      371.0             True  \n",
       "1       Indonesian        NaN        NaN      371.0             True  \n",
       "2       Indonesian        NaN        NaN      371.0             True  \n",
       "3       Indonesian        NaN        NaN      371.0             True  \n",
       "4       Indonesian        NaN        NaN      371.0             True  \n",
       "..             ...        ...        ...        ...              ...  \n",
       "95      Indonesian        NaN        NaN      371.0            False  \n",
       "96      Indonesian        NaN        NaN      371.0            False  \n",
       "97      Indonesian        NaN        NaN      371.0            False  \n",
       "98      Indonesian        NaN        NaN      371.0            False  \n",
       "99      Indonesian        NaN        NaN      371.0            False  \n",
       "\n",
       "[100 rows x 18 columns]"
      ]
     },
     "execution_count": 3,
     "metadata": {},
     "output_type": "execute_result"
    }
   ],
   "source": [
    "import csv\n",
    "\n",
    "df_psych = pd.read_csv(\n",
    "    \"./data/df_psych.csv\",\n",
    "    delimiter=\",\",\n",
    "    quoting=csv.QUOTE_NONE,\n",
    ")\n",
    "df_psych = df_psych.iloc[:,1:]\n",
    "df_psych.head(100)"
   ]
  },
  {
   "cell_type": "markdown",
   "metadata": {},
   "source": [
    "# Clean up missing values and outliers\n",
    "\n",
    "## Missing values first\n",
    "\n",
    "Recall that we have some missing values in the dataset"
   ]
  },
  {
   "cell_type": "code",
   "execution_count": 4,
   "metadata": {},
   "outputs": [
    {
     "data": {
      "text/plain": [
       "user_id                  0\n",
       "platform_x               0\n",
       "level_1                  0\n",
       "level_2                  0\n",
       "level_3               4850\n",
       "confidence_score         0\n",
       "country_code             0\n",
       "platform_y               0\n",
       "asset_id                 0\n",
       "minutes_viewed           0\n",
       "showtype                 0\n",
       "genre                    5\n",
       "running_minutes          0\n",
       "source_language        701\n",
       "season_id           146311\n",
       "series_id           146311\n",
       "studio_id              300\n",
       "minutes_under_2          0\n",
       "dtype: int64"
      ]
     },
     "execution_count": 4,
     "metadata": {},
     "output_type": "execute_result"
    }
   ],
   "source": [
    "df_psych.isnull().sum()"
   ]
  },
  {
   "cell_type": "markdown",
   "metadata": {},
   "source": [
    "It occurs to us that some records don't have genres so we remove those specific records."
   ]
  },
  {
   "cell_type": "code",
   "execution_count": 5,
   "metadata": {},
   "outputs": [
    {
     "name": "stdout",
     "output_type": "stream",
     "text": [
      "\n",
      "\n"
     ]
    }
   ],
   "source": [
    "df_psych = df_psych.dropna(subset=['genre'])\n",
    "df_psych.isnull().sum()\n",
    "print('\\n')"
   ]
  },
  {
   "cell_type": "markdown",
   "metadata": {},
   "source": [
    "We are going to see which studios are missing the source language."
   ]
  },
  {
   "cell_type": "code",
   "execution_count": 6,
   "metadata": {},
   "outputs": [
    {
     "name": "stdout",
     "output_type": "stream",
     "text": [
      "[ 10. 229. 301.  79. 442. 127. 390.  69. 321. 373.  73. 170. 447. 226.\n",
      " 111. 241.]\n"
     ]
    }
   ],
   "source": [
    "df1 = df_psych[['studio_id','source_language']]\n",
    "df2 = df1.loc[df1['source_language'].isna()]\n",
    "print(df2['studio_id'].unique())"
   ]
  },
  {
   "cell_type": "code",
   "execution_count": 7,
   "metadata": {},
   "outputs": [
    {
     "data": {
      "text/plain": [
       "studio_id\n",
       "10.0     2\n",
       "69.0     1\n",
       "73.0     0\n",
       "79.0     0\n",
       "111.0    0\n",
       "127.0    1\n",
       "170.0    1\n",
       "226.0    2\n",
       "229.0    1\n",
       "241.0    0\n",
       "301.0    0\n",
       "321.0    0\n",
       "373.0    0\n",
       "390.0    1\n",
       "442.0    0\n",
       "447.0    1\n",
       "Name: source_language, dtype: int64"
      ]
     },
     "execution_count": 7,
     "metadata": {},
     "output_type": "execute_result"
    }
   ],
   "source": [
    "df1[df1['studio_id'].isin([229., 321.,  10., 301.,  79., 442., 373.,  73., 127., 390.,  69.,\n",
    "       226., 170., 111., 241., 447.])].groupby('studio_id')['source_language'].nunique()"
   ]
  },
  {
   "cell_type": "markdown",
   "metadata": {},
   "source": [
    "For the studios that are missing source language, there can be no language, one language or two languages. To avoid confusion, we will remove records with missing studio_id and source_language."
   ]
  },
  {
   "cell_type": "code",
   "execution_count": 8,
   "metadata": {},
   "outputs": [
    {
     "data": {
      "text/plain": [
       "user_id                  0\n",
       "platform_x               0\n",
       "level_1                  0\n",
       "level_2                  0\n",
       "level_3               4839\n",
       "confidence_score         0\n",
       "country_code             0\n",
       "platform_y               0\n",
       "asset_id                 0\n",
       "minutes_viewed           0\n",
       "showtype                 0\n",
       "genre                    0\n",
       "running_minutes          0\n",
       "source_language          0\n",
       "season_id           145653\n",
       "series_id           145653\n",
       "studio_id                0\n",
       "minutes_under_2          0\n",
       "dtype: int64"
      ]
     },
     "execution_count": 8,
     "metadata": {},
     "output_type": "execute_result"
    }
   ],
   "source": [
    "df_psych = df_psych.dropna(subset=['studio_id','source_language'])\n",
    "df_psych.isnull().sum()"
   ]
  },
  {
   "cell_type": "markdown",
   "metadata": {},
   "source": [
    "We can see that season_id and series_id have euqal amount of records and recall the showtype in the dataset has only 2 types."
   ]
  },
  {
   "cell_type": "code",
   "execution_count": 9,
   "metadata": {},
   "outputs": [
    {
     "data": {
      "image/png": "[encoded data removed]",
      "text/plain": [
       "<Figure size 432x288 with 1 Axes>"
      ]
     },
     "metadata": {
      "needs_background": "light"
     },
     "output_type": "display_data"
    }
   ],
   "source": [
    "import matplotlib.pyplot as plt\n",
    "\n",
    "plt.hist(df_psych['showtype'])\n",
    "plt.xlabel(\"Show Types\")\n",
    "plt.ylabel(\"Records\")\n",
    "plt.title(\"Distribution of showtype\")\n",
    "plt.show()"
   ]
  },
  {
   "cell_type": "code",
   "execution_count": 10,
   "metadata": {},
   "outputs": [],
   "source": [
    "df1 = df_psych[['showtype','season_id',\"series_id\"]]\n",
    "df2 = df1.loc[(df1['season_id'].isna()) & (df1['series_id'].isna())]"
   ]
  },
  {
   "cell_type": "code",
   "execution_count": 11,
   "metadata": {},
   "outputs": [
    {
     "data": {
      "text/plain": [
       "showtype\n",
       "Movies    1\n",
       "Name: season_id, dtype: int64"
      ]
     },
     "execution_count": 11,
     "metadata": {},
     "output_type": "execute_result"
    }
   ],
   "source": [
    "df2.groupby('showtype')['season_id'].nunique()"
   ]
  },
  {
   "cell_type": "code",
   "execution_count": 12,
   "metadata": {},
   "outputs": [
    {
     "data": {
      "text/plain": [
       "showtype\n",
       "Movies    1\n",
       "Name: series_id, dtype: int64"
      ]
     },
     "execution_count": 12,
     "metadata": {},
     "output_type": "execute_result"
    }
   ],
   "source": [
    "df2.groupby('showtype')['series_id'].nunique()"
   ]
  },
  {
   "cell_type": "markdown",
   "metadata": {},
   "source": [
    "This means that as long as we have valid season_id and series_id, the showtype must be TV shows while those values would be nulls for Movies.\n",
    "Therefore, there is no need to keep season_id and series_id since they are directly correlated to showtype. So we remove the two columns."
   ]
  },
  {
   "cell_type": "code",
   "execution_count": 13,
   "metadata": {},
   "outputs": [
    {
     "data": {
      "text/plain": [
       "user_id                0\n",
       "platform_x             0\n",
       "level_1                0\n",
       "level_2                0\n",
       "level_3             4839\n",
       "confidence_score       0\n",
       "country_code           0\n",
       "platform_y             0\n",
       "asset_id               0\n",
       "minutes_viewed         0\n",
       "showtype               0\n",
       "genre                  0\n",
       "running_minutes        0\n",
       "source_language        0\n",
       "studio_id              0\n",
       "minutes_under_2        0\n",
       "dtype: int64"
      ]
     },
     "execution_count": 13,
     "metadata": {},
     "output_type": "execute_result"
    }
   ],
   "source": [
    "df_psych = df_psych.drop(['season_id', 'series_id'], axis=1)\n",
    "df_psych.isnull().sum()"
   ]
  },
  {
   "cell_type": "code",
   "execution_count": 14,
   "metadata": {},
   "outputs": [
    {
     "data": {
      "text/plain": [
       "array(['Religion and Faith Movies Fans', 'English Movies Fans',\n",
       "       'Music Movies Fans', nan, 'English TV Fans', 'Chinese Movies Fans',\n",
       "       'Downloaders', 'Romance Movies Fans',\n",
       "       'Documentary and Biography Movies Fans', 'Malay Movies Fans',\n",
       "       'Thriller Movies Fans', 'player', 'Horror Movies Fans',\n",
       "       'Tagalog Movies Fans', 'Documentary and Biography TV Fans',\n",
       "       'Action and Adventure Movies Fans', 'Kids Movies Fans',\n",
       "       'Local Commuters', 'Indonesian Movies Fans', 'Drama Movies Fans',\n",
       "       'Sci-Fi Movies Fans', 'Animation Movies Fans', 'High Data Users',\n",
       "       'Comedy Movies Fans', 'Drama TV Fans', 'Comedy TV Fans',\n",
       "       'Family Movies Fans', 'Indonesian TV Fans', 'Korean TV Fans',\n",
       "       'casual', 'Korean Movies Fans',\n",
       "       '\"\"\"\"\"\"\"\\\\\"\"\"\"\"\"\"\"\\\\\"\"\"\"\"\"\"\"\"\"\"\"\"\"\"', 'addict',\n",
       "       'Hindi Movies Fans', 'Fantasy Movies Fans', 'Kids TV Fans',\n",
       "       'Vietnamese Movies Fans', 'Thai Movies Fans', 'Malay TV Fans',\n",
       "       'Action and Adventure TV Fans', 'Reality TV Fans',\n",
       "       'Central Khmer Movies Fans', 'Religion and Faith TV Fans',\n",
       "       'Romance TV Fans', 'Crime and Mystery Movies Fans',\n",
       "       'Nepali Movies Fans', 'Bengali Movies Fans', 'Nepali TV Fans',\n",
       "       'Japanese TV Fans', 'Anime TV Fans', 'Chinese TV Fans',\n",
       "       'Reality Movies Fans', 'Fantasy TV Fans', 'Horror TV Fans',\n",
       "       'Portuguese Movies Fans', 'Tagalog TV Fans', 'Others Movies Fans',\n",
       "       'French TV Fans', 'Burmese Movies Fans',\n",
       "       'Lifestyle and Fashion TV Fans', 'Crime and Mystery TV Fans',\n",
       "       'French Movies Fans', 'Tamil Movies Fans', 'Thai TV Fans',\n",
       "       'Turkish Movies Fans', 'Sports TV Fans',\n",
       "       'International Travellers', 'Extreme Sports Movies Fans',\n",
       "       'Adult Romance Movies Fans', 'Swahili TV Fans',\n",
       "       'Spanish; Castilian Movies Fans', 'Music TV Fans',\n",
       "       'Others TV Fans', 'Italian TV Fans', 'Thriller TV Fans',\n",
       "       'Bengali TV Fans', 'Animation TV Fans', 'Japanese Movies Fans',\n",
       "       'Anime Movies Fans', 'Best of Web or Viral TV Fans',\n",
       "       'Education TV Fans', 'Burmese TV Fans', 'Sports Movies Fans',\n",
       "       'eSports Movies Fans', 'Urdu Movies Fans', 'eSports TV Fans',\n",
       "       'Urdu TV Fans', 'Hindi TV Fans', 'Kanuri TV Fans',\n",
       "       'Lifestyle and Fashion Movies Fans', 'Spanish; Castilian TV Fans',\n",
       "       'Hungarian Movies Fans', 'Danish Movies Fans', 'Game Show TV Fans',\n",
       "       'Tajik Movies Fans', 'Health and Fitness Movies Fans',\n",
       "       'Italian Movies Fans', 'Family TV Fans', 'Afrikaans TV Fans',\n",
       "       'Education Movies Fans', 'Arabic Movies Fans', 'Arabic TV Fans',\n",
       "       'Norwegian TV Fans', 'Swedish Movies Fans',\n",
       "       'Live Events and Specials Movies Fans'], dtype=object)"
      ]
     },
     "execution_count": 14,
     "metadata": {},
     "output_type": "execute_result"
    }
   ],
   "source": [
    "pd.unique(df_psych['level_3'])"
   ]
  },
  {
   "cell_type": "markdown",
   "metadata": {},
   "source": [
    "Some level_3 traits are not valid, we will find out which level_2 traits those invalid level_3 traits belong to,\n",
    "and replace the invalid level_3 traits to the same as level_2"
   ]
  },
  {
   "cell_type": "code",
   "execution_count": 15,
   "metadata": {},
   "outputs": [
    {
     "data": {
      "text/plain": [
       "array(['Music Lovers', 'Sports Fans', 'News Junkies & Avid Readers'],\n",
       "      dtype=object)"
      ]
     },
     "execution_count": 15,
     "metadata": {},
     "output_type": "execute_result"
    }
   ],
   "source": [
    "lev3_null = df_psych.loc[df_psych['level_3'].isnull(), ('level_2')]\n",
    "pd.unique(lev3_null)"
   ]
  },
  {
   "cell_type": "code",
   "execution_count": 16,
   "metadata": {},
   "outputs": [
    {
     "name": "stderr",
     "output_type": "stream",
     "text": [
      "/opt/conda/lib/python3.7/site-packages/ipykernel_launcher.py:4: SettingWithCopyWarning: \n",
      "A value is trying to be set on a copy of a slice from a DataFrame\n",
      "\n",
      "See the caveats in the documentation: https://pandas.pydata.org/pandas-docs/stable/user_guide/indexing.html#returning-a-view-versus-a-copy\n",
      "  after removing the cwd from sys.path.\n",
      "/opt/conda/lib/python3.7/site-packages/ipykernel_launcher.py:5: SettingWithCopyWarning: \n",
      "A value is trying to be set on a copy of a slice from a DataFrame\n",
      "\n",
      "See the caveats in the documentation: https://pandas.pydata.org/pandas-docs/stable/user_guide/indexing.html#returning-a-view-versus-a-copy\n",
      "  \"\"\"\n",
      "/opt/conda/lib/python3.7/site-packages/ipykernel_launcher.py:6: SettingWithCopyWarning: \n",
      "A value is trying to be set on a copy of a slice from a DataFrame\n",
      "\n",
      "See the caveats in the documentation: https://pandas.pydata.org/pandas-docs/stable/user_guide/indexing.html#returning-a-view-versus-a-copy\n",
      "  \n",
      "/opt/conda/lib/python3.7/site-packages/ipykernel_launcher.py:9: SettingWithCopyWarning: \n",
      "A value is trying to be set on a copy of a slice from a DataFrame\n",
      "\n",
      "See the caveats in the documentation: https://pandas.pydata.org/pandas-docs/stable/user_guide/indexing.html#returning-a-view-versus-a-copy\n",
      "  if __name__ == '__main__':\n"
     ]
    }
   ],
   "source": [
    "# Replace level_3 traits for records having \n",
    "# level_2 traits as 'News Junkies & Avid Readers', 'Sports Fans', 'Music Lovers' with their own level_2 traits\n",
    "\n",
    "df_psych['level_3'][df_psych.level_2 == 'News Junkies & Avid Readers'] = 'News Junkies & Avid Readers'\n",
    "df_psych['level_3'][df_psych.level_2 == 'Sports Fans'] = 'Sports Fans'\n",
    "df_psych['level_3'][df_psych.level_2 == 'Music Lovers'] = 'Music Lovers'\n",
    "\n",
    "# hot-code level_3 trait for social media fans to social media fans\n",
    "df_psych['level_3'][df_psych.level_2 == 'Social Media Fans'] = 'Social Media Fans'\n"
   ]
  },
  {
   "cell_type": "code",
   "execution_count": 17,
   "metadata": {},
   "outputs": [
    {
     "data": {
      "text/plain": [
       "array(['Religion and Faith Movies Fans', 'English Movies Fans',\n",
       "       'Music Movies Fans', 'Music Lovers', 'English TV Fans',\n",
       "       'Chinese Movies Fans', 'Downloaders', 'Romance Movies Fans',\n",
       "       'Documentary and Biography Movies Fans', 'Malay Movies Fans',\n",
       "       'Thriller Movies Fans', 'player', 'Horror Movies Fans',\n",
       "       'Tagalog Movies Fans', 'Documentary and Biography TV Fans',\n",
       "       'Action and Adventure Movies Fans', 'Kids Movies Fans',\n",
       "       'Local Commuters', 'Indonesian Movies Fans', 'Drama Movies Fans',\n",
       "       'Sci-Fi Movies Fans', 'Animation Movies Fans', 'High Data Users',\n",
       "       'Comedy Movies Fans', 'Drama TV Fans', 'Comedy TV Fans',\n",
       "       'Family Movies Fans', 'Indonesian TV Fans', 'Korean TV Fans',\n",
       "       'casual', 'Korean Movies Fans', 'Social Media Fans', 'addict',\n",
       "       'Hindi Movies Fans', 'Fantasy Movies Fans', 'Kids TV Fans',\n",
       "       'Vietnamese Movies Fans', 'Thai Movies Fans', 'Malay TV Fans',\n",
       "       'Action and Adventure TV Fans', 'Reality TV Fans',\n",
       "       'Central Khmer Movies Fans', 'Religion and Faith TV Fans',\n",
       "       'Romance TV Fans', 'Crime and Mystery Movies Fans',\n",
       "       'Nepali Movies Fans', 'Bengali Movies Fans', 'Nepali TV Fans',\n",
       "       'Sports Fans', 'News Junkies & Avid Readers', 'Japanese TV Fans',\n",
       "       'Anime TV Fans', 'Chinese TV Fans', 'Reality Movies Fans',\n",
       "       'Fantasy TV Fans', 'Horror TV Fans', 'Portuguese Movies Fans',\n",
       "       'Tagalog TV Fans', 'Others Movies Fans', 'French TV Fans',\n",
       "       'Burmese Movies Fans', 'Lifestyle and Fashion TV Fans',\n",
       "       'Crime and Mystery TV Fans', 'French Movies Fans',\n",
       "       'Tamil Movies Fans', 'Thai TV Fans', 'Turkish Movies Fans',\n",
       "       'Sports TV Fans', 'International Travellers',\n",
       "       'Extreme Sports Movies Fans', 'Adult Romance Movies Fans',\n",
       "       'Swahili TV Fans', 'Spanish; Castilian Movies Fans',\n",
       "       'Music TV Fans', 'Others TV Fans', 'Italian TV Fans',\n",
       "       'Thriller TV Fans', 'Bengali TV Fans', 'Animation TV Fans',\n",
       "       'Japanese Movies Fans', 'Anime Movies Fans',\n",
       "       'Best of Web or Viral TV Fans', 'Education TV Fans',\n",
       "       'Burmese TV Fans', 'Sports Movies Fans', 'eSports Movies Fans',\n",
       "       'Urdu Movies Fans', 'eSports TV Fans', 'Urdu TV Fans',\n",
       "       'Hindi TV Fans', 'Kanuri TV Fans',\n",
       "       'Lifestyle and Fashion Movies Fans', 'Spanish; Castilian TV Fans',\n",
       "       'Hungarian Movies Fans', 'Danish Movies Fans', 'Game Show TV Fans',\n",
       "       'Tajik Movies Fans', 'Health and Fitness Movies Fans',\n",
       "       'Italian Movies Fans', 'Family TV Fans', 'Afrikaans TV Fans',\n",
       "       'Education Movies Fans', 'Arabic Movies Fans', 'Arabic TV Fans',\n",
       "       'Norwegian TV Fans', 'Swedish Movies Fans',\n",
       "       'Live Events and Specials Movies Fans'], dtype=object)"
      ]
     },
     "execution_count": 17,
     "metadata": {},
     "output_type": "execute_result"
    }
   ],
   "source": [
    "pd.unique(df_psych['level_3'])"
   ]
  },
  {
   "cell_type": "markdown",
   "metadata": {},
   "source": [
    "## Now consider outliers.."
   ]
  },
  {
   "cell_type": "markdown",
   "metadata": {},
   "source": [
    "Recall that we have plenty outilers in running_minutes and minutes_viewed"
   ]
  },
  {
   "cell_type": "code",
   "execution_count": 18,
   "metadata": {},
   "outputs": [],
   "source": [
    "# Use a z-score of 3 as the cutoff\n",
    "\n",
    "from scipy import stats\n",
    "\n",
    "\n",
    "df_psych = df_psych[(np.abs(stats.zscore(df_psych['minutes_viewed']))< 3)]\n",
    "df_psych = df_psych[(np.abs(stats.zscore(df_psych['running_minutes']))< 3)]"
   ]
  },
  {
   "cell_type": "code",
   "execution_count": 19,
   "metadata": {},
   "outputs": [
    {
     "data": {
      "text/plain": [
       "Text(0, 0.5, 'minutes_viewed')"
      ]
     },
     "execution_count": 19,
     "metadata": {},
     "output_type": "execute_result"
    },
    {
     "data": {
      "image/png": "[encoded data removed]",
      "text/plain": [
       "<Figure size 720x504 with 1 Axes>"
      ]
     },
     "metadata": {
      "needs_background": "light"
     },
     "output_type": "display_data"
    }
   ],
   "source": [
    "# Use boxplot to check for outliers in minutes_viewed\n",
    "\n",
    "fig = plt.figure(figsize =(10, 7))\n",
    "boxplot = df_psych.boxplot(column=['minutes_viewed'])\n",
    "plt.title(\"Boxplot of minutes_viewed for psychographics\", fontsize = 16)\n",
    "plt.ylabel(\"minutes_viewed\", fontsize= 14 )"
   ]
  },
  {
   "cell_type": "code",
   "execution_count": 20,
   "metadata": {},
   "outputs": [
    {
     "data": {
      "text/plain": [
       "Text(0, 0.5, 'running_minutes')"
      ]
     },
     "execution_count": 20,
     "metadata": {},
     "output_type": "execute_result"
    },
    {
     "data": {
      "image/png": "[encoded data removed]",
      "text/plain": [
       "<Figure size 720x504 with 1 Axes>"
      ]
     },
     "metadata": {
      "needs_background": "light"
     },
     "output_type": "display_data"
    }
   ],
   "source": [
    "# Use boxplot to check for outliers in running_minutes\n",
    "\n",
    "fig = plt.figure(figsize =(10, 7))\n",
    "boxplot = df_psych.boxplot(column=['running_minutes'])\n",
    "plt.title(\"Boxplot of running_minutes for psychographics\", fontsize = 16)\n",
    "plt.ylabel(\"running_minutes\", fontsize= 14 )"
   ]
  },
  {
   "cell_type": "markdown",
   "metadata": {},
   "source": [
    "# Feature Engineering"
   ]
  },
  {
   "cell_type": "markdown",
   "metadata": {},
   "source": [
    "## Remove 'iflix Viewing Behaviour' from level_2 traits"
   ]
  },
  {
   "cell_type": "code",
   "execution_count": 21,
   "metadata": {},
   "outputs": [
    {
     "data": {
      "text/html": [
       "<div>\n",
       "<style scoped>\n",
       "    .dataframe tbody tr th:only-of-type {\n",
       "        vertical-align: middle;\n",
       "    }\n",
       "\n",
       "    .dataframe tbody tr th {\n",
       "        vertical-align: top;\n",
       "    }\n",
       "\n",
       "    .dataframe thead th {\n",
       "        text-align: right;\n",
       "    }\n",
       "</style>\n",
       "<table border=\"1\" class=\"dataframe\">\n",
       "  <thead>\n",
       "    <tr style=\"text-align: right;\">\n",
       "      <th></th>\n",
       "      <th>level_2</th>\n",
       "    </tr>\n",
       "    <tr>\n",
       "      <th>level_2</th>\n",
       "      <th></th>\n",
       "    </tr>\n",
       "  </thead>\n",
       "  <tbody>\n",
       "    <tr>\n",
       "      <th>Mobile Enthusiasts</th>\n",
       "      <td>1</td>\n",
       "    </tr>\n",
       "    <tr>\n",
       "      <th>Movies Lovers</th>\n",
       "      <td>1</td>\n",
       "    </tr>\n",
       "    <tr>\n",
       "      <th>Music Lovers</th>\n",
       "      <td>1</td>\n",
       "    </tr>\n",
       "    <tr>\n",
       "      <th>News Junkies &amp; Avid Readers</th>\n",
       "      <td>1</td>\n",
       "    </tr>\n",
       "    <tr>\n",
       "      <th>Social Media Fans</th>\n",
       "      <td>1</td>\n",
       "    </tr>\n",
       "    <tr>\n",
       "      <th>Sports Fans</th>\n",
       "      <td>1</td>\n",
       "    </tr>\n",
       "    <tr>\n",
       "      <th>TV Lovers</th>\n",
       "      <td>1</td>\n",
       "    </tr>\n",
       "    <tr>\n",
       "      <th>Travellers</th>\n",
       "      <td>1</td>\n",
       "    </tr>\n",
       "    <tr>\n",
       "      <th>iflix Viewing Behaviour</th>\n",
       "      <td>1</td>\n",
       "    </tr>\n",
       "  </tbody>\n",
       "</table>\n",
       "</div>"
      ],
      "text/plain": [
       "                             level_2\n",
       "level_2                             \n",
       "Mobile Enthusiasts                 1\n",
       "Movies Lovers                      1\n",
       "Music Lovers                       1\n",
       "News Junkies & Avid Readers        1\n",
       "Social Media Fans                  1\n",
       "Sports Fans                        1\n",
       "TV Lovers                          1\n",
       "Travellers                         1\n",
       "iflix Viewing Behaviour            1"
      ]
     },
     "execution_count": 21,
     "metadata": {},
     "output_type": "execute_result"
    }
   ],
   "source": [
    "df_psych[['level_2']].groupby('level_2').nunique()"
   ]
  },
  {
   "cell_type": "markdown",
   "metadata": {},
   "source": [
    "Since \"iflix Viewing Behaviour\" doesn't fit into the rest of the traits, we will remove the records with it."
   ]
  },
  {
   "cell_type": "code",
   "execution_count": 22,
   "metadata": {},
   "outputs": [
    {
     "data": {
      "text/html": [
       "<div>\n",
       "<style scoped>\n",
       "    .dataframe tbody tr th:only-of-type {\n",
       "        vertical-align: middle;\n",
       "    }\n",
       "\n",
       "    .dataframe tbody tr th {\n",
       "        vertical-align: top;\n",
       "    }\n",
       "\n",
       "    .dataframe thead th {\n",
       "        text-align: right;\n",
       "    }\n",
       "</style>\n",
       "<table border=\"1\" class=\"dataframe\">\n",
       "  <thead>\n",
       "    <tr style=\"text-align: right;\">\n",
       "      <th></th>\n",
       "      <th>level_2</th>\n",
       "    </tr>\n",
       "    <tr>\n",
       "      <th>level_2</th>\n",
       "      <th></th>\n",
       "    </tr>\n",
       "  </thead>\n",
       "  <tbody>\n",
       "    <tr>\n",
       "      <th>Mobile Enthusiasts</th>\n",
       "      <td>1</td>\n",
       "    </tr>\n",
       "    <tr>\n",
       "      <th>Movies Lovers</th>\n",
       "      <td>1</td>\n",
       "    </tr>\n",
       "    <tr>\n",
       "      <th>Music Lovers</th>\n",
       "      <td>1</td>\n",
       "    </tr>\n",
       "    <tr>\n",
       "      <th>News Junkies &amp; Avid Readers</th>\n",
       "      <td>1</td>\n",
       "    </tr>\n",
       "    <tr>\n",
       "      <th>Social Media Fans</th>\n",
       "      <td>1</td>\n",
       "    </tr>\n",
       "    <tr>\n",
       "      <th>Sports Fans</th>\n",
       "      <td>1</td>\n",
       "    </tr>\n",
       "    <tr>\n",
       "      <th>TV Lovers</th>\n",
       "      <td>1</td>\n",
       "    </tr>\n",
       "    <tr>\n",
       "      <th>Travellers</th>\n",
       "      <td>1</td>\n",
       "    </tr>\n",
       "  </tbody>\n",
       "</table>\n",
       "</div>"
      ],
      "text/plain": [
       "                             level_2\n",
       "level_2                             \n",
       "Mobile Enthusiasts                 1\n",
       "Movies Lovers                      1\n",
       "Music Lovers                       1\n",
       "News Junkies & Avid Readers        1\n",
       "Social Media Fans                  1\n",
       "Sports Fans                        1\n",
       "TV Lovers                          1\n",
       "Travellers                         1"
      ]
     },
     "execution_count": 22,
     "metadata": {},
     "output_type": "execute_result"
    }
   ],
   "source": [
    "df_psych = df_psych[df_psych.level_2 != 'iflix Viewing Behaviour']\n",
    "df_psych[['level_2']].groupby('level_2').nunique()"
   ]
  },
  {
   "cell_type": "markdown",
   "metadata": {},
   "source": [
    "## Simplify Certain Features"
   ]
  },
  {
   "cell_type": "code",
   "execution_count": 23,
   "metadata": {},
   "outputs": [
    {
     "data": {
      "text/plain": [
       "array(['Indonesian', 'English', 'Tagalog', 'Chinese', 'Malay', 'Korean',\n",
       "       'Hindi', 'Burmese', 'Japanese', 'Nepali', 'Kanuri', 'Thai',\n",
       "       'Spanish; Castilian', 'Portuguese', 'Tamil', 'Vietnamese',\n",
       "       'Central Khmer', 'Bengali', 'French', 'Urdu', 'Swahili', 'Italian',\n",
       "       'Arabic', 'Hungarian', 'Turkish', 'Norwegian', 'Danish', 'Tajik',\n",
       "       'Swedish', 'Sinhala; Sinhalese', 'Afrikaans', 'Avaric'],\n",
       "      dtype=object)"
      ]
     },
     "execution_count": 23,
     "metadata": {},
     "output_type": "execute_result"
    }
   ],
   "source": [
    "pd.unique(df_psych['source_language'])"
   ]
  },
  {
   "cell_type": "code",
   "execution_count": 24,
   "metadata": {},
   "outputs": [
    {
     "data": {
      "text/plain": [
       "array(['Horror', 'Sci-Fi', 'Action and Adventure', 'Kids', 'Animation',\n",
       "       'Romance', 'Documentary and Biography', 'Comedy', 'Thriller',\n",
       "       'Religion and Faith', 'Drama', 'Family', 'Others', 'Fantasy',\n",
       "       'Crime and Mystery', 'Adult Romance', 'Anime', 'Reality',\n",
       "       'Health and Fitness', 'Sports', 'Music', 'Lifestyle and Fashion',\n",
       "       'Education', 'Game Show', 'eSports', 'Extreme Sports',\n",
       "       'Best of Web or Viral', 'News', 'Live Events and Specials'],\n",
       "      dtype=object)"
      ]
     },
     "execution_count": 24,
     "metadata": {},
     "output_type": "execute_result"
    }
   ],
   "source": [
    "pd.unique(df_psych['genre'])"
   ]
  },
  {
   "cell_type": "code",
   "execution_count": 25,
   "metadata": {},
   "outputs": [
    {
     "data": {
      "text/plain": [
       "array(['android', 'iOS', 'web', 'android-tv', 'webOS', 'web-pwa',\n",
       "       'Samsung Tizen', 'Samsung Orsay', 'Roku', 'web-embed', 'Vewd',\n",
       "       'googlecast', 'Panasonic'], dtype=object)"
      ]
     },
     "execution_count": 25,
     "metadata": {},
     "output_type": "execute_result"
    }
   ],
   "source": [
    "pd.unique(df_psych['platform_x'])"
   ]
  },
  {
   "cell_type": "markdown",
   "metadata": {},
   "source": [
    "Simply the platform column"
   ]
  },
  {
   "cell_type": "code",
   "execution_count": 26,
   "metadata": {},
   "outputs": [],
   "source": [
    "# Combine platforms into a more generalized group\n",
    "\n",
    "def platform_type (row):\n",
    "    if row['platform_x'] in ('android','iOS'):\n",
    "        return 'mobile_phone'\n",
    "    if row['platform_x'] in ('web-embed', 'webOS', 'web', 'web-pwa'):\n",
    "        return 'web_based'\n",
    "    if row['platform_x'] in ('android-tv', 'Panasonic', 'Roku', 'Samsung Tizen', 'googlecast', 'Vewd', 'Samsung Orsay'):\n",
    "        return 'home_tv'\n",
    "    return row['platform_x']"
   ]
  },
  {
   "cell_type": "code",
   "execution_count": 27,
   "metadata": {},
   "outputs": [],
   "source": [
    "df_psych['platform_type'] = df_psych.apply(lambda row: platform_type(row), axis=1)"
   ]
  },
  {
   "cell_type": "markdown",
   "metadata": {},
   "source": [
    "## Remove features that don't contribute to training models"
   ]
  },
  {
   "cell_type": "code",
   "execution_count": 28,
   "metadata": {},
   "outputs": [
    {
     "data": {
      "text/html": [
       "<div>\n",
       "<style scoped>\n",
       "    .dataframe tbody tr th:only-of-type {\n",
       "        vertical-align: middle;\n",
       "    }\n",
       "\n",
       "    .dataframe tbody tr th {\n",
       "        vertical-align: top;\n",
       "    }\n",
       "\n",
       "    .dataframe thead th {\n",
       "        text-align: right;\n",
       "    }\n",
       "</style>\n",
       "<table border=\"1\" class=\"dataframe\">\n",
       "  <thead>\n",
       "    <tr style=\"text-align: right;\">\n",
       "      <th></th>\n",
       "      <th>level_2</th>\n",
       "      <th>confidence_score</th>\n",
       "      <th>country_code</th>\n",
       "      <th>minutes_viewed</th>\n",
       "      <th>showtype</th>\n",
       "      <th>genre</th>\n",
       "      <th>running_minutes</th>\n",
       "      <th>source_language</th>\n",
       "      <th>platform_type</th>\n",
       "    </tr>\n",
       "  </thead>\n",
       "  <tbody>\n",
       "    <tr>\n",
       "      <th>0</th>\n",
       "      <td>Movies Lovers</td>\n",
       "      <td>0.07</td>\n",
       "      <td>PH</td>\n",
       "      <td>1</td>\n",
       "      <td>Movies</td>\n",
       "      <td>Horror</td>\n",
       "      <td>81</td>\n",
       "      <td>Indonesian</td>\n",
       "      <td>mobile_phone</td>\n",
       "    </tr>\n",
       "    <tr>\n",
       "      <th>1</th>\n",
       "      <td>Movies Lovers</td>\n",
       "      <td>0.97</td>\n",
       "      <td>PH</td>\n",
       "      <td>1</td>\n",
       "      <td>Movies</td>\n",
       "      <td>Horror</td>\n",
       "      <td>81</td>\n",
       "      <td>Indonesian</td>\n",
       "      <td>mobile_phone</td>\n",
       "    </tr>\n",
       "    <tr>\n",
       "      <th>2</th>\n",
       "      <td>Movies Lovers</td>\n",
       "      <td>0.54</td>\n",
       "      <td>PH</td>\n",
       "      <td>1</td>\n",
       "      <td>Movies</td>\n",
       "      <td>Horror</td>\n",
       "      <td>81</td>\n",
       "      <td>Indonesian</td>\n",
       "      <td>mobile_phone</td>\n",
       "    </tr>\n",
       "    <tr>\n",
       "      <th>3</th>\n",
       "      <td>Music Lovers</td>\n",
       "      <td>0.39</td>\n",
       "      <td>PH</td>\n",
       "      <td>1</td>\n",
       "      <td>Movies</td>\n",
       "      <td>Horror</td>\n",
       "      <td>81</td>\n",
       "      <td>Indonesian</td>\n",
       "      <td>mobile_phone</td>\n",
       "    </tr>\n",
       "    <tr>\n",
       "      <th>4</th>\n",
       "      <td>TV Lovers</td>\n",
       "      <td>0.78</td>\n",
       "      <td>PH</td>\n",
       "      <td>1</td>\n",
       "      <td>Movies</td>\n",
       "      <td>Horror</td>\n",
       "      <td>81</td>\n",
       "      <td>Indonesian</td>\n",
       "      <td>mobile_phone</td>\n",
       "    </tr>\n",
       "  </tbody>\n",
       "</table>\n",
       "</div>"
      ],
      "text/plain": [
       "         level_2  confidence_score country_code  minutes_viewed showtype  \\\n",
       "0  Movies Lovers              0.07           PH               1   Movies   \n",
       "1  Movies Lovers              0.97           PH               1   Movies   \n",
       "2  Movies Lovers              0.54           PH               1   Movies   \n",
       "3   Music Lovers              0.39           PH               1   Movies   \n",
       "4      TV Lovers              0.78           PH               1   Movies   \n",
       "\n",
       "    genre  running_minutes source_language platform_type  \n",
       "0  Horror               81      Indonesian  mobile_phone  \n",
       "1  Horror               81      Indonesian  mobile_phone  \n",
       "2  Horror               81      Indonesian  mobile_phone  \n",
       "3  Horror               81      Indonesian  mobile_phone  \n",
       "4  Horror               81      Indonesian  mobile_phone  "
      ]
     },
     "execution_count": 28,
     "metadata": {},
     "output_type": "execute_result"
    }
   ],
   "source": [
    "df_psych = df_psych.drop(['user_id','level_1','level_3','asset_id','studio_id','minutes_under_2','platform_x','platform_y'],axis = 1)\n",
    "df_psych.head()"
   ]
  },
  {
   "cell_type": "markdown",
   "metadata": {},
   "source": [
    "## Check Correlations between all independent variables"
   ]
  },
  {
   "cell_type": "code",
   "execution_count": 29,
   "metadata": {},
   "outputs": [],
   "source": [
    "df = df_psych.drop(['level_2','confidence_score'],axis = 1)"
   ]
  },
  {
   "cell_type": "code",
   "execution_count": 30,
   "metadata": {},
   "outputs": [
    {
     "data": {
      "image/png": "[encoded data removed]",
      "text/plain": [
       "<Figure size 1008x864 with 2 Axes>"
      ]
     },
     "metadata": {
      "needs_background": "light"
     },
     "output_type": "display_data"
    }
   ],
   "source": [
    "from sklearn.preprocessing import LabelEncoder\n",
    "import seaborn as sns\n",
    "\n",
    "labelencoder=LabelEncoder()\n",
    "for column in df.columns:\n",
    "    df[column] = labelencoder.fit_transform(df[column])\n",
    "    \n",
    "    \n",
    "plt.figure(figsize=(14,12))\n",
    "sns.heatmap(df.corr(),linewidths=.1,cmap=\"YlGnBu\", annot=True)\n",
    "plt.yticks(rotation=0);"
   ]
  },
  {
   "cell_type": "markdown",
   "metadata": {},
   "source": [
    "Removing running_minutes from the dataframe due to high correlation with showtype, which we can recall from this:"
   ]
  },
  {
   "cell_type": "code",
   "execution_count": 31,
   "metadata": {},
   "outputs": [
    {
     "name": "stdout",
     "output_type": "stream",
     "text": [
      "/opt/conda/lib/python3.7/site-packages/secretstorage/dhcrypto.py:16: CryptographyDeprecationWarning: int_from_bytes is deprecated, use int.from_bytes instead\n",
      "  from cryptography.utils import int_from_bytes\n",
      "/opt/conda/lib/python3.7/site-packages/secretstorage/util.py:25: CryptographyDeprecationWarning: int_from_bytes is deprecated, use int.from_bytes instead\n",
      "  from cryptography.utils import int_from_bytes\n",
      "Requirement already satisfied: seaborn in /opt/conda/lib/python3.7/site-packages (0.10.0)\n",
      "Collecting seaborn\n",
      "  Using cached seaborn-0.11.2-py3-none-any.whl (292 kB)\n",
      "Requirement already satisfied: matplotlib>=2.2 in /opt/conda/lib/python3.7/site-packages (from seaborn) (3.1.3)\n",
      "Requirement already satisfied: numpy>=1.15 in /opt/conda/lib/python3.7/site-packages (from seaborn) (1.20.3)\n",
      "Requirement already satisfied: pandas>=0.23 in /opt/conda/lib/python3.7/site-packages (from seaborn) (1.0.1)\n",
      "Requirement already satisfied: scipy>=1.0 in /opt/conda/lib/python3.7/site-packages (from seaborn) (1.4.1)\n",
      "Requirement already satisfied: pyparsing!=2.0.4,!=2.1.2,!=2.1.6,>=2.0.1 in /opt/conda/lib/python3.7/site-packages (from matplotlib>=2.2->seaborn) (2.4.6)\n",
      "Requirement already satisfied: python-dateutil>=2.1 in /opt/conda/lib/python3.7/site-packages (from matplotlib>=2.2->seaborn) (2.8.1)\n",
      "Requirement already satisfied: kiwisolver>=1.0.1 in /opt/conda/lib/python3.7/site-packages (from matplotlib>=2.2->seaborn) (1.1.0)\n",
      "Requirement already satisfied: cycler>=0.10 in /opt/conda/lib/python3.7/site-packages (from matplotlib>=2.2->seaborn) (0.10.0)\n",
      "Requirement already satisfied: pytz>=2017.2 in /opt/conda/lib/python3.7/site-packages (from pandas>=0.23->seaborn) (2019.3)\n",
      "Requirement already satisfied: six in /opt/conda/lib/python3.7/site-packages (from cycler>=0.10->matplotlib>=2.2->seaborn) (1.14.0)\n",
      "Requirement already satisfied: setuptools in /opt/conda/lib/python3.7/site-packages (from kiwisolver>=1.0.1->matplotlib>=2.2->seaborn) (59.5.0)\n",
      "Installing collected packages: seaborn\n",
      "  Attempting uninstall: seaborn\n",
      "    Found existing installation: seaborn 0.10.0\n",
      "    Uninstalling seaborn-0.10.0:\n",
      "      Successfully uninstalled seaborn-0.10.0\n",
      "Successfully installed seaborn-0.11.2\n",
      "\u001b[33mWARNING: Running pip as the 'root' user can result in broken permissions and conflicting behaviour with the system package manager. It is recommended to use a virtual environment instead: https://pip.pypa.io/warnings/venv\u001b[0m\n",
      "\u001b[33mWARNING: You are using pip version 21.3.1; however, version 22.0.4 is available.\n",
      "You should consider upgrading via the '/opt/conda/bin/python -m pip install --upgrade pip' command.\u001b[0m\n"
     ]
    },
    {
     "ename": "AttributeError",
     "evalue": "module 'seaborn' has no attribute 'histplot'",
     "output_type": "error",
     "traceback": [
      "\u001b[0;31m---------------------------------------------------------------------------\u001b[0m",
      "\u001b[0;31mAttributeError\u001b[0m                            Traceback (most recent call last)",
      "\u001b[0;32m<ipython-input-31-75b76c1a68bd>\u001b[0m in \u001b[0;36m<module>\u001b[0;34m\u001b[0m\n\u001b[1;32m      1\u001b[0m \u001b[0mget_ipython\u001b[0m\u001b[0;34m(\u001b[0m\u001b[0;34m)\u001b[0m\u001b[0;34m.\u001b[0m\u001b[0msystem\u001b[0m\u001b[0;34m(\u001b[0m\u001b[0;34m'pip install -U seaborn'\u001b[0m\u001b[0;34m)\u001b[0m\u001b[0;34m\u001b[0m\u001b[0;34m\u001b[0m\u001b[0m\n\u001b[0;32m----> 2\u001b[0;31m \u001b[0msns\u001b[0m\u001b[0;34m.\u001b[0m\u001b[0mhistplot\u001b[0m\u001b[0;34m(\u001b[0m\u001b[0mdata\u001b[0m\u001b[0;34m=\u001b[0m\u001b[0mdf_psych\u001b[0m\u001b[0;34m,\u001b[0m\u001b[0mx\u001b[0m\u001b[0;34m=\u001b[0m\u001b[0;34m'running_minutes'\u001b[0m\u001b[0;34m,\u001b[0m \u001b[0mhue\u001b[0m \u001b[0;34m=\u001b[0m \u001b[0;34m'showtype'\u001b[0m\u001b[0;34m,\u001b[0m \u001b[0mbins\u001b[0m \u001b[0;34m=\u001b[0m \u001b[0;36m30\u001b[0m\u001b[0;34m)\u001b[0m\u001b[0;34m\u001b[0m\u001b[0;34m\u001b[0m\u001b[0m\n\u001b[0m",
      "\u001b[0;31mAttributeError\u001b[0m: module 'seaborn' has no attribute 'histplot'"
     ]
    }
   ],
   "source": [
    "!pip install -U seaborn\n",
    "sns.histplot(data=df_psych,x='running_minutes', hue = 'showtype', bins = 30)"
   ]
  },
  {
   "cell_type": "markdown",
   "metadata": {},
   "source": [
    "running_minutes is almost directly related to the showtype."
   ]
  },
  {
   "cell_type": "code",
   "execution_count": 32,
   "metadata": {},
   "outputs": [
    {
     "data": {
      "text/html": [
       "<div>\n",
       "<style scoped>\n",
       "    .dataframe tbody tr th:only-of-type {\n",
       "        vertical-align: middle;\n",
       "    }\n",
       "\n",
       "    .dataframe tbody tr th {\n",
       "        vertical-align: top;\n",
       "    }\n",
       "\n",
       "    .dataframe thead th {\n",
       "        text-align: right;\n",
       "    }\n",
       "</style>\n",
       "<table border=\"1\" class=\"dataframe\">\n",
       "  <thead>\n",
       "    <tr style=\"text-align: right;\">\n",
       "      <th></th>\n",
       "      <th>level_2</th>\n",
       "      <th>confidence_score</th>\n",
       "      <th>country_code</th>\n",
       "      <th>minutes_viewed</th>\n",
       "      <th>showtype</th>\n",
       "      <th>genre</th>\n",
       "      <th>source_language</th>\n",
       "      <th>platform_type</th>\n",
       "    </tr>\n",
       "  </thead>\n",
       "  <tbody>\n",
       "    <tr>\n",
       "      <th>0</th>\n",
       "      <td>Movies Lovers</td>\n",
       "      <td>0.07</td>\n",
       "      <td>PH</td>\n",
       "      <td>1</td>\n",
       "      <td>Movies</td>\n",
       "      <td>Horror</td>\n",
       "      <td>Indonesian</td>\n",
       "      <td>mobile_phone</td>\n",
       "    </tr>\n",
       "    <tr>\n",
       "      <th>1</th>\n",
       "      <td>Movies Lovers</td>\n",
       "      <td>0.97</td>\n",
       "      <td>PH</td>\n",
       "      <td>1</td>\n",
       "      <td>Movies</td>\n",
       "      <td>Horror</td>\n",
       "      <td>Indonesian</td>\n",
       "      <td>mobile_phone</td>\n",
       "    </tr>\n",
       "    <tr>\n",
       "      <th>2</th>\n",
       "      <td>Movies Lovers</td>\n",
       "      <td>0.54</td>\n",
       "      <td>PH</td>\n",
       "      <td>1</td>\n",
       "      <td>Movies</td>\n",
       "      <td>Horror</td>\n",
       "      <td>Indonesian</td>\n",
       "      <td>mobile_phone</td>\n",
       "    </tr>\n",
       "    <tr>\n",
       "      <th>3</th>\n",
       "      <td>Music Lovers</td>\n",
       "      <td>0.39</td>\n",
       "      <td>PH</td>\n",
       "      <td>1</td>\n",
       "      <td>Movies</td>\n",
       "      <td>Horror</td>\n",
       "      <td>Indonesian</td>\n",
       "      <td>mobile_phone</td>\n",
       "    </tr>\n",
       "    <tr>\n",
       "      <th>4</th>\n",
       "      <td>TV Lovers</td>\n",
       "      <td>0.78</td>\n",
       "      <td>PH</td>\n",
       "      <td>1</td>\n",
       "      <td>Movies</td>\n",
       "      <td>Horror</td>\n",
       "      <td>Indonesian</td>\n",
       "      <td>mobile_phone</td>\n",
       "    </tr>\n",
       "  </tbody>\n",
       "</table>\n",
       "</div>"
      ],
      "text/plain": [
       "         level_2  confidence_score country_code  minutes_viewed showtype  \\\n",
       "0  Movies Lovers              0.07           PH               1   Movies   \n",
       "1  Movies Lovers              0.97           PH               1   Movies   \n",
       "2  Movies Lovers              0.54           PH               1   Movies   \n",
       "3   Music Lovers              0.39           PH               1   Movies   \n",
       "4      TV Lovers              0.78           PH               1   Movies   \n",
       "\n",
       "    genre source_language platform_type  \n",
       "0  Horror      Indonesian  mobile_phone  \n",
       "1  Horror      Indonesian  mobile_phone  \n",
       "2  Horror      Indonesian  mobile_phone  \n",
       "3  Horror      Indonesian  mobile_phone  \n",
       "4  Horror      Indonesian  mobile_phone  "
      ]
     },
     "execution_count": 32,
     "metadata": {},
     "output_type": "execute_result"
    }
   ],
   "source": [
    "df_psych = df_psych.drop(['running_minutes'],axis = 1)\n",
    "df_psych.head()"
   ]
  },
  {
   "cell_type": "markdown",
   "metadata": {},
   "source": [
    "Before balancing the data, we need to look at the confidence score from the original dataset:"
   ]
  },
  {
   "cell_type": "code",
   "execution_count": 33,
   "metadata": {},
   "outputs": [
    {
     "data": {
      "text/plain": [
       "count    279458.000000\n",
       "mean          0.597657\n",
       "std           0.311564\n",
       "min           0.000000\n",
       "25%           0.300000\n",
       "50%           0.650000\n",
       "75%           0.890000\n",
       "max           1.000000\n",
       "Name: confidence_score, dtype: float64"
      ]
     },
     "execution_count": 33,
     "metadata": {},
     "output_type": "execute_result"
    }
   ],
   "source": [
    "df_psych['confidence_score'].describe()"
   ]
  },
  {
   "cell_type": "code",
   "execution_count": 34,
   "metadata": {},
   "outputs": [
    {
     "name": "stdout",
     "output_type": "stream",
     "text": [
      "50th percentile:  0.65\n",
      "60th percentile:  0.76\n",
      "70th percentile:  0.86\n",
      "80th percentile:  0.92\n",
      "90th percentile:  0.98\n",
      "95th percentile:  1.0\n"
     ]
    }
   ],
   "source": [
    "print('50th percentile: ', df_psych['confidence_score'].quantile(.5))\n",
    "print('60th percentile: ', df_psych['confidence_score'].quantile(.6))\n",
    "print('70th percentile: ', df_psych['confidence_score'].quantile(.7))\n",
    "print('80th percentile: ', df_psych['confidence_score'].quantile(.8))\n",
    "print('90th percentile: ', df_psych['confidence_score'].quantile(.9))\n",
    "print('95th percentile: ', df_psych['confidence_score'].quantile(.95))"
   ]
  },
  {
   "cell_type": "markdown",
   "metadata": {},
   "source": [
    "We want to ensure data quality and pick our record within 70th percentile"
   ]
  },
  {
   "cell_type": "code",
   "execution_count": 35,
   "metadata": {},
   "outputs": [
    {
     "data": {
      "text/plain": [
       "count    80385.000000\n",
       "mean         0.949884\n",
       "std          0.043058\n",
       "min          0.870000\n",
       "25%          0.910000\n",
       "50%          0.960000\n",
       "75%          0.990000\n",
       "max          1.000000\n",
       "Name: confidence_score, dtype: float64"
      ]
     },
     "execution_count": 35,
     "metadata": {},
     "output_type": "execute_result"
    }
   ],
   "source": [
    "df_psych = df_psych.loc[df_psych['confidence_score'] > .86]\n",
    "df_psych['confidence_score'].describe()"
   ]
  },
  {
   "cell_type": "markdown",
   "metadata": {},
   "source": [
    "Remove confidence_score from the dataset"
   ]
  },
  {
   "cell_type": "code",
   "execution_count": 36,
   "metadata": {},
   "outputs": [],
   "source": [
    "df_psych = df_psych.drop(['confidence_score'], axis = 1)"
   ]
  },
  {
   "cell_type": "markdown",
   "metadata": {},
   "source": [
    "## Encoding for numeric values"
   ]
  },
  {
   "cell_type": "markdown",
   "metadata": {},
   "source": [
    "In order to fit for XGBoost models, we need to encode numerica values into our dataset"
   ]
  },
  {
   "cell_type": "code",
   "execution_count": 37,
   "metadata": {},
   "outputs": [
    {
     "data": {
      "text/plain": [
       "level_2            object\n",
       "country_code       object\n",
       "minutes_viewed      int64\n",
       "showtype           object\n",
       "genre              object\n",
       "source_language    object\n",
       "platform_type      object\n",
       "dtype: object"
      ]
     },
     "execution_count": 37,
     "metadata": {},
     "output_type": "execute_result"
    }
   ],
   "source": [
    "df_psych.dtypes"
   ]
  },
  {
   "cell_type": "code",
   "execution_count": 38,
   "metadata": {},
   "outputs": [
    {
     "data": {
      "text/html": [
       "<div>\n",
       "<style scoped>\n",
       "    .dataframe tbody tr th:only-of-type {\n",
       "        vertical-align: middle;\n",
       "    }\n",
       "\n",
       "    .dataframe tbody tr th {\n",
       "        vertical-align: top;\n",
       "    }\n",
       "\n",
       "    .dataframe thead th {\n",
       "        text-align: right;\n",
       "    }\n",
       "</style>\n",
       "<table border=\"1\" class=\"dataframe\">\n",
       "  <thead>\n",
       "    <tr style=\"text-align: right;\">\n",
       "      <th></th>\n",
       "      <th>level_2</th>\n",
       "      <th>minutes_viewed</th>\n",
       "      <th>showtype_TV</th>\n",
       "      <th>genre_Adult Romance</th>\n",
       "      <th>genre_Animation</th>\n",
       "      <th>genre_Anime</th>\n",
       "      <th>genre_Comedy</th>\n",
       "      <th>genre_Crime and Mystery</th>\n",
       "      <th>genre_Documentary and Biography</th>\n",
       "      <th>genre_Drama</th>\n",
       "      <th>...</th>\n",
       "      <th>source_language_Swahili</th>\n",
       "      <th>source_language_Tagalog</th>\n",
       "      <th>source_language_Tajik</th>\n",
       "      <th>source_language_Tamil</th>\n",
       "      <th>source_language_Thai</th>\n",
       "      <th>source_language_Turkish</th>\n",
       "      <th>source_language_Urdu</th>\n",
       "      <th>source_language_Vietnamese</th>\n",
       "      <th>platform_type_mobile_phone</th>\n",
       "      <th>platform_type_web_based</th>\n",
       "    </tr>\n",
       "  </thead>\n",
       "  <tbody>\n",
       "    <tr>\n",
       "      <th>1</th>\n",
       "      <td>1</td>\n",
       "      <td>1</td>\n",
       "      <td>0</td>\n",
       "      <td>0</td>\n",
       "      <td>0</td>\n",
       "      <td>0</td>\n",
       "      <td>0</td>\n",
       "      <td>0</td>\n",
       "      <td>0</td>\n",
       "      <td>0</td>\n",
       "      <td>...</td>\n",
       "      <td>0</td>\n",
       "      <td>0</td>\n",
       "      <td>0</td>\n",
       "      <td>0</td>\n",
       "      <td>0</td>\n",
       "      <td>0</td>\n",
       "      <td>0</td>\n",
       "      <td>0</td>\n",
       "      <td>1</td>\n",
       "      <td>0</td>\n",
       "    </tr>\n",
       "    <tr>\n",
       "      <th>10</th>\n",
       "      <td>1</td>\n",
       "      <td>1</td>\n",
       "      <td>0</td>\n",
       "      <td>0</td>\n",
       "      <td>0</td>\n",
       "      <td>0</td>\n",
       "      <td>0</td>\n",
       "      <td>0</td>\n",
       "      <td>0</td>\n",
       "      <td>0</td>\n",
       "      <td>...</td>\n",
       "      <td>0</td>\n",
       "      <td>0</td>\n",
       "      <td>0</td>\n",
       "      <td>0</td>\n",
       "      <td>0</td>\n",
       "      <td>0</td>\n",
       "      <td>0</td>\n",
       "      <td>0</td>\n",
       "      <td>1</td>\n",
       "      <td>0</td>\n",
       "    </tr>\n",
       "    <tr>\n",
       "      <th>12</th>\n",
       "      <td>1</td>\n",
       "      <td>1</td>\n",
       "      <td>0</td>\n",
       "      <td>0</td>\n",
       "      <td>0</td>\n",
       "      <td>0</td>\n",
       "      <td>0</td>\n",
       "      <td>0</td>\n",
       "      <td>0</td>\n",
       "      <td>0</td>\n",
       "      <td>...</td>\n",
       "      <td>0</td>\n",
       "      <td>0</td>\n",
       "      <td>0</td>\n",
       "      <td>0</td>\n",
       "      <td>0</td>\n",
       "      <td>0</td>\n",
       "      <td>0</td>\n",
       "      <td>0</td>\n",
       "      <td>1</td>\n",
       "      <td>0</td>\n",
       "    </tr>\n",
       "    <tr>\n",
       "      <th>13</th>\n",
       "      <td>1</td>\n",
       "      <td>1</td>\n",
       "      <td>0</td>\n",
       "      <td>0</td>\n",
       "      <td>0</td>\n",
       "      <td>0</td>\n",
       "      <td>0</td>\n",
       "      <td>0</td>\n",
       "      <td>0</td>\n",
       "      <td>0</td>\n",
       "      <td>...</td>\n",
       "      <td>0</td>\n",
       "      <td>0</td>\n",
       "      <td>0</td>\n",
       "      <td>0</td>\n",
       "      <td>0</td>\n",
       "      <td>0</td>\n",
       "      <td>0</td>\n",
       "      <td>0</td>\n",
       "      <td>1</td>\n",
       "      <td>0</td>\n",
       "    </tr>\n",
       "    <tr>\n",
       "      <th>14</th>\n",
       "      <td>6</td>\n",
       "      <td>1</td>\n",
       "      <td>0</td>\n",
       "      <td>0</td>\n",
       "      <td>0</td>\n",
       "      <td>0</td>\n",
       "      <td>0</td>\n",
       "      <td>0</td>\n",
       "      <td>0</td>\n",
       "      <td>0</td>\n",
       "      <td>...</td>\n",
       "      <td>0</td>\n",
       "      <td>0</td>\n",
       "      <td>0</td>\n",
       "      <td>0</td>\n",
       "      <td>0</td>\n",
       "      <td>0</td>\n",
       "      <td>0</td>\n",
       "      <td>0</td>\n",
       "      <td>1</td>\n",
       "      <td>0</td>\n",
       "    </tr>\n",
       "  </tbody>\n",
       "</table>\n",
       "<p>5 rows × 77 columns</p>\n",
       "</div>"
      ],
      "text/plain": [
       "    level_2  minutes_viewed  showtype_TV  genre_Adult Romance  \\\n",
       "1         1               1            0                    0   \n",
       "10        1               1            0                    0   \n",
       "12        1               1            0                    0   \n",
       "13        1               1            0                    0   \n",
       "14        6               1            0                    0   \n",
       "\n",
       "    genre_Animation  genre_Anime  genre_Comedy  genre_Crime and Mystery  \\\n",
       "1                 0            0             0                        0   \n",
       "10                0            0             0                        0   \n",
       "12                0            0             0                        0   \n",
       "13                0            0             0                        0   \n",
       "14                0            0             0                        0   \n",
       "\n",
       "    genre_Documentary and Biography  genre_Drama  ...  \\\n",
       "1                                 0            0  ...   \n",
       "10                                0            0  ...   \n",
       "12                                0            0  ...   \n",
       "13                                0            0  ...   \n",
       "14                                0            0  ...   \n",
       "\n",
       "    source_language_Swahili  source_language_Tagalog  source_language_Tajik  \\\n",
       "1                         0                        0                      0   \n",
       "10                        0                        0                      0   \n",
       "12                        0                        0                      0   \n",
       "13                        0                        0                      0   \n",
       "14                        0                        0                      0   \n",
       "\n",
       "    source_language_Tamil  source_language_Thai  source_language_Turkish  \\\n",
       "1                       0                     0                        0   \n",
       "10                      0                     0                        0   \n",
       "12                      0                     0                        0   \n",
       "13                      0                     0                        0   \n",
       "14                      0                     0                        0   \n",
       "\n",
       "    source_language_Urdu  source_language_Vietnamese  \\\n",
       "1                      0                           0   \n",
       "10                     0                           0   \n",
       "12                     0                           0   \n",
       "13                     0                           0   \n",
       "14                     0                           0   \n",
       "\n",
       "    platform_type_mobile_phone  platform_type_web_based  \n",
       "1                            1                        0  \n",
       "10                           1                        0  \n",
       "12                           1                        0  \n",
       "13                           1                        0  \n",
       "14                           1                        0  \n",
       "\n",
       "[5 rows x 77 columns]"
      ]
     },
     "execution_count": 38,
     "metadata": {},
     "output_type": "execute_result"
    }
   ],
   "source": [
    "# Encoding showtype\n",
    "\n",
    "df_psych = pd.get_dummies(df_psych,prefix=['showtype'], columns = ['showtype'], drop_first=True)\n",
    "\n",
    "df_psych.head()\n",
    "\n",
    "# Encoding genre\n",
    "df_psych = pd.get_dummies(df_psych,prefix=['genre'], columns = ['genre'], drop_first=True)\n",
    "df_psych.head()\n",
    "\n",
    "# Encoding country_code\n",
    "df_psych = pd.get_dummies(df_psych,prefix=['country_code'], columns = ['country_code'], drop_first=True)\n",
    "df_psych.head()\n",
    "\n",
    "# Encoding source language\n",
    "df_psych = pd.get_dummies(df_psych,prefix=['source_language'], columns = ['source_language'], drop_first=True)\n",
    "df_psych.head()\n",
    "\n",
    "# Encoding platform_type\n",
    "df_psych = pd.get_dummies(df_psych,prefix=['platform_type'], columns = ['platform_type'], drop_first=True)\n",
    "df_psych.head()\n",
    "\n",
    "# Encoding for the target variable level_2\n",
    "from sklearn.preprocessing import LabelEncoder\n",
    "label_encoder = LabelEncoder()\n",
    "df_psych['level_2'] = label_encoder.fit_transform(df_psych['level_2'])\n",
    "df_psych.head()"
   ]
  },
  {
   "cell_type": "markdown",
   "metadata": {},
   "source": [
    "level_2 values:<br>\n",
    "\n",
    "'Mobile Enthusiasts' = 1<br>\n",
    "'Movies Lovers' = 2<br>\n",
    "'Music Lovers' = 3<br>\n",
    "'News Junkies & Avid Readers' = 4<br>\n",
    "'Social Media Fans'= 5<br>\n",
    "'Sports Fans'= 6<br>\n",
    "'Travellers' = 7<br>\n",
    "'TV Lovers' =8<br>"
   ]
  },
  {
   "cell_type": "markdown",
   "metadata": {},
   "source": [
    "# Balance The Data"
   ]
  },
  {
   "cell_type": "code",
   "execution_count": 39,
   "metadata": {},
   "outputs": [
    {
     "data": {
      "text/plain": [
       "<matplotlib.axes._subplots.AxesSubplot at 0x7f6d81c82210>"
      ]
     },
     "execution_count": 39,
     "metadata": {},
     "output_type": "execute_result"
    },
    {
     "data": {
      "image/png": "[encoded data removed]",
      "text/plain": [
       "<Figure size 1080x576 with 1 Axes>"
      ]
     },
     "metadata": {},
     "output_type": "display_data"
    }
   ],
   "source": [
    "sns.set(rc={'figure.figsize':(15,8)})\n",
    "\n",
    "sns.countplot(data=df_psych, x='level_2')"
   ]
  },
  {
   "cell_type": "markdown",
   "metadata": {},
   "source": [
    "We can see that the target variable (level_3 trait_ has a strong right skewness and we want to balance the dataset"
   ]
  },
  {
   "cell_type": "code",
   "execution_count": 40,
   "metadata": {},
   "outputs": [
    {
     "data": {
      "text/plain": [
       "1    34345\n",
       "6    27306\n",
       "0    13712\n",
       "4     3000\n",
       "7      992\n",
       "2      714\n",
       "5      163\n",
       "3      153\n",
       "Name: level_2, dtype: int64"
      ]
     },
     "execution_count": 40,
     "metadata": {},
     "output_type": "execute_result"
    }
   ],
   "source": [
    "pd.set_option(\"display.max_rows\", None)\n",
    "df_psych['level_2'].value_counts()"
   ]
  },
  {
   "cell_type": "code",
   "execution_count": 41,
   "metadata": {},
   "outputs": [],
   "source": [
    "df_grouped_by = df_psych.groupby([\"level_2\"])\n",
    "df_balanced = df_grouped_by.apply(\n",
    "lambda x: x.sample(df_grouped_by.size().max(),replace=True)\\\n",
    ".reset_index(drop=True)\n",
    ")"
   ]
  },
  {
   "cell_type": "code",
   "execution_count": 42,
   "metadata": {},
   "outputs": [
    {
     "data": {
      "text/plain": [
       "<matplotlib.axes._subplots.AxesSubplot at 0x7f6d90c31f50>"
      ]
     },
     "execution_count": 42,
     "metadata": {},
     "output_type": "execute_result"
    },
    {
     "data": {
      "image/png": "[encoded data removed]",
      "text/plain": [
       "<Figure size 1080x576 with 1 Axes>"
      ]
     },
     "metadata": {},
     "output_type": "display_data"
    }
   ],
   "source": [
    "sns.set(rc={'figure.figsize':(15,8)})\n",
    "\n",
    "sns.countplot(data=df_balanced, x='level_2')"
   ]
  },
  {
   "cell_type": "code",
   "execution_count": 43,
   "metadata": {},
   "outputs": [
    {
     "data": {
      "text/plain": [
       "7    34345\n",
       "6    34345\n",
       "5    34345\n",
       "4    34345\n",
       "3    34345\n",
       "2    34345\n",
       "1    34345\n",
       "0    34345\n",
       "Name: level_2, dtype: int64"
      ]
     },
     "execution_count": 43,
     "metadata": {},
     "output_type": "execute_result"
    }
   ],
   "source": [
    "df_balanced['level_2'].value_counts()"
   ]
  },
  {
   "cell_type": "code",
   "execution_count": 44,
   "metadata": {},
   "outputs": [
    {
     "data": {
      "text/html": [
       "<div>\n",
       "<style scoped>\n",
       "    .dataframe tbody tr th:only-of-type {\n",
       "        vertical-align: middle;\n",
       "    }\n",
       "\n",
       "    .dataframe tbody tr th {\n",
       "        vertical-align: top;\n",
       "    }\n",
       "\n",
       "    .dataframe thead th {\n",
       "        text-align: right;\n",
       "    }\n",
       "</style>\n",
       "<table border=\"1\" class=\"dataframe\">\n",
       "  <thead>\n",
       "    <tr style=\"text-align: right;\">\n",
       "      <th></th>\n",
       "      <th>level_2</th>\n",
       "      <th>minutes_viewed</th>\n",
       "      <th>showtype_TV</th>\n",
       "      <th>genre_Adult Romance</th>\n",
       "      <th>genre_Animation</th>\n",
       "      <th>genre_Anime</th>\n",
       "      <th>genre_Comedy</th>\n",
       "      <th>genre_Crime and Mystery</th>\n",
       "      <th>genre_Documentary and Biography</th>\n",
       "      <th>genre_Drama</th>\n",
       "      <th>...</th>\n",
       "      <th>source_language_Swahili</th>\n",
       "      <th>source_language_Tagalog</th>\n",
       "      <th>source_language_Tajik</th>\n",
       "      <th>source_language_Tamil</th>\n",
       "      <th>source_language_Thai</th>\n",
       "      <th>source_language_Turkish</th>\n",
       "      <th>source_language_Urdu</th>\n",
       "      <th>source_language_Vietnamese</th>\n",
       "      <th>platform_type_mobile_phone</th>\n",
       "      <th>platform_type_web_based</th>\n",
       "    </tr>\n",
       "  </thead>\n",
       "  <tbody>\n",
       "    <tr>\n",
       "      <th>1</th>\n",
       "      <td>1</td>\n",
       "      <td>1</td>\n",
       "      <td>0</td>\n",
       "      <td>0</td>\n",
       "      <td>0</td>\n",
       "      <td>0</td>\n",
       "      <td>0</td>\n",
       "      <td>0</td>\n",
       "      <td>0</td>\n",
       "      <td>0</td>\n",
       "      <td>...</td>\n",
       "      <td>0</td>\n",
       "      <td>0</td>\n",
       "      <td>0</td>\n",
       "      <td>0</td>\n",
       "      <td>0</td>\n",
       "      <td>0</td>\n",
       "      <td>0</td>\n",
       "      <td>0</td>\n",
       "      <td>1</td>\n",
       "      <td>0</td>\n",
       "    </tr>\n",
       "    <tr>\n",
       "      <th>10</th>\n",
       "      <td>1</td>\n",
       "      <td>1</td>\n",
       "      <td>0</td>\n",
       "      <td>0</td>\n",
       "      <td>0</td>\n",
       "      <td>0</td>\n",
       "      <td>0</td>\n",
       "      <td>0</td>\n",
       "      <td>0</td>\n",
       "      <td>0</td>\n",
       "      <td>...</td>\n",
       "      <td>0</td>\n",
       "      <td>0</td>\n",
       "      <td>0</td>\n",
       "      <td>0</td>\n",
       "      <td>0</td>\n",
       "      <td>0</td>\n",
       "      <td>0</td>\n",
       "      <td>0</td>\n",
       "      <td>1</td>\n",
       "      <td>0</td>\n",
       "    </tr>\n",
       "    <tr>\n",
       "      <th>12</th>\n",
       "      <td>1</td>\n",
       "      <td>1</td>\n",
       "      <td>0</td>\n",
       "      <td>0</td>\n",
       "      <td>0</td>\n",
       "      <td>0</td>\n",
       "      <td>0</td>\n",
       "      <td>0</td>\n",
       "      <td>0</td>\n",
       "      <td>0</td>\n",
       "      <td>...</td>\n",
       "      <td>0</td>\n",
       "      <td>0</td>\n",
       "      <td>0</td>\n",
       "      <td>0</td>\n",
       "      <td>0</td>\n",
       "      <td>0</td>\n",
       "      <td>0</td>\n",
       "      <td>0</td>\n",
       "      <td>1</td>\n",
       "      <td>0</td>\n",
       "    </tr>\n",
       "    <tr>\n",
       "      <th>13</th>\n",
       "      <td>1</td>\n",
       "      <td>1</td>\n",
       "      <td>0</td>\n",
       "      <td>0</td>\n",
       "      <td>0</td>\n",
       "      <td>0</td>\n",
       "      <td>0</td>\n",
       "      <td>0</td>\n",
       "      <td>0</td>\n",
       "      <td>0</td>\n",
       "      <td>...</td>\n",
       "      <td>0</td>\n",
       "      <td>0</td>\n",
       "      <td>0</td>\n",
       "      <td>0</td>\n",
       "      <td>0</td>\n",
       "      <td>0</td>\n",
       "      <td>0</td>\n",
       "      <td>0</td>\n",
       "      <td>1</td>\n",
       "      <td>0</td>\n",
       "    </tr>\n",
       "    <tr>\n",
       "      <th>14</th>\n",
       "      <td>6</td>\n",
       "      <td>1</td>\n",
       "      <td>0</td>\n",
       "      <td>0</td>\n",
       "      <td>0</td>\n",
       "      <td>0</td>\n",
       "      <td>0</td>\n",
       "      <td>0</td>\n",
       "      <td>0</td>\n",
       "      <td>0</td>\n",
       "      <td>...</td>\n",
       "      <td>0</td>\n",
       "      <td>0</td>\n",
       "      <td>0</td>\n",
       "      <td>0</td>\n",
       "      <td>0</td>\n",
       "      <td>0</td>\n",
       "      <td>0</td>\n",
       "      <td>0</td>\n",
       "      <td>1</td>\n",
       "      <td>0</td>\n",
       "    </tr>\n",
       "  </tbody>\n",
       "</table>\n",
       "<p>5 rows × 77 columns</p>\n",
       "</div>"
      ],
      "text/plain": [
       "    level_2  minutes_viewed  showtype_TV  genre_Adult Romance  \\\n",
       "1         1               1            0                    0   \n",
       "10        1               1            0                    0   \n",
       "12        1               1            0                    0   \n",
       "13        1               1            0                    0   \n",
       "14        6               1            0                    0   \n",
       "\n",
       "    genre_Animation  genre_Anime  genre_Comedy  genre_Crime and Mystery  \\\n",
       "1                 0            0             0                        0   \n",
       "10                0            0             0                        0   \n",
       "12                0            0             0                        0   \n",
       "13                0            0             0                        0   \n",
       "14                0            0             0                        0   \n",
       "\n",
       "    genre_Documentary and Biography  genre_Drama  ...  \\\n",
       "1                                 0            0  ...   \n",
       "10                                0            0  ...   \n",
       "12                                0            0  ...   \n",
       "13                                0            0  ...   \n",
       "14                                0            0  ...   \n",
       "\n",
       "    source_language_Swahili  source_language_Tagalog  source_language_Tajik  \\\n",
       "1                         0                        0                      0   \n",
       "10                        0                        0                      0   \n",
       "12                        0                        0                      0   \n",
       "13                        0                        0                      0   \n",
       "14                        0                        0                      0   \n",
       "\n",
       "    source_language_Tamil  source_language_Thai  source_language_Turkish  \\\n",
       "1                       0                     0                        0   \n",
       "10                      0                     0                        0   \n",
       "12                      0                     0                        0   \n",
       "13                      0                     0                        0   \n",
       "14                      0                     0                        0   \n",
       "\n",
       "    source_language_Urdu  source_language_Vietnamese  \\\n",
       "1                      0                           0   \n",
       "10                     0                           0   \n",
       "12                     0                           0   \n",
       "13                     0                           0   \n",
       "14                     0                           0   \n",
       "\n",
       "    platform_type_mobile_phone  platform_type_web_based  \n",
       "1                            1                        0  \n",
       "10                           1                        0  \n",
       "12                           1                        0  \n",
       "13                           1                        0  \n",
       "14                           1                        0  \n",
       "\n",
       "[5 rows x 77 columns]"
      ]
     },
     "execution_count": 44,
     "metadata": {},
     "output_type": "execute_result"
    }
   ],
   "source": [
    "# Removs headers\n",
    "\n",
    "df_psych = pd.DataFrame(df_psych)\n",
    "df_psych.to_csv('df_psych.csv', header=False, index=False)\n",
    "df_psych.head()"
   ]
  },
  {
   "cell_type": "markdown",
   "metadata": {},
   "source": [
    "# Split the data into train, validate and test"
   ]
  },
  {
   "cell_type": "code",
   "execution_count": 45,
   "metadata": {},
   "outputs": [],
   "source": [
    "# Split the data as: train - 70%, validate - 15%, test - 15%\n",
    "\n",
    "from sklearn.model_selection import train_test_split\n",
    "\n",
    "# Split all data into 70% train and 30% holdout\n",
    "df_train, df_holdout = train_test_split(df_balanced, test_size=0.30, stratify=df_balanced['level_2'])\n",
    "\n",
    "# Split holdout data into 50% validation and 50% test\n",
    "df_validation, df_test = train_test_split(df_holdout, test_size=0.50, stratify=df_holdout['level_2'])"
   ]
  },
  {
   "cell_type": "code",
   "execution_count": 46,
   "metadata": {},
   "outputs": [
    {
     "data": {
      "text/plain": [
       "(192332, 77)"
      ]
     },
     "execution_count": 46,
     "metadata": {},
     "output_type": "execute_result"
    }
   ],
   "source": [
    "df_train.shape"
   ]
  },
  {
   "cell_type": "code",
   "execution_count": 47,
   "metadata": {},
   "outputs": [
    {
     "data": {
      "text/plain": [
       "(41214, 77)"
      ]
     },
     "execution_count": 47,
     "metadata": {},
     "output_type": "execute_result"
    }
   ],
   "source": [
    "df_validation.shape"
   ]
  },
  {
   "cell_type": "code",
   "execution_count": 48,
   "metadata": {},
   "outputs": [
    {
     "data": {
      "text/plain": [
       "(41214, 77)"
      ]
     },
     "execution_count": 48,
     "metadata": {},
     "output_type": "execute_result"
    }
   ],
   "source": [
    "df_test.shape"
   ]
  },
  {
   "cell_type": "markdown",
   "metadata": {},
   "source": [
    "# Save these files to S3 bucket"
   ]
  },
  {
   "cell_type": "code",
   "execution_count": 49,
   "metadata": {},
   "outputs": [
    {
     "name": "stdout",
     "output_type": "stream",
     "text": [
      "make_bucket: ads508-team4-split\n"
     ]
    }
   ],
   "source": [
    "# Create a new s3 bucket\n",
    "!aws s3 mb s3://ads508-team4-split"
   ]
  },
  {
   "cell_type": "code",
   "execution_count": 84,
   "metadata": {},
   "outputs": [
    {
     "data": {
      "text/plain": [
       "{'ResponseMetadata': {'RequestId': 'AP8T1NEE08H716X7',\n",
       "  'HostId': 'OfrR/9kun1nB0K2kZWd3K7W3qH7mqZ3BsPRJPudgsADxTrgaZAbvBPdN80Q/HkQPOv5Oo8uLEoc=',\n",
       "  'HTTPStatusCode': 200,\n",
       "  'HTTPHeaders': {'x-amz-id-2': 'OfrR/9kun1nB0K2kZWd3K7W3qH7mqZ3BsPRJPudgsADxTrgaZAbvBPdN80Q/HkQPOv5Oo8uLEoc=',\n",
       "   'x-amz-request-id': 'AP8T1NEE08H716X7',\n",
       "   'date': 'Sat, 02 Apr 2022 23:00:48 GMT',\n",
       "   'x-amz-version-id': '8DL.GaetWsnXuWQgCbwLXeAP2yijzOg3',\n",
       "   'etag': '\"8f6f80b110aa3573a73f2c9229d318ff\"',\n",
       "   'server': 'AmazonS3',\n",
       "   'content-length': '0'},\n",
       "  'RetryAttempts': 0},\n",
       " 'ETag': '\"8f6f80b110aa3573a73f2c9229d318ff\"',\n",
       " 'VersionId': '8DL.GaetWsnXuWQgCbwLXeAP2yijzOg3'}"
      ]
     },
     "execution_count": 84,
     "metadata": {},
     "output_type": "execute_result"
    }
   ],
   "source": [
    "# Store these 3 files\n",
    "\n",
    "from io import StringIO\n",
    "\n",
    "bucket = 'ads508-team4-split'\n",
    "\n",
    "csv_buffer1 = StringIO()\n",
    "csv_buffer2 = StringIO()\n",
    "csv_buffer3 = StringIO()\n",
    "\n",
    "df_train.to_csv(csv_buffer1)\n",
    "df_validation.to_csv(csv_buffer2)\n",
    "df_test.to_csv(csv_buffer3)\n",
    "\n",
    "s3_resource = boto3.resource('s3')\n",
    "s3_resource.Object(bucket, 'df_train.csv').put(Body=csv_buffer1.getvalue())\n",
    "s3_resource.Object(bucket, 'df_validation.csv').put(Body=csv_buffer2.getvalue())\n",
    "s3_resource.Object(bucket, 'df_test.csv').put(Body=csv_buffer3.getvalue())"
   ]
  },
  {
   "cell_type": "code",
   "execution_count": 77,
   "metadata": {},
   "outputs": [],
   "source": [
    "cols_input = list(df_train.columns)"
   ]
  },
  {
   "cell_type": "code",
   "execution_count": 78,
   "metadata": {},
   "outputs": [],
   "source": [
    "cols_input.remove('level_2')\n"
   ]
  },
  {
   "cell_type": "code",
   "execution_count": 81,
   "metadata": {},
   "outputs": [
    {
     "data": {
      "text/plain": [
       "['minutes_viewed',\n",
       " 'showtype_TV',\n",
       " 'genre_Adult Romance',\n",
       " 'genre_Animation',\n",
       " 'genre_Anime',\n",
       " 'genre_Comedy',\n",
       " 'genre_Crime and Mystery',\n",
       " 'genre_Documentary and Biography',\n",
       " 'genre_Drama',\n",
       " 'genre_Education',\n",
       " 'genre_Extreme Sports',\n",
       " 'genre_Family',\n",
       " 'genre_Fantasy',\n",
       " 'genre_Game Show',\n",
       " 'genre_Health and Fitness',\n",
       " 'genre_Horror',\n",
       " 'genre_Kids',\n",
       " 'genre_Lifestyle and Fashion',\n",
       " 'genre_Live Events and Specials',\n",
       " 'genre_Music',\n",
       " 'genre_News',\n",
       " 'genre_Others',\n",
       " 'genre_Reality',\n",
       " 'genre_Religion and Faith',\n",
       " 'genre_Romance',\n",
       " 'genre_Sci-Fi',\n",
       " 'genre_Sports',\n",
       " 'genre_Thriller',\n",
       " 'genre_eSports',\n",
       " 'country_code_BN',\n",
       " 'country_code_EG',\n",
       " 'country_code_GH',\n",
       " 'country_code_ID',\n",
       " 'country_code_IQ',\n",
       " 'country_code_KE',\n",
       " 'country_code_KH',\n",
       " 'country_code_LB',\n",
       " 'country_code_LK',\n",
       " 'country_code_MM',\n",
       " 'country_code_MY',\n",
       " 'country_code_NP',\n",
       " 'country_code_PH',\n",
       " 'country_code_PK',\n",
       " 'country_code_SD',\n",
       " 'country_code_TH',\n",
       " 'country_code_VN',\n",
       " 'country_code_ZW',\n",
       " 'source_language_Bengali',\n",
       " 'source_language_Burmese',\n",
       " 'source_language_Central Khmer',\n",
       " 'source_language_Chinese',\n",
       " 'source_language_Danish',\n",
       " 'source_language_English',\n",
       " 'source_language_French',\n",
       " 'source_language_Hindi',\n",
       " 'source_language_Hungarian',\n",
       " 'source_language_Indonesian',\n",
       " 'source_language_Italian',\n",
       " 'source_language_Japanese',\n",
       " 'source_language_Kanuri',\n",
       " 'source_language_Korean',\n",
       " 'source_language_Malay',\n",
       " 'source_language_Nepali',\n",
       " 'source_language_Norwegian',\n",
       " 'source_language_Portuguese',\n",
       " 'source_language_Spanish; Castilian',\n",
       " 'source_language_Swahili',\n",
       " 'source_language_Tagalog',\n",
       " 'source_language_Tajik',\n",
       " 'source_language_Tamil',\n",
       " 'source_language_Thai',\n",
       " 'source_language_Turkish',\n",
       " 'source_language_Urdu',\n",
       " 'source_language_Vietnamese',\n",
       " 'platform_type_mobile_phone',\n",
       " 'platform_type_web_based']"
      ]
     },
     "execution_count": 81,
     "metadata": {},
     "output_type": "execute_result"
    }
   ],
   "source": [
    "cols_input"
   ]
  },
  {
   "cell_type": "code",
   "execution_count": 83,
   "metadata": {},
   "outputs": [
    {
     "data": {
      "text/plain": [
       "Index(['level_2', 'minutes_viewed', 'showtype_TV', 'genre_Adult Romance',\n",
       "       'genre_Animation', 'genre_Anime', 'genre_Comedy',\n",
       "       'genre_Crime and Mystery', 'genre_Documentary and Biography',\n",
       "       'genre_Drama', 'genre_Education', 'genre_Extreme Sports',\n",
       "       'genre_Family', 'genre_Fantasy', 'genre_Game Show',\n",
       "       'genre_Health and Fitness', 'genre_Horror', 'genre_Kids',\n",
       "       'genre_Lifestyle and Fashion', 'genre_Live Events and Specials',\n",
       "       'genre_Music', 'genre_News', 'genre_Others', 'genre_Reality',\n",
       "       'genre_Religion and Faith', 'genre_Romance', 'genre_Sci-Fi',\n",
       "       'genre_Sports', 'genre_Thriller', 'genre_eSports', 'country_code_BN',\n",
       "       'country_code_EG', 'country_code_GH', 'country_code_ID',\n",
       "       'country_code_IQ', 'country_code_KE', 'country_code_KH',\n",
       "       'country_code_LB', 'country_code_LK', 'country_code_MM',\n",
       "       'country_code_MY', 'country_code_NP', 'country_code_PH',\n",
       "       'country_code_PK', 'country_code_SD', 'country_code_TH',\n",
       "       'country_code_VN', 'country_code_ZW', 'source_language_Bengali',\n",
       "       'source_language_Burmese', 'source_language_Central Khmer',\n",
       "       'source_language_Chinese', 'source_language_Danish',\n",
       "       'source_language_English', 'source_language_French',\n",
       "       'source_language_Hindi', 'source_language_Hungarian',\n",
       "       'source_language_Indonesian', 'source_language_Italian',\n",
       "       'source_language_Japanese', 'source_language_Kanuri',\n",
       "       'source_language_Korean', 'source_language_Malay',\n",
       "       'source_language_Nepali', 'source_language_Norwegian',\n",
       "       'source_language_Portuguese', 'source_language_Spanish; Castilian',\n",
       "       'source_language_Swahili', 'source_language_Tagalog',\n",
       "       'source_language_Tajik', 'source_language_Tamil',\n",
       "       'source_language_Thai', 'source_language_Turkish',\n",
       "       'source_language_Urdu', 'source_language_Vietnamese',\n",
       "       'platform_type_mobile_phone', 'platform_type_web_based'],\n",
       "      dtype='object')"
      ]
     },
     "execution_count": 83,
     "metadata": {},
     "output_type": "execute_result"
    }
   ],
   "source": [
    "df_train.columns"
   ]
  }
 ],
 "metadata": {
  "instance_type": "ml.t3.medium",
  "kernelspec": {
   "display_name": "Python 3 (Data Science)",
   "language": "python",
   "name": "python3__SAGEMAKER_INTERNAL__arn:aws:sagemaker:us-east-1:081325390199:image/datascience-1.0"
  },
  "language_info": {
   "codemirror_mode": {
    "name": "ipython",
    "version": 3
   },
   "file_extension": ".py",
   "mimetype": "text/x-python",
   "name": "python",
   "nbconvert_exporter": "python",
   "pygments_lexer": "ipython3",
   "version": "3.7.10"
  }
 },
 "nbformat": 4,
 "nbformat_minor": 4
}
