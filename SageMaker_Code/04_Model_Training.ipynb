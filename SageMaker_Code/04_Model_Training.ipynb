{
 "cells": [
  {
   "cell_type": "markdown",
   "metadata": {},
   "source": [
    "## Load required libraries"
   ]
  },
  {
   "cell_type": "code",
   "execution_count": 1,
   "metadata": {},
   "outputs": [],
   "source": [
    "import boto3\n",
    "import sagemaker\n",
    "from sagemaker.xgboost.estimator import XGBoost\n",
    "from sagemaker.session import Session\n",
    "\n",
    "sess = sagemaker.Session()\n",
    "role = sagemaker.get_execution_role()\n",
    "region = boto3.Session().region_name"
   ]
  },
  {
   "cell_type": "markdown",
   "metadata": {},
   "source": [
    "## Create an XGBoost estimator"
   ]
  },
  {
   "cell_type": "code",
   "execution_count": 2,
   "metadata": {},
   "outputs": [
    {
     "name": "stdout",
     "output_type": "stream",
     "text": [
      "683313688378.dkr.ecr.us-east-1.amazonaws.com/sagemaker-xgboost:1.2-1\n"
     ]
    }
   ],
   "source": [
    "# Construct a SageMaker estimator that calls the xgboost-container\n",
    "\n",
    "from sagemaker.debugger import Rule, rule_configs\n",
    "from sagemaker import image_uris\n",
    "\n",
    "bucket = \"ads508-team4-xgboost\"\n",
    "prefix = \"models\"\n",
    "s3_output_location='s3://{}/{}/{}'.format(bucket, prefix, 'xgboost')\n",
    "\n",
    "# Set up container\n",
    "\n",
    "container = sagemaker.image_uris.retrieve(\"xgboost\", region, \"1.2-1\")\n",
    "print(container)\n",
    "\n",
    "xgb_model = sagemaker.estimator.Estimator(\n",
    "    image_uri = container,\n",
    "    role = role,\n",
    "    instance_count = 1,\n",
    "    instance_type = 'ml.m5.large',\n",
    "    volume_size = 5,\n",
    "    output_path = s3_output_location,\n",
    "    sagemaker_session = sagemaker.Session(),\n",
    "    rules = [Rule.sagemaker(rule_configs.create_xgboost_report())]\n",
    ")"
   ]
  },
  {
   "cell_type": "markdown",
   "metadata": {},
   "source": [
    "## Set hyperparameters for xgboost"
   ]
  },
  {
   "cell_type": "code",
   "execution_count": 3,
   "metadata": {},
   "outputs": [],
   "source": [
    "xgb_model.set_hyperparameters(\n",
    "    max_depth = 5,\n",
    "    eta = 0.2,\n",
    "    gamma = 4,\n",
    "    min_child_weight = 6,\n",
    "    subsample = 0.7,\n",
    "    objective = \"multi:softmax\",\n",
    "    num_round = 20,\n",
    "    num_class = 8\n",
    ")"
   ]
  },
  {
   "cell_type": "markdown",
   "metadata": {},
   "source": [
    "## Set path for input files"
   ]
  },
  {
   "cell_type": "code",
   "execution_count": 6,
   "metadata": {},
   "outputs": [],
   "source": [
    "from sagemaker.session import TrainingInput\n",
    "\n",
    "content_type = \"csv\"\n",
    "\n",
    "train_input = TrainingInput('s3://ads508-team4-split/train/df_train.csv',content_type = content_type)\n",
    "validation_input = TrainingInput('s3://ads508-team4-split/validation/df_validation.csv', content_type = content_type)\n",
    "test_input = TrainingInput('s3://ads508-team4-split/test/df_test.csv', content_type = content_type)"
   ]
  },
  {
   "cell_type": "markdown",
   "metadata": {},
   "source": [
    "## Start Training"
   ]
  },
  {
   "cell_type": "code",
   "execution_count": 7,
   "metadata": {},
   "outputs": [
    {
     "name": "stdout",
     "output_type": "stream",
     "text": [
      "2022-03-30 03:32:35 Starting - Starting the training job...\n",
      "2022-03-30 03:32:38 Starting - Launching requested ML instancesCreateXgboostReport: InProgress\n",
      "ProfilerReport-1648611155: InProgress\n",
      ".........\n",
      "2022-03-30 03:34:35 Starting - Preparing the instances for training......\n",
      "2022-03-30 03:35:35 Downloading - Downloading input data...\n",
      "2022-03-30 03:36:07 Training - Downloading the training image......\n",
      "2022-03-30 03:37:05 Training - Training image download completed. Training in progress.\u001b[34m[2022-03-30 03:36:47.656 ip-10-0-91-44.ec2.internal:1 INFO utils.py:27] RULE_JOB_STOP_SIGNAL_FILENAME: None\u001b[0m\n",
      "\u001b[34mINFO:sagemaker-containers:Imported framework sagemaker_xgboost_container.training\u001b[0m\n",
      "\u001b[34mINFO:sagemaker-containers:Failed to parse hyperparameter objective value multi:softmax to Json.\u001b[0m\n",
      "\u001b[34mReturning the value itself\u001b[0m\n",
      "\u001b[34mINFO:sagemaker-containers:No GPUs detected (normal if no gpus installed)\u001b[0m\n",
      "\u001b[34mINFO:sagemaker_xgboost_container.training:Running XGBoost Sagemaker in algorithm mode\u001b[0m\n",
      "\u001b[34mINFO:root:Determined delimiter of CSV input is ','\u001b[0m\n",
      "\u001b[34mINFO:root:Determined delimiter of CSV input is ','\u001b[0m\n",
      "\u001b[34mINFO:root:Single node training.\u001b[0m\n",
      "\u001b[34m[2022-03-30 03:36:48.542 ip-10-0-91-44.ec2.internal:1 INFO json_config.py:91] Creating hook from json_config at /opt/ml/input/config/debughookconfig.json.\u001b[0m\n",
      "\u001b[34m[2022-03-30 03:36:48.543 ip-10-0-91-44.ec2.internal:1 INFO hook.py:199] tensorboard_dir has not been set for the hook. SMDebug will not be exporting tensorboard summaries.\u001b[0m\n",
      "\u001b[34m[2022-03-30 03:36:48.543 ip-10-0-91-44.ec2.internal:1 INFO profiler_config_parser.py:102] User has disabled profiler.\u001b[0m\n",
      "\u001b[34m[2022-03-30 03:36:48.544 ip-10-0-91-44.ec2.internal:1 INFO hook.py:253] Saving to /opt/ml/output/tensors\u001b[0m\n",
      "\u001b[34m[2022-03-30 03:36:48.544 ip-10-0-91-44.ec2.internal:1 INFO state_store.py:77] The checkpoint config file /opt/ml/input/config/checkpointconfig.json does not exist.\u001b[0m\n",
      "\u001b[34mINFO:root:Debug hook created from config\u001b[0m\n",
      "\u001b[34mINFO:root:Train matrix has 247285 rows and 78 columns\u001b[0m\n",
      "\u001b[34m[0]#011train-merror:0.00000\u001b[0m\n",
      "\u001b[34m[2022-03-30 03:36:51.419 ip-10-0-91-44.ec2.internal:1 INFO hook.py:413] Monitoring the collections: feature_importance, hyperparameters, predictions, labels, metrics\u001b[0m\n",
      "\u001b[34m[2022-03-30 03:36:51.432 ip-10-0-91-44.ec2.internal:1 INFO hook.py:476] Hook is writing from the hook with pid: 1\u001b[0m\n",
      "\u001b[34m[2022-03-30 03:36:51.523 ip-10-0-91-44.ec2.internal:1 WARNING hook.py:250] To log predictions, 'validation_data' parameter must be provided.\u001b[0m\n",
      "\u001b[34m[2022-03-30 03:36:51.525 ip-10-0-91-44.ec2.internal:1 WARNING hook.py:257] To log labels, 'validation_data' parameter must be provided.\u001b[0m\n",
      "\u001b[34m[1]#011train-merror:0.00000\u001b[0m\n",
      "\u001b[34m[2]#011train-merror:0.00000\u001b[0m\n",
      "\u001b[34m[3]#011train-merror:0.00000\u001b[0m\n",
      "\u001b[34m[4]#011train-merror:0.00000\u001b[0m\n",
      "\u001b[34m[5]#011train-merror:0.00000\u001b[0m\n",
      "\u001b[34m[2022-03-30 03:37:03.748 ip-10-0-91-44.ec2.internal:1 WARNING hook.py:250] To log predictions, 'validation_data' parameter must be provided.\u001b[0m\n",
      "\u001b[34m[2022-03-30 03:37:03.749 ip-10-0-91-44.ec2.internal:1 WARNING hook.py:257] To log labels, 'validation_data' parameter must be provided.\u001b[0m\n",
      "\u001b[34m[6]#011train-merror:0.00000\u001b[0m\n",
      "\u001b[34m[7]#011train-merror:0.00000\u001b[0m\n",
      "\u001b[34m[8]#011train-merror:0.00000\u001b[0m\n",
      "\u001b[34m[9]#011train-merror:0.00000\u001b[0m\n",
      "\u001b[34m[10]#011train-merror:0.00000\u001b[0m\n",
      "\u001b[34m[2022-03-30 03:37:15.735 ip-10-0-91-44.ec2.internal:1 WARNING hook.py:250] To log predictions, 'validation_data' parameter must be provided.\u001b[0m\n",
      "\u001b[34m[2022-03-30 03:37:15.735 ip-10-0-91-44.ec2.internal:1 WARNING hook.py:257] To log labels, 'validation_data' parameter must be provided.\u001b[0m\n",
      "\n",
      "2022-03-30 03:37:40 Uploading - Uploading generated training model\u001b[34m[11]#011train-merror:0.00000\u001b[0m\n",
      "\u001b[34m[12]#011train-merror:0.00000\u001b[0m\n",
      "\u001b[34m[13]#011train-merror:0.00000\u001b[0m\n",
      "\u001b[34m[14]#011train-merror:0.00000\u001b[0m\n",
      "\u001b[34m[15]#011train-merror:0.00000\u001b[0m\n",
      "\u001b[34m[16]#011train-merror:0.00000\u001b[0m\n",
      "\u001b[34m[17]#011train-merror:0.00000\u001b[0m\n",
      "\u001b[34m[18]#011train-merror:0.00000\u001b[0m\n",
      "\u001b[34m[19]#011train-merror:0.00000\u001b[0m\n",
      "\n",
      "2022-03-30 03:38:05 Completed - Training job completed\n",
      "Training seconds: 136\n",
      "Billable seconds: 136\n"
     ]
    }
   ],
   "source": [
    "xgb_model.fit({\"train\": train_input, \"train\": train_input}, wait=True)"
   ]
  },
  {
   "cell_type": "markdown",
   "metadata": {},
   "source": [
    "# Show the name of the training job"
   ]
  },
  {
   "cell_type": "code",
   "execution_count": 8,
   "metadata": {},
   "outputs": [
    {
     "name": "stdout",
     "output_type": "stream",
     "text": [
      "Training Job Name:  sagemaker-xgboost-2022-03-30-03-32-35-528\n"
     ]
    }
   ],
   "source": [
    "training_job_name = xgb_model.latest_training_job.name\n",
    "print(\"Training Job Name:  {}\".format(training_job_name))"
   ]
  },
  {
   "cell_type": "markdown",
   "metadata": {},
   "source": [
    "# Show training job metrics"
   ]
  },
  {
   "cell_type": "code",
   "execution_count": 9,
   "metadata": {},
   "outputs": [
    {
     "name": "stderr",
     "output_type": "stream",
     "text": [
      "Warning: No metrics called train:mae found\n",
      "Warning: No metrics called validation:mae found\n",
      "Warning: No metrics called validation:merror found\n",
      "Warning: No metrics called train:rmse found\n",
      "Warning: No metrics called validation:accuracy found\n",
      "Warning: No metrics called train:mlogloss found\n",
      "Warning: No metrics called validation:balanced_accuracy found\n",
      "Warning: No metrics called train:cox-nloglik found\n",
      "Warning: No metrics called validation:f1 found\n",
      "Warning: No metrics called validation:rmse found\n",
      "Warning: No metrics called validation:cox-nloglik found\n",
      "Warning: No metrics called validation:mse found\n",
      "Warning: No metrics called validation:ndcg found\n",
      "Warning: No metrics called train:accuracy found\n",
      "Warning: No metrics called train:mse found\n",
      "Warning: No metrics called train:f1 found\n",
      "Warning: No metrics called validation:mlogloss found\n",
      "Warning: No metrics called train:ndcg found\n",
      "Warning: No metrics called train:map found\n",
      "Warning: No metrics called validation:map found\n"
     ]
    },
    {
     "data": {
      "text/html": [
       "<div>\n",
       "<style scoped>\n",
       "    .dataframe tbody tr th:only-of-type {\n",
       "        vertical-align: middle;\n",
       "    }\n",
       "\n",
       "    .dataframe tbody tr th {\n",
       "        vertical-align: top;\n",
       "    }\n",
       "\n",
       "    .dataframe thead th {\n",
       "        text-align: right;\n",
       "    }\n",
       "</style>\n",
       "<table border=\"1\" class=\"dataframe\">\n",
       "  <thead>\n",
       "    <tr style=\"text-align: right;\">\n",
       "      <th></th>\n",
       "      <th>timestamp</th>\n",
       "      <th>metric_name</th>\n",
       "      <th>value</th>\n",
       "    </tr>\n",
       "  </thead>\n",
       "  <tbody>\n",
       "    <tr>\n",
       "      <th>0</th>\n",
       "      <td>0.0</td>\n",
       "      <td>train:merror</td>\n",
       "      <td>0.0</td>\n",
       "    </tr>\n",
       "  </tbody>\n",
       "</table>\n",
       "</div>"
      ],
      "text/plain": [
       "   timestamp   metric_name  value\n",
       "0        0.0  train:merror    0.0"
      ]
     },
     "execution_count": 9,
     "metadata": {},
     "output_type": "execute_result"
    }
   ],
   "source": [
    "xgb_model.training_job_analytics.dataframe()"
   ]
  },
  {
   "cell_type": "code",
   "execution_count": null,
   "metadata": {},
   "outputs": [],
   "source": []
  }
 ],
 "metadata": {
  "instance_type": "ml.t3.medium",
  "kernelspec": {
   "display_name": "Python 3 (Data Science)",
   "language": "python",
   "name": "python3__SAGEMAKER_INTERNAL__arn:aws:sagemaker:us-east-1:081325390199:image/datascience-1.0"
  },
  "language_info": {
   "codemirror_mode": {
    "name": "ipython",
    "version": 3
   },
   "file_extension": ".py",
   "mimetype": "text/x-python",
   "name": "python",
   "nbconvert_exporter": "python",
   "pygments_lexer": "ipython3",
   "version": "3.7.10"
  }
 },
 "nbformat": 4,
 "nbformat_minor": 4
}
